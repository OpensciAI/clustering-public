{
 "cells": [
  {
   "cell_type": "markdown",
   "id": "f5effcc1-87fd-4331-90c8-8fec5b30df2c",
   "metadata": {},
   "source": [
    "# Product takers and non product takers summary."
   ]
  },
  {
   "cell_type": "markdown",
   "id": "fdf546bf-4238-4994-ae66-300b4bfb6a79",
   "metadata": {},
   "source": [
    "Looking into the distribution between product takers and non-product takers."
   ]
  },
  {
   "cell_type": "code",
   "execution_count": 2,
   "id": "6aef2ec3-ca8a-4320-a998-361282001606",
   "metadata": {},
   "outputs": [],
   "source": [
    "import pandas as pd\n",
    "import numpy as np\n",
    "from pyathena import connect\n",
    "from pyathena.pandas.cursor import PandasCursor\n",
    "import matplotlib.pyplot as plt\n",
    "import seaborn as sns\n",
    "import plotly.express as px\n",
    "import scipy as scipy\n",
    "from sklearn.cluster import KMeans\n",
    "from sklearn.metrics import adjusted_rand_score"
   ]
  },
  {
   "cell_type": "code",
   "execution_count": 3,
   "id": "af4fb847-9927-4621-b5fc-f18e18f7c27b",
   "metadata": {},
   "outputs": [],
   "source": [
    "from sensorfabric.athena import athena"
   ]
  },
  {
   "cell_type": "code",
   "execution_count": 4,
   "id": "3c701677-7df9-49c5-84f0-403193fd54b4",
   "metadata": {},
   "outputs": [
    {
     "name": "stdout",
     "output_type": "stream",
     "text": [
      "env: AWS_PROFILE=opensci\n"
     ]
    }
   ],
   "source": [
    "%set_env AWS_PROFILE=opensci\n",
    "db = athena(database='menolife', workgroup='amyris', offlineCache=True)"
   ]
  },
  {
   "cell_type": "markdown",
   "id": "d36963d3-c14b-4685-b537-5eb3b1cb6e5d",
   "metadata": {
    "tags": []
   },
   "source": [
    "Number of people who are product takers who have healthid (those who entered symptom data). - 9225"
   ]
  },
  {
   "cell_type": "code",
   "execution_count": 9,
   "id": "ea4dc371-92bf-44ad-a7b8-e5dd98ddbd6a",
   "metadata": {},
   "outputs": [],
   "source": [
    "results = db.execQuery(\"\"\"\n",
    "    select count(distinct(healthid)) c from product_healthid\n",
    "\"\"\", cached=True)"
   ]
  },
  {
   "cell_type": "code",
   "execution_count": 10,
   "id": "833132e1-ef9a-4ef5-93a3-20bd403ec96e",
   "metadata": {},
   "outputs": [
    {
     "name": "stdout",
     "output_type": "stream",
     "text": [
      "0    9225\n",
      "Name: c, dtype: object\n"
     ]
    }
   ],
   "source": [
    "print(results['c'])"
   ]
  },
  {
   "cell_type": "markdown",
   "id": "3254a9e5-e1e9-46a0-83a3-1808b499fa14",
   "metadata": {},
   "source": [
    "Percentage of users who reported symptoms that are product takers and non-product takers."
   ]
  },
  {
   "cell_type": "code",
   "execution_count": 19,
   "id": "6aa25e6e-d2c3-4f8b-9b68-6a36909a2a47",
   "metadata": {},
   "outputs": [],
   "source": [
    "ts = db.execQuery('select count(distinct(uid)) c from symptompp', cached=True)\n",
    "pt = db.execQuery(\"\"\"\n",
    "    select count(distinct(uid)) c from \"symptompp\"\n",
    "    where uid in (select \"healthid\" from \"product_healthid\") \n",
    "\"\"\", cached=True)"
   ]
  },
  {
   "cell_type": "code",
   "execution_count": 23,
   "id": "fe723927-c202-48e9-b863-d8a5bd6e5552",
   "metadata": {},
   "outputs": [
    {
     "data": {
      "text/html": [
       "<div>\n",
       "<style scoped>\n",
       "    .dataframe tbody tr th:only-of-type {\n",
       "        vertical-align: middle;\n",
       "    }\n",
       "\n",
       "    .dataframe tbody tr th {\n",
       "        vertical-align: top;\n",
       "    }\n",
       "\n",
       "    .dataframe thead th {\n",
       "        text-align: right;\n",
       "    }\n",
       "</style>\n",
       "<table border=\"1\" class=\"dataframe\">\n",
       "  <thead>\n",
       "    <tr style=\"text-align: right;\">\n",
       "      <th></th>\n",
       "      <th>Total Users</th>\n",
       "      <th>Product Takers</th>\n",
       "      <th>PT %</th>\n",
       "      <th>Non-Product Takers</th>\n",
       "      <th>NPT %</th>\n",
       "    </tr>\n",
       "  </thead>\n",
       "  <tbody>\n",
       "    <tr>\n",
       "      <th>0</th>\n",
       "      <td>25324</td>\n",
       "      <td>4613</td>\n",
       "      <td>18.22</td>\n",
       "      <td>20711</td>\n",
       "      <td>81.78</td>\n",
       "    </tr>\n",
       "  </tbody>\n",
       "</table>\n",
       "</div>"
      ],
      "text/plain": [
       "   Total Users  Product Takers   PT %  Non-Product Takers  NPT %\n",
       "0        25324            4613  18.22               20711  81.78"
      ]
     },
     "execution_count": 23,
     "metadata": {},
     "output_type": "execute_result"
    }
   ],
   "source": [
    "pd.DataFrame(\n",
    "    {\n",
    "        'Total Users' : ts['c'],\n",
    "        'Product Takers' : pt['c'],\n",
    "        'PT %' : np.round((pt['c']*100.0)/ts['c'], 2),\n",
    "        'Non-Product Takers' : ts['c'] - pt['c'],\n",
    "        'NPT %' : np.round(((ts['c'] - pt['c'])*100.0)/ts['c'], 2)\n",
    "    }\n",
    ")"
   ]
  }
 ],
 "metadata": {
  "kernelspec": {
   "display_name": "Python 3 (ipykernel)",
   "language": "python",
   "name": "python3"
  },
  "language_info": {
   "codemirror_mode": {
    "name": "ipython",
    "version": 3
   },
   "file_extension": ".py",
   "mimetype": "text/x-python",
   "name": "python",
   "nbconvert_exporter": "python",
   "pygments_lexer": "ipython3",
   "version": "3.11.3"
  }
 },
 "nbformat": 4,
 "nbformat_minor": 5
}
