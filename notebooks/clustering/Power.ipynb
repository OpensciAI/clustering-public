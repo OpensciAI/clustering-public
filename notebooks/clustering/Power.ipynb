{
 "cells": [
  {
   "cell_type": "markdown",
   "id": "2dbe7f04-d9f7-442c-b8db-c63ab695959d",
   "metadata": {},
   "source": [
    "## Let's simulate multiple comparisons for this power analysis"
   ]
  },
  {
   "cell_type": "markdown",
   "id": "54f9e25e-0f86-41ba-9788-3f05a355f44d",
   "metadata": {},
   "source": [
    "### Two drugs (Drug A and Drug B) with a placebo control.\n",
    "Each participant will take either placebo or one of the two drugs for 7 days per condition.\n",
    "We want to detect a 1 point difference in responses to the drugs. Presume that the STDEV is 2.\n",
    "Find out how many participants are needed per group, and compare anova, mulitple comparison correction (p vs. drug a, p vs. drug b, drug a vs. drug b). Simulate results from a repeated measures anova.\n",
    "Adjust the parameters below to test cohort size. \n",
    "\n",
    "Assuming in the first two that you'll average within-individual measures for the inter-group comparison and that variance will be consistent. "
   ]
  },
  {
   "cell_type": "code",
   "execution_count": null,
   "id": "58634fd6-e7dc-43a1-88b3-29673f69ace9",
   "metadata": {},
   "outputs": [],
   "source": [
    "#Note 45 people gets you to a 0.9 power with a KW simulation. More lenient; probably ok given many reps per person."
   ]
  },
  {
   "cell_type": "markdown",
   "id": "b9abc2c9-f9dc-4cd0-9ae8-8643b834f105",
   "metadata": {},
   "source": [
    "## Using stats model power anova to test"
   ]
  },
  {
   "cell_type": "code",
   "execution_count": 23,
   "id": "f6e31030-6c39-4dea-b3a4-9a67759b0d9a",
   "metadata": {},
   "outputs": [
    {
     "name": "stdout",
     "output_type": "stream",
     "text": [
      "Effect Size: 0\n",
      "Required sample size per group: 53 participants\n",
      "Total sample size: 1504 measures\n"
     ]
    }
   ],
   "source": [
    "import statsmodels.stats.power as smp\n",
    "\n",
    "# Set parameters\n",
    "effect_size = 1/2  # # Desired effect size (difference of 2 points divided by standard dev of 3 points)\n",
    "alpha = 0.05\n",
    "power = 0.90  # Adjust as needed\n",
    "#nobs=50\n",
    "n_conditions = 3  # Placebo, Drug A, Drug B\n",
    "n_measurements = 28  # Total measurements per participant (7 for placebo, 7 for drug)\n",
    "\n",
    "# Calculate the required sample size for each group\n",
    "nobs = smp.FTestAnovaPower().solve_power(effect_size=effect_size, nobs=None, alpha=alpha, power=power, k_groups=n_conditions)\n",
    "\n",
    "# Calculate the total required sample size (participants) needed\n",
    "total_sample_size = nobs * n_measurements\n",
    "\n",
    "print(f\"Effect Size: {int(effect_size)}\")\n",
    "print(f\"Required sample size per group: {int(nobs)} participants\")\n",
    "print(f\"Total sample size: {int(total_sample_size)} measures\")\n"
   ]
  },
  {
   "cell_type": "markdown",
   "id": "0704160b-7d6e-4dad-86d3-5d9368f44f1d",
   "metadata": {
    "tags": []
   },
   "source": [
    "### With a correction for multiple comparisons - placebo vs. drug a, placebo vs. drug b, drug a vs. drug b"
   ]
  },
  {
   "cell_type": "code",
   "execution_count": 15,
   "id": "1ef0777a-4ecb-4ca3-995b-7d7081aa1543",
   "metadata": {},
   "outputs": [
    {
     "name": "stdout",
     "output_type": "stream",
     "text": [
      "Required sample size for adjusted alpha (0.016666666666666666): 33 subjects\n"
     ]
    }
   ],
   "source": [
    "import statsmodels.stats.power as smp\n",
    "import numpy as np\n",
    "\n",
    "# Set parameters\n",
    "effect_size = 2/3  # Desired effect size (difference of 1 point divided by standard dev of 2)\n",
    "alpha = 0.05  # Individual significance level\n",
    "power = 0.90  # Desired power\n",
    "n_subjects_per_group = 30  # Number of subjects per group\n",
    "n_conditions_per_group = 2  # Number of conditions per group\n",
    "n_measurements_per_condition = 14  # Number of measurements per condition\n",
    "n_comparisons = 3  # Number of pairwise comparisons (placebo + drug A), (placebo + drug B)\n",
    "\n",
    "# Calculate adjusted alpha to control familywise error rate (e.g., Bonferroni correction)\n",
    "adjusted_alpha = alpha / n_comparisons\n",
    "\n",
    "# Calculate power analytically for adjusted alpha\n",
    "nobs = smp.FTestAnovaPower().solve_power(effect_size, nobs=None, alpha=adjusted_alpha, power=power, k_groups=n_conditions_per_group)\n",
    "\n",
    "# Print the required sample size for adjusted alpha\n",
    "print(f\"Required sample size for adjusted alpha ({adjusted_alpha}): {int(nobs)} subjects\")\n"
   ]
  },
  {
   "cell_type": "markdown",
   "id": "d53ec008-e01d-400c-af91-8323a1ec0cf8",
   "metadata": {
    "jp-MarkdownHeadingCollapsed": true,
    "tags": []
   },
   "source": [
    "## Alternately, simulate repeated measures anova. This simulation takes a while to run, use with caution "
   ]
  },
  {
   "cell_type": "code",
   "execution_count": 9,
   "id": "7f3a122a-8020-4ab8-99fe-307930df457e",
   "metadata": {},
   "outputs": [],
   "source": [
    "import numpy as np\n",
    "import statsmodels.api as sm\n",
    "import statsmodels.formula.api as smf\n",
    "import pandas as pd"
   ]
  },
  {
   "cell_type": "code",
   "execution_count": 10,
   "id": "a40639f1-850c-4931-ab82-71868e190a56",
   "metadata": {},
   "outputs": [],
   "source": [
    "# Set parameters\n",
    "effect_size = 0.5  # Desired effect size\n",
    "alpha = 0.05  # Significance level\n",
    "power = 0.90  # Desired power\n",
    "n_measurements = 14*45*2 # Number of measurements per subject (7 days in a week, 2 weeks), times the number of participants, times the number of groups (placebo+a, placebo +b)\n",
    "simulations = 10  # Number of simulations\n",
    "\n",
    "# Initialize a counter for significant results\n",
    "significant_results = 0"
   ]
  },
  {
   "cell_type": "code",
   "execution_count": null,
   "id": "7facdc02-d1ea-4d12-9636-4c530f4ac910",
   "metadata": {},
   "outputs": [],
   "source": [
    "# Perform simulations\n",
    "for _ in range(simulations):\n",
    "    # Generate synthetic data\n",
    "    np.random.seed()  # Random seed for each simulation\n",
    "    data = {\n",
    "        'Subject': np.repeat(range(n_measurements), n_measurements),\n",
    "        'Measurement': np.tile(range(n_measurements), n_measurements),\n",
    "        'Value': np.random.normal(loc=effect_size, scale=1, size=n_measurements ** 2)\n",
    "    }\n",
    "\n",
    "    # Create a DataFrame\n",
    "    df = pd.DataFrame(data)\n",
    "\n",
    "    # Fit a repeated measures ANOVA model\n",
    "    model = smf.ols('Value ~ Measurement + C(Subject)', data=df).fit()\n",
    "\n",
    "    # Perform ANOVA\n",
    "    aov_table = sm.stats.anova_lm(model, typ=2)\n",
    "\n",
    "    # Check if the p-value is less than alpha\n",
    "    if aov_table['PR(>F)']['C(Subject)'] < alpha:\n",
    "        significant_results += 1"
   ]
  },
  {
   "cell_type": "code",
   "execution_count": 27,
   "id": "65090b4e-dee7-4189-ad0b-2d57a77559bc",
   "metadata": {},
   "outputs": [
    {
     "name": "stdout",
     "output_type": "stream",
     "text": [
      "Estimated Power: 0.100\n"
     ]
    }
   ],
   "source": [
    "\n",
    "# Calculate power as the proportion of significant results\n",
    "calculated_power = significant_results / simulations\n",
    "\n",
    "# Print the estimated power\n",
    "print(f\"Estimated Power: {calculated_power:.3f}\")\n"
   ]
  }
 ],
 "metadata": {
  "kernelspec": {
   "display_name": "Python 3 (ipykernel)",
   "language": "python",
   "name": "python3"
  },
  "language_info": {
   "codemirror_mode": {
    "name": "ipython",
    "version": 3
   },
   "file_extension": ".py",
   "mimetype": "text/x-python",
   "name": "python",
   "nbconvert_exporter": "python",
   "pygments_lexer": "ipython3",
   "version": "3.11.3"
  }
 },
 "nbformat": 4,
 "nbformat_minor": 5
}
