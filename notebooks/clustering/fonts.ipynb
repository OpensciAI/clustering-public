{
 "cells": [
  {
   "cell_type": "markdown",
   "id": "927ad4e1-cf41-48de-9b89-e00ad9580862",
   "metadata": {},
   "source": [
    "# Figuring out what all fonts we have in the system to work with."
   ]
  },
  {
   "cell_type": "code",
   "execution_count": 1,
   "id": "c0d1c63f-e3a2-4c1a-ba16-ded389de74c9",
   "metadata": {},
   "outputs": [],
   "source": [
    "import matplotlib.font_manager\n",
    "import matplotlib.pyplot as plt"
   ]
  },
  {
   "cell_type": "code",
   "execution_count": 2,
   "id": "02557b98-0a85-4f28-889f-7061208874f3",
   "metadata": {},
   "outputs": [
    {
     "name": "stdout",
     "output_type": "stream",
     "text": [
      "['/home/ubuntu/anaconda3/envs/menolife/fonts/courbd.ttf', '/usr/share/fonts/opentype/urw-base35/NimbusRoman-Regular.otf', '/usr/share/fonts/truetype/msttcorefonts/georgiaz.ttf', '/usr/share/fonts/truetype/msttcorefonts/Impact.ttf', '/usr/share/fonts/truetype/liberation/LiberationSans-Italic.ttf', '/home/ubuntu/anaconda3/envs/menolife/fonts/impact.ttf', '/usr/share/fonts/truetype/msttcorefonts/Trebuchet_MS.ttf', '/usr/share/fonts/truetype/msttcorefonts/comic.ttf', '/usr/share/fonts/truetype/msttcorefonts/Arial_Italic.ttf', '/usr/share/fonts/opentype/urw-base35/NimbusMonoPS-BoldItalic.otf', '/home/ubuntu/anaconda3/envs/menolife/fonts/georgiab.ttf', '/usr/share/fonts/truetype/msttcorefonts/trebucbi.ttf', '/usr/share/fonts/opentype/urw-base35/P052-BoldItalic.otf', '/usr/share/fonts/opentype/urw-base35/D050000L.otf', '/usr/share/fonts/opentype/urw-base35/StandardSymbolsPS.otf', '/home/ubuntu/anaconda3/envs/menolife/fonts/verdanaz.ttf', '/usr/share/fonts/opentype/urw-base35/C059-BdIta.otf', '/usr/share/fonts/truetype/msttcorefonts/timesi.ttf', '/usr/share/fonts/opentype/urw-base35/NimbusMonoPS-Bold.otf', '/usr/share/fonts/opentype/urw-base35/NimbusSansNarrow-Regular.otf', '/usr/share/fonts/truetype/msttcorefonts/comicbd.ttf', '/usr/share/fonts/truetype/liberation/LiberationSerif-Italic.ttf', '/home/ubuntu/anaconda3/envs/menolife/fonts/courbi.ttf', '/home/ubuntu/anaconda3/envs/menolife/fonts/verdana.ttf', '/usr/share/fonts/truetype/msttcorefonts/verdana.ttf', '/usr/share/fonts/truetype/droid/DroidSansFallbackFull.ttf', '/usr/share/fonts/truetype/msttcorefonts/Arial_Bold_Italic.ttf', '/usr/share/fonts/truetype/liberation/LiberationSerif-BoldItalic.ttf', '/usr/share/fonts/truetype/msttcorefonts/couri.ttf', '/usr/share/fonts/opentype/urw-base35/NimbusSansNarrow-BoldOblique.otf', '/usr/share/fonts/opentype/freefont/FreeSerifBoldItalic.otf', '/usr/share/fonts/truetype/msttcorefonts/ariali.ttf', '/usr/share/fonts/opentype/urw-base35/NimbusMonoPS-Regular.otf', '/usr/share/fonts/truetype/liberation/LiberationMono-Italic.ttf', '/usr/share/fonts/truetype/msttcorefonts/verdanai.ttf', '/usr/share/fonts/truetype/msttcorefonts/Arial.ttf', '/usr/share/fonts/truetype/liberation/LiberationSansNarrow-Bold.ttf', '/usr/share/fonts/opentype/freefont/FreeSans.otf', '/usr/share/fonts/truetype/msttcorefonts/timesbd.ttf', '/home/ubuntu/anaconda3/envs/menolife/fonts/georgiai.ttf', '/usr/share/fonts/opentype/urw-base35/P052-Roman.otf', '/usr/share/fonts/opentype/urw-base35/NimbusSans-Italic.otf', '/usr/share/fonts/truetype/liberation/LiberationSansNarrow-BoldItalic.ttf', '/usr/share/fonts/opentype/urw-base35/P052-Italic.otf', '/usr/share/fonts/opentype/urw-base35/NimbusSans-Regular.otf', '/home/ubuntu/anaconda3/envs/menolife/fonts/verdanab.ttf', '/usr/share/fonts/opentype/freefont/FreeSerifItalic.otf', '/home/ubuntu/anaconda3/envs/menolife/fonts/andalemo.ttf', '/usr/share/fonts/truetype/msttcorefonts/Trebuchet_MS_Bold.ttf', '/usr/share/fonts/truetype/msttcorefonts/Courier_New_Bold.ttf', '/usr/share/fonts/truetype/msttcorefonts/Trebuchet_MS_Italic.ttf', '/home/ubuntu/anaconda3/envs/menolife/fonts/verdanai.ttf', '/usr/share/fonts/truetype/liberation/LiberationSans-BoldItalic.ttf', '/usr/share/fonts/truetype/msttcorefonts/Georgia.ttf', '/usr/share/fonts/opentype/urw-base35/URWGothic-Book.otf', '/usr/share/fonts/truetype/msttcorefonts/arialbi.ttf', '/home/ubuntu/anaconda3/envs/menolife/fonts/webdings.ttf', '/home/ubuntu/anaconda3/envs/menolife/fonts/timesbi.ttf', '/usr/share/fonts/truetype/liberation/LiberationSans-Regular.ttf', '/home/ubuntu/anaconda3/envs/menolife/fonts/trebucbd.ttf', '/usr/share/fonts/opentype/urw-base35/NimbusSansNarrow-Oblique.otf', '/usr/share/fonts/truetype/noto/NotoMono-Regular.ttf', '/usr/share/fonts/opentype/urw-base35/NimbusSans-Bold.otf', '/usr/share/fonts/truetype/msttcorefonts/Times_New_Roman_Italic.ttf', '/usr/share/fonts/truetype/msttcorefonts/Times_New_Roman.ttf', '/usr/share/fonts/truetype/msttcorefonts/trebucit.ttf', '/home/ubuntu/anaconda3/envs/menolife/fonts/ariali.ttf', '/usr/share/fonts/opentype/urw-base35/C059-Italic.otf', '/usr/share/fonts/opentype/urw-base35/URWBookman-Light.otf', '/usr/share/fonts/truetype/msttcorefonts/georgiai.ttf', '/usr/share/fonts/truetype/msttcorefonts/Verdana_Italic.ttf', '/usr/share/fonts/truetype/msttcorefonts/cour.ttf', '/usr/share/fonts/truetype/msttcorefonts/ariblk.ttf', '/usr/share/fonts/truetype/msttcorefonts/webdings.ttf', '/usr/share/fonts/opentype/freefont/FreeSansBold.otf', '/usr/share/fonts/truetype/msttcorefonts/Georgia_Bold.ttf', '/usr/share/fonts/opentype/urw-base35/URWBookman-LightItalic.otf', '/usr/share/fonts/opentype/freefont/FreeSansBoldOblique.otf', '/usr/share/fonts/truetype/noto/NotoSansMono-Bold.ttf', '/usr/share/fonts/truetype/msttcorefonts/arial.ttf', '/usr/share/fonts/opentype/urw-base35/URWBookman-Demi.otf', '/usr/share/fonts/opentype/freefont/FreeSerif.otf', '/home/ubuntu/anaconda3/envs/menolife/fonts/ariblk.ttf', '/usr/share/fonts/truetype/msttcorefonts/georgiab.ttf', '/home/ubuntu/anaconda3/envs/menolife/fonts/georgia.ttf', '/usr/share/fonts/truetype/msttcorefonts/Trebuchet_MS_Bold_Italic.ttf', '/usr/share/fonts/truetype/msttcorefonts/Arial_Black.ttf', '/usr/share/fonts/opentype/urw-base35/C059-Roman.otf', '/home/ubuntu/anaconda3/envs/menolife/fonts/trebucbi.ttf', '/usr/share/fonts/opentype/urw-base35/C059-Bold.otf', '/usr/share/fonts/truetype/liberation/LiberationSansNarrow-Regular.ttf', '/usr/share/fonts/opentype/urw-base35/NimbusRoman-BoldItalic.otf', '/usr/share/fonts/truetype/msttcorefonts/Courier_New_Bold_Italic.ttf', '/usr/share/fonts/truetype/msttcorefonts/Verdana_Bold.ttf', '/home/ubuntu/anaconda3/envs/menolife/fonts/trebucit.ttf', '/usr/share/fonts/truetype/msttcorefonts/impact.ttf', '/usr/share/fonts/truetype/liberation/LiberationSans-Bold.ttf', '/usr/share/fonts/truetype/liberation/LiberationMono-BoldItalic.ttf', '/usr/share/fonts/truetype/msttcorefonts/courbi.ttf', '/usr/share/fonts/truetype/msttcorefonts/trebucbd.ttf', '/usr/share/fonts/truetype/msttcorefonts/Comic_Sans_MS.ttf', '/usr/share/fonts/truetype/liberation/LiberationMono-Regular.ttf', '/home/ubuntu/anaconda3/envs/menolife/fonts/comicbd.ttf', '/usr/share/fonts/truetype/msttcorefonts/Georgia_Bold_Italic.ttf', '/usr/share/fonts/truetype/msttcorefonts/courbd.ttf', '/usr/share/fonts/truetype/msttcorefonts/Courier_New_Italic.ttf', '/home/ubuntu/anaconda3/envs/menolife/fonts/times.ttf', '/usr/share/fonts/truetype/liberation/LiberationSerif-Regular.ttf', '/usr/share/fonts/truetype/msttcorefonts/Georgia_Italic.ttf', '/home/ubuntu/anaconda3/envs/menolife/fonts/timesbd.ttf', '/usr/share/fonts/truetype/msttcorefonts/Courier_New.ttf', '/usr/share/fonts/truetype/msttcorefonts/Verdana_Bold_Italic.ttf', '/usr/share/fonts/opentype/urw-base35/Z003-MediumItalic.otf', '/home/ubuntu/anaconda3/envs/menolife/fonts/timesi.ttf', '/usr/share/fonts/opentype/urw-base35/URWBookman-DemiItalic.otf', '/usr/share/fonts/truetype/msttcorefonts/Verdana.ttf', '/usr/share/fonts/opentype/freefont/FreeMonoBoldOblique.otf', '/usr/share/fonts/opentype/urw-base35/NimbusMonoPS-Italic.otf', '/usr/share/fonts/opentype/freefont/FreeSerifBold.otf', '/usr/share/fonts/truetype/msttcorefonts/verdanaz.ttf', '/usr/share/fonts/opentype/urw-base35/URWGothic-DemiOblique.otf', '/usr/share/fonts/opentype/freefont/FreeMonoOblique.otf', '/usr/share/fonts/opentype/urw-base35/URWGothic-Demi.otf', '/usr/share/fonts/truetype/msttcorefonts/georgia.ttf', '/usr/share/fonts/truetype/msttcorefonts/Andale_Mono.ttf', '/usr/share/fonts/truetype/liberation/LiberationMono-Bold.ttf', '/usr/share/fonts/truetype/msttcorefonts/andalemo.ttf', '/home/ubuntu/anaconda3/envs/menolife/fonts/arialbi.ttf', '/usr/share/fonts/opentype/freefont/FreeMono.otf', '/usr/share/fonts/truetype/msttcorefonts/trebuc.ttf', '/usr/share/fonts/truetype/msttcorefonts/Times_New_Roman_Bold.ttf', '/home/ubuntu/anaconda3/envs/menolife/fonts/arialbd.ttf', '/usr/share/fonts/truetype/msttcorefonts/Webdings.ttf', '/usr/share/fonts/opentype/urw-base35/URWGothic-BookOblique.otf', '/usr/share/fonts/truetype/liberation/LiberationSansNarrow-Italic.ttf', '/home/ubuntu/anaconda3/envs/menolife/fonts/arial.ttf', '/home/ubuntu/anaconda3/envs/menolife/fonts/comic.ttf', '/usr/share/fonts/truetype/msttcorefonts/timesbi.ttf', '/usr/share/fonts/truetype/msttcorefonts/arialbd.ttf', '/usr/share/fonts/opentype/urw-base35/NimbusSans-BoldItalic.otf', '/home/ubuntu/anaconda3/envs/menolife/fonts/trebuc.ttf', '/usr/share/fonts/truetype/noto/NotoSansMono-Regular.ttf', '/usr/share/fonts/opentype/freefont/FreeSansOblique.otf', '/usr/share/fonts/opentype/freefont/FreeMonoBold.otf', '/usr/share/fonts/truetype/msttcorefonts/Comic_Sans_MS_Bold.ttf', '/usr/share/fonts/opentype/urw-base35/NimbusRoman-Italic.otf', '/usr/share/fonts/truetype/msttcorefonts/Times_New_Roman_Bold_Italic.ttf', '/usr/share/fonts/truetype/msttcorefonts/times.ttf', '/usr/share/fonts/opentype/urw-base35/NimbusRoman-Bold.otf', '/usr/share/fonts/opentype/urw-base35/P052-Bold.otf', '/usr/share/fonts/truetype/msttcorefonts/verdanab.ttf', '/usr/share/fonts/truetype/msttcorefonts/Arial_Bold.ttf', '/usr/share/fonts/opentype/urw-base35/NimbusSansNarrow-Bold.otf', '/usr/share/fonts/truetype/liberation/LiberationSerif-Bold.ttf', '/home/ubuntu/anaconda3/envs/menolife/fonts/cour.ttf', '/home/ubuntu/anaconda3/envs/menolife/fonts/couri.ttf', '/home/ubuntu/anaconda3/envs/menolife/fonts/georgiaz.ttf']\n"
     ]
    }
   ],
   "source": [
    "print(matplotlib.font_manager.findSystemFonts(fontpaths=None, fontext='ttf'))"
   ]
  },
  {
   "cell_type": "markdown",
   "id": "5ef267b8-3336-4c03-8f4c-400005cdc3b5",
   "metadata": {},
   "source": [
    "Arial had to be installed from the Microsoft Core font package. Who knew Arial was a Microsoft font.\n",
    "Use the following commands to install it\n",
    "\n",
    "`sudo apt-get install ttf-mscorefonts-installer`"
   ]
  },
  {
   "cell_type": "code",
   "execution_count": 3,
   "id": "93aa0539-b2c1-4ee5-9bfe-28330ceb42b2",
   "metadata": {},
   "outputs": [
    {
     "data": {
      "text/plain": [
       "['Comic Sans MS',\n",
       " 'Impact',\n",
       " 'Verdana',\n",
       " 'Nimbus Roman',\n",
       " 'STIXSizeFourSym',\n",
       " 'Trebuchet MS',\n",
       " 'D050000L',\n",
       " 'DejaVu Serif Display',\n",
       " 'STIXNonUnicode',\n",
       " 'Droid Sans Fallback',\n",
       " 'STIXSizeOneSym',\n",
       " 'cmb10',\n",
       " 'STIXSizeFiveSym',\n",
       " 'cmsy10',\n",
       " 'cmtt10',\n",
       " 'FreeSerif',\n",
       " 'FreeMono',\n",
       " 'Liberation Sans Narrow',\n",
       " 'cmmi10',\n",
       " 'Liberation Mono',\n",
       " 'Arial Black',\n",
       " 'URW Bookman',\n",
       " 'Noto Sans Mono',\n",
       " 'cmr10',\n",
       " 'Georgia',\n",
       " 'STIXSizeTwoSym',\n",
       " 'Times New Roman',\n",
       " 'Liberation Serif',\n",
       " 'Liberation Sans',\n",
       " 'cmex10',\n",
       " 'STIXSizeThreeSym',\n",
       " 'Nimbus Mono PS',\n",
       " 'C059',\n",
       " 'URW Gothic',\n",
       " 'STIXGeneral',\n",
       " 'Standard Symbols PS',\n",
       " 'FreeSans',\n",
       " 'Arial',\n",
       " 'Nimbus Sans',\n",
       " 'cmss10',\n",
       " 'DejaVu Sans',\n",
       " 'Noto Mono',\n",
       " 'DejaVu Serif',\n",
       " 'Andale Mono',\n",
       " 'DejaVu Sans Mono',\n",
       " 'P052',\n",
       " 'Webdings',\n",
       " 'Z003',\n",
       " 'Courier New',\n",
       " 'Nimbus Sans Narrow',\n",
       " 'DejaVu Sans Display']"
      ]
     },
     "execution_count": 3,
     "metadata": {},
     "output_type": "execute_result"
    }
   ],
   "source": [
    "matplotlib.font_manager.get_font_names()"
   ]
  },
  {
   "cell_type": "code",
   "execution_count": 4,
   "id": "801b55e0-a149-49fe-9847-6106c534529c",
   "metadata": {},
   "outputs": [],
   "source": [
    "from matplotlib.font_manager import findfont, FontProperties"
   ]
  },
  {
   "cell_type": "code",
   "execution_count": 5,
   "id": "95ba29eb-729d-41a0-ad9e-d5c9b9e626c2",
   "metadata": {},
   "outputs": [],
   "source": [
    "font = findfont(FontProperties(family=['sans-serif']))"
   ]
  },
  {
   "cell_type": "code",
   "execution_count": 6,
   "id": "7c27f8e5-9b0f-4258-853a-6108847ef0c0",
   "metadata": {},
   "outputs": [
    {
     "name": "stdout",
     "output_type": "stream",
     "text": [
      "/home/ubuntu/anaconda3/envs/menolife/lib/python3.11/site-packages/matplotlib/mpl-data/fonts/ttf/DejaVuSans.ttf\n"
     ]
    }
   ],
   "source": [
    "print(font)"
   ]
  },
  {
   "cell_type": "markdown",
   "id": "787f6f78-adb9-4d4c-8660-e2eccdb23f9e",
   "metadata": {},
   "source": [
    "Well that did not work. Looks like we are pulling the font list from Anacoda.\n",
    "\n",
    "Found this on the Anaconda website - https://anaconda.org/conda-forge/mscorefonts"
   ]
  },
  {
   "cell_type": "code",
   "execution_count": 7,
   "id": "d69603c1-9351-42b2-a4be-d8a91be2fed5",
   "metadata": {},
   "outputs": [],
   "source": [
    "font = findfont(FontProperties(family=['sans-serif']))"
   ]
  },
  {
   "cell_type": "code",
   "execution_count": 8,
   "id": "d3455c05-265e-42e7-94f8-b8063127d590",
   "metadata": {},
   "outputs": [
    {
     "name": "stdout",
     "output_type": "stream",
     "text": [
      "/home/ubuntu/anaconda3/envs/menolife/lib/python3.11/site-packages/matplotlib/mpl-data/fonts/ttf/DejaVuSans.ttf\n"
     ]
    }
   ],
   "source": [
    "print(font)"
   ]
  },
  {
   "cell_type": "code",
   "execution_count": 9,
   "id": "4ff3e0b9-e666-49cb-b30c-29125b987ac4",
   "metadata": {},
   "outputs": [
    {
     "data": {
      "text/plain": [
       "['Comic Sans MS',\n",
       " 'Impact',\n",
       " 'Verdana',\n",
       " 'Nimbus Roman',\n",
       " 'STIXSizeFourSym',\n",
       " 'Trebuchet MS',\n",
       " 'D050000L',\n",
       " 'DejaVu Serif Display',\n",
       " 'STIXNonUnicode',\n",
       " 'Droid Sans Fallback',\n",
       " 'STIXSizeOneSym',\n",
       " 'cmb10',\n",
       " 'STIXSizeFiveSym',\n",
       " 'cmsy10',\n",
       " 'cmtt10',\n",
       " 'FreeSerif',\n",
       " 'FreeMono',\n",
       " 'Liberation Sans Narrow',\n",
       " 'cmmi10',\n",
       " 'Liberation Mono',\n",
       " 'Arial Black',\n",
       " 'URW Bookman',\n",
       " 'Noto Sans Mono',\n",
       " 'cmr10',\n",
       " 'Georgia',\n",
       " 'STIXSizeTwoSym',\n",
       " 'Times New Roman',\n",
       " 'Liberation Serif',\n",
       " 'Liberation Sans',\n",
       " 'cmex10',\n",
       " 'STIXSizeThreeSym',\n",
       " 'Nimbus Mono PS',\n",
       " 'C059',\n",
       " 'URW Gothic',\n",
       " 'STIXGeneral',\n",
       " 'Standard Symbols PS',\n",
       " 'FreeSans',\n",
       " 'Arial',\n",
       " 'Nimbus Sans',\n",
       " 'cmss10',\n",
       " 'DejaVu Sans',\n",
       " 'Noto Mono',\n",
       " 'DejaVu Serif',\n",
       " 'Andale Mono',\n",
       " 'DejaVu Sans Mono',\n",
       " 'P052',\n",
       " 'Webdings',\n",
       " 'Z003',\n",
       " 'Courier New',\n",
       " 'Nimbus Sans Narrow',\n",
       " 'DejaVu Sans Display']"
      ]
     },
     "execution_count": 9,
     "metadata": {},
     "output_type": "execute_result"
    }
   ],
   "source": [
    "matplotlib.font_manager.get_font_names()"
   ]
  },
  {
   "cell_type": "code",
   "execution_count": 10,
   "id": "3f3c2332-1124-42e9-a3de-1efda07a8257",
   "metadata": {},
   "outputs": [],
   "source": [
    "# Set the font for all the graphs to Arial.\n",
    "plt.rcParams['font.family'] = ['sans serif']\n",
    "plt.rcParams['font.sans-serif'] = ['Arial']\n",
    "plt.rcParams['font.size'] = 12\n",
    "plt.rcParams['axes.labelsize'] = 10\n",
    "plt.rcParams['axes.titlesize'] = 14"
   ]
  },
  {
   "cell_type": "code",
   "execution_count": 11,
   "id": "42e1346b-54f6-40d3-9299-2bc4b4cbdbc7",
   "metadata": {},
   "outputs": [],
   "source": [
    "import seaborn as sns"
   ]
  },
  {
   "cell_type": "code",
   "execution_count": 12,
   "id": "85b2c933-ed86-47f5-ae7a-8054d38e14a3",
   "metadata": {},
   "outputs": [
    {
     "data": {
      "image/png": "[encoded data removed]",
      "text/plain": [
       "<Figure size 640x480 with 1 Axes>"
      ]
     },
     "metadata": {},
     "output_type": "display_data"
    }
   ],
   "source": [
    "# Load the tips dataset\n",
    "tips_data = sns.load_dataset(\"tips\")\n",
    "\n",
    "# Create a scatter plot using Seaborn\n",
    "sns.scatterplot(x=\"total_bill\", y=\"tip\", data=tips_data)\n",
    "plt.title('Tips Dataset - Total Bill vs Tip')\n",
    "plt.xlabel('Total Bill ($)')\n",
    "plt.ylabel('Tip ($)')\n",
    "plt.show()"
   ]
  }
 ],
 "metadata": {
  "kernelspec": {
   "display_name": "Python 3 (ipykernel)",
   "language": "python",
   "name": "python3"
  },
  "language_info": {
   "codemirror_mode": {
    "name": "ipython",
    "version": 3
   },
   "file_extension": ".py",
   "mimetype": "text/x-python",
   "name": "python",
   "nbconvert_exporter": "python",
   "pygments_lexer": "ipython3",
   "version": "3.11.3"
  }
 },
 "nbformat": 4,
 "nbformat_minor": 5
}
