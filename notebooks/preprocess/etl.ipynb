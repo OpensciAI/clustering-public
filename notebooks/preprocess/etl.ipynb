{
 "cells": [
  {
   "cell_type": "markdown",
   "id": "a40066a1",
   "metadata": {},
   "source": [
    "# Symptoms and Triggers"
   ]
  },
  {
   "cell_type": "code",
   "execution_count": 2,
   "id": "6204c2f2",
   "metadata": {
    "collapsed": false,
    "jupyter": {
     "outputs_hidden": false
    }
   },
   "outputs": [],
   "source": [
    "import pandas as pd\n",
    "from datetime import datetime\n",
    "import numpy as np\n",
    "import json"
   ]
  },
  {
   "cell_type": "code",
   "execution_count": 5,
   "id": "fb745ee4",
   "metadata": {
    "collapsed": false,
    "jupyter": {
     "outputs_hidden": false
    }
   },
   "outputs": [],
   "source": [
    "filename = 'raw_data/symptoms.csv'"
   ]
  },
  {
   "cell_type": "code",
   "execution_count": 6,
   "id": "49892d54",
   "metadata": {
    "collapsed": false,
    "jupyter": {
     "outputs_hidden": false
    }
   },
   "outputs": [
    {
     "data": {
      "text/html": [
       "<div>\n",
       "<style scoped>\n",
       "    .dataframe tbody tr th:only-of-type {\n",
       "        vertical-align: middle;\n",
       "    }\n",
       "\n",
       "    .dataframe tbody tr th {\n",
       "        vertical-align: top;\n",
       "    }\n",
       "\n",
       "    .dataframe thead th {\n",
       "        text-align: right;\n",
       "    }\n",
       "</style>\n",
       "<table border=\"1\" class=\"dataframe\">\n",
       "  <thead>\n",
       "    <tr style=\"text-align: right;\">\n",
       "      <th></th>\n",
       "      <th>uid</th>\n",
       "      <th>name</th>\n",
       "      <th>time</th>\n",
       "      <th>triggers</th>\n",
       "      <th>severity</th>\n",
       "      <th>discreet</th>\n",
       "      <th>note</th>\n",
       "      <th>allday</th>\n",
       "      <th>alldaynum</th>\n",
       "    </tr>\n",
       "  </thead>\n",
       "  <tbody>\n",
       "    <tr>\n",
       "      <th>0</th>\n",
       "      <td>ObjectId(5f8e90320054a6c5fab1544e)</td>\n",
       "      <td>breast_swelling</td>\n",
       "      <td>2020-10-20T18:52:00.002Z</td>\n",
       "      <td>[]</td>\n",
       "      <td>2.0</td>\n",
       "      <td>NaN</td>\n",
       "      <td>NaN</td>\n",
       "      <td>False</td>\n",
       "      <td>NaN</td>\n",
       "    </tr>\n",
       "    <tr>\n",
       "      <th>1</th>\n",
       "      <td>ObjectId(5f8e90320054a6c5fab1544e)</td>\n",
       "      <td>bloating</td>\n",
       "      <td>2020-10-20T18:52:00.002Z</td>\n",
       "      <td>[]</td>\n",
       "      <td>2.0</td>\n",
       "      <td>NaN</td>\n",
       "      <td>NaN</td>\n",
       "      <td>False</td>\n",
       "      <td>NaN</td>\n",
       "    </tr>\n",
       "    <tr>\n",
       "      <th>2</th>\n",
       "      <td>ObjectId(5f8e90320054a6c5fab1544e)</td>\n",
       "      <td>nipple_discharge</td>\n",
       "      <td>2020-10-20T18:53:00.002Z</td>\n",
       "      <td>[]</td>\n",
       "      <td>2.0</td>\n",
       "      <td>NaN</td>\n",
       "      <td>NaN</td>\n",
       "      <td>False</td>\n",
       "      <td>NaN</td>\n",
       "    </tr>\n",
       "    <tr>\n",
       "      <th>3</th>\n",
       "      <td>ObjectId(5f8e90320054a6c5fab1544e)</td>\n",
       "      <td>hot_flashes</td>\n",
       "      <td>2020-10-20T07:00:00.002Z</td>\n",
       "      <td>[]</td>\n",
       "      <td>3.0</td>\n",
       "      <td>NaN</td>\n",
       "      <td>NaN</td>\n",
       "      <td>True</td>\n",
       "      <td>3.0</td>\n",
       "    </tr>\n",
       "    <tr>\n",
       "      <th>4</th>\n",
       "      <td>ObjectId(5f8e90320054a6c5fab1544e)</td>\n",
       "      <td>nipple_discharge</td>\n",
       "      <td>2020-10-19T18:56:00.002Z</td>\n",
       "      <td>[{\"question\":\"Are you experiencing any of thes...</td>\n",
       "      <td>3.0</td>\n",
       "      <td>NaN</td>\n",
       "      <td>NaN</td>\n",
       "      <td>False</td>\n",
       "      <td>NaN</td>\n",
       "    </tr>\n",
       "  </tbody>\n",
       "</table>\n",
       "</div>"
      ],
      "text/plain": [
       "                                  uid              name  \\\n",
       "0  ObjectId(5f8e90320054a6c5fab1544e)   breast_swelling   \n",
       "1  ObjectId(5f8e90320054a6c5fab1544e)          bloating   \n",
       "2  ObjectId(5f8e90320054a6c5fab1544e)  nipple_discharge   \n",
       "3  ObjectId(5f8e90320054a6c5fab1544e)       hot_flashes   \n",
       "4  ObjectId(5f8e90320054a6c5fab1544e)  nipple_discharge   \n",
       "\n",
       "                       time  \\\n",
       "0  2020-10-20T18:52:00.002Z   \n",
       "1  2020-10-20T18:52:00.002Z   \n",
       "2  2020-10-20T18:53:00.002Z   \n",
       "3  2020-10-20T07:00:00.002Z   \n",
       "4  2020-10-19T18:56:00.002Z   \n",
       "\n",
       "                                            triggers  severity discreet  note  \\\n",
       "0                                                 []       2.0      NaN   NaN   \n",
       "1                                                 []       2.0      NaN   NaN   \n",
       "2                                                 []       2.0      NaN   NaN   \n",
       "3                                                 []       3.0      NaN   NaN   \n",
       "4  [{\"question\":\"Are you experiencing any of thes...       3.0      NaN   NaN   \n",
       "\n",
       "   allday  alldaynum  \n",
       "0   False        NaN  \n",
       "1   False        NaN  \n",
       "2   False        NaN  \n",
       "3    True        3.0  \n",
       "4   False        NaN  "
      ]
     },
     "execution_count": 6,
     "metadata": {},
     "output_type": "execute_result"
    }
   ],
   "source": [
    "data = pd.read_csv(open(filename, 'r'))\n",
    "data.head()"
   ]
  },
  {
   "cell_type": "code",
   "execution_count": 108,
   "id": "012790b3",
   "metadata": {
    "collapsed": false,
    "jupyter": {
     "outputs_hidden": false
    }
   },
   "outputs": [],
   "source": [
    "def fixUid(frame, colname='uid'):\n",
    "    uids = frame[colname].values\n",
    "    uids_new = []\n",
    "    for u in uids:\n",
    "        uids_new += [u.split('(')[1].split(')')[0]]\n",
    "    frame[colname] = uids_new\n",
    "    \n",
    "    return frame"
   ]
  },
  {
   "cell_type": "code",
   "execution_count": 5,
   "id": "e1d77610",
   "metadata": {
    "collapsed": false,
    "jupyter": {
     "outputs_hidden": false
    }
   },
   "outputs": [
    {
     "data": {
      "text/html": [
       "<div>\n",
       "<style scoped>\n",
       "    .dataframe tbody tr th:only-of-type {\n",
       "        vertical-align: middle;\n",
       "    }\n",
       "\n",
       "    .dataframe tbody tr th {\n",
       "        vertical-align: top;\n",
       "    }\n",
       "\n",
       "    .dataframe thead th {\n",
       "        text-align: right;\n",
       "    }\n",
       "</style>\n",
       "<table border=\"1\" class=\"dataframe\">\n",
       "  <thead>\n",
       "    <tr style=\"text-align: right;\">\n",
       "      <th></th>\n",
       "      <th>uid</th>\n",
       "      <th>name</th>\n",
       "      <th>time</th>\n",
       "      <th>triggers</th>\n",
       "      <th>severity</th>\n",
       "      <th>discreet</th>\n",
       "      <th>note</th>\n",
       "      <th>allday</th>\n",
       "      <th>alldaynum</th>\n",
       "    </tr>\n",
       "  </thead>\n",
       "  <tbody>\n",
       "    <tr>\n",
       "      <th>0</th>\n",
       "      <td>5f8e90320054a6c5fab1544e</td>\n",
       "      <td>breast_swelling</td>\n",
       "      <td>2020-10-20T18:52:00.002Z</td>\n",
       "      <td>[]</td>\n",
       "      <td>2.0</td>\n",
       "      <td>NaN</td>\n",
       "      <td>NaN</td>\n",
       "      <td>False</td>\n",
       "      <td>NaN</td>\n",
       "    </tr>\n",
       "    <tr>\n",
       "      <th>1</th>\n",
       "      <td>5f8e90320054a6c5fab1544e</td>\n",
       "      <td>bloating</td>\n",
       "      <td>2020-10-20T18:52:00.002Z</td>\n",
       "      <td>[]</td>\n",
       "      <td>2.0</td>\n",
       "      <td>NaN</td>\n",
       "      <td>NaN</td>\n",
       "      <td>False</td>\n",
       "      <td>NaN</td>\n",
       "    </tr>\n",
       "    <tr>\n",
       "      <th>2</th>\n",
       "      <td>5f8e90320054a6c5fab1544e</td>\n",
       "      <td>nipple_discharge</td>\n",
       "      <td>2020-10-20T18:53:00.002Z</td>\n",
       "      <td>[]</td>\n",
       "      <td>2.0</td>\n",
       "      <td>NaN</td>\n",
       "      <td>NaN</td>\n",
       "      <td>False</td>\n",
       "      <td>NaN</td>\n",
       "    </tr>\n",
       "    <tr>\n",
       "      <th>3</th>\n",
       "      <td>5f8e90320054a6c5fab1544e</td>\n",
       "      <td>hot_flashes</td>\n",
       "      <td>2020-10-20T07:00:00.002Z</td>\n",
       "      <td>[]</td>\n",
       "      <td>3.0</td>\n",
       "      <td>NaN</td>\n",
       "      <td>NaN</td>\n",
       "      <td>True</td>\n",
       "      <td>3.0</td>\n",
       "    </tr>\n",
       "    <tr>\n",
       "      <th>4</th>\n",
       "      <td>5f8e90320054a6c5fab1544e</td>\n",
       "      <td>nipple_discharge</td>\n",
       "      <td>2020-10-19T18:56:00.002Z</td>\n",
       "      <td>[{\"question\":\"Are you experiencing any of thes...</td>\n",
       "      <td>3.0</td>\n",
       "      <td>NaN</td>\n",
       "      <td>NaN</td>\n",
       "      <td>False</td>\n",
       "      <td>NaN</td>\n",
       "    </tr>\n",
       "  </tbody>\n",
       "</table>\n",
       "</div>"
      ],
      "text/plain": [
       "                        uid              name                      time  \\\n",
       "0  5f8e90320054a6c5fab1544e   breast_swelling  2020-10-20T18:52:00.002Z   \n",
       "1  5f8e90320054a6c5fab1544e          bloating  2020-10-20T18:52:00.002Z   \n",
       "2  5f8e90320054a6c5fab1544e  nipple_discharge  2020-10-20T18:53:00.002Z   \n",
       "3  5f8e90320054a6c5fab1544e       hot_flashes  2020-10-20T07:00:00.002Z   \n",
       "4  5f8e90320054a6c5fab1544e  nipple_discharge  2020-10-19T18:56:00.002Z   \n",
       "\n",
       "                                            triggers  severity discreet  note  \\\n",
       "0                                                 []       2.0      NaN   NaN   \n",
       "1                                                 []       2.0      NaN   NaN   \n",
       "2                                                 []       2.0      NaN   NaN   \n",
       "3                                                 []       3.0      NaN   NaN   \n",
       "4  [{\"question\":\"Are you experiencing any of thes...       3.0      NaN   NaN   \n",
       "\n",
       "   allday  alldaynum  \n",
       "0   False        NaN  \n",
       "1   False        NaN  \n",
       "2   False        NaN  \n",
       "3    True        3.0  \n",
       "4   False        NaN  "
      ]
     },
     "execution_count": 5,
     "metadata": {},
     "output_type": "execute_result"
    }
   ],
   "source": [
    "data = fixUid(data)\n",
    "data.head()"
   ]
  },
  {
   "cell_type": "code",
   "execution_count": 9,
   "id": "8bc5d736",
   "metadata": {
    "collapsed": false,
    "jupyter": {
     "outputs_hidden": false
    }
   },
   "outputs": [],
   "source": [
    "def fixTime(frame, column_name, output_name='datetime'):\n",
    "    \"\"\"\n",
    "    Function has side effects. Changes the argument in place, saves on memory.\n",
    "    \"\"\"\n",
    "    time = frame[column_name].values\n",
    "    time_new = []\n",
    "    for t in time:\n",
    "        if pd.isna(t):\n",
    "            time_new += [None]\n",
    "        else:\n",
    "            d = datetime.strptime(t, '%Y-%m-%dT%H:%M:%S.%fZ')\n",
    "            time_new += [d.strftime('%Y-%m-%d %H:%M:%S')]              \n",
    "    frame[column_name] = time_new\n",
    "    \n",
    "    # Also change the name of the \"time\" field to \"datetime\" for consistency.\n",
    "    index = -1\n",
    "    columns = frame.columns.values\n",
    "    for (idx, c) in enumerate(columns):\n",
    "        if c == column_name:\n",
    "            index = idx\n",
    "            break\n",
    "            \n",
    "    columns[index] = output_name\n",
    "    frame.columns= columns\n",
    "    \n",
    "    # Also change the datatype of the datetime column.\n",
    "    frame[output_name] = frame[output_name].astype('datetime64')\n",
    "\n",
    "    return frame"
   ]
  },
  {
   "cell_type": "code",
   "execution_count": 7,
   "id": "7749df72",
   "metadata": {
    "collapsed": false,
    "jupyter": {
     "outputs_hidden": false
    }
   },
   "outputs": [
    {
     "data": {
      "text/html": [
       "<div>\n",
       "<style scoped>\n",
       "    .dataframe tbody tr th:only-of-type {\n",
       "        vertical-align: middle;\n",
       "    }\n",
       "\n",
       "    .dataframe tbody tr th {\n",
       "        vertical-align: top;\n",
       "    }\n",
       "\n",
       "    .dataframe thead th {\n",
       "        text-align: right;\n",
       "    }\n",
       "</style>\n",
       "<table border=\"1\" class=\"dataframe\">\n",
       "  <thead>\n",
       "    <tr style=\"text-align: right;\">\n",
       "      <th></th>\n",
       "      <th>uid</th>\n",
       "      <th>name</th>\n",
       "      <th>datetime</th>\n",
       "      <th>triggers</th>\n",
       "      <th>severity</th>\n",
       "      <th>discreet</th>\n",
       "      <th>note</th>\n",
       "      <th>allday</th>\n",
       "      <th>alldaynum</th>\n",
       "    </tr>\n",
       "  </thead>\n",
       "  <tbody>\n",
       "    <tr>\n",
       "      <th>0</th>\n",
       "      <td>5f8e90320054a6c5fab1544e</td>\n",
       "      <td>breast_swelling</td>\n",
       "      <td>2020-10-20 18:52:00</td>\n",
       "      <td>[]</td>\n",
       "      <td>2.0</td>\n",
       "      <td>NaN</td>\n",
       "      <td>NaN</td>\n",
       "      <td>False</td>\n",
       "      <td>NaN</td>\n",
       "    </tr>\n",
       "    <tr>\n",
       "      <th>1</th>\n",
       "      <td>5f8e90320054a6c5fab1544e</td>\n",
       "      <td>bloating</td>\n",
       "      <td>2020-10-20 18:52:00</td>\n",
       "      <td>[]</td>\n",
       "      <td>2.0</td>\n",
       "      <td>NaN</td>\n",
       "      <td>NaN</td>\n",
       "      <td>False</td>\n",
       "      <td>NaN</td>\n",
       "    </tr>\n",
       "    <tr>\n",
       "      <th>2</th>\n",
       "      <td>5f8e90320054a6c5fab1544e</td>\n",
       "      <td>nipple_discharge</td>\n",
       "      <td>2020-10-20 18:53:00</td>\n",
       "      <td>[]</td>\n",
       "      <td>2.0</td>\n",
       "      <td>NaN</td>\n",
       "      <td>NaN</td>\n",
       "      <td>False</td>\n",
       "      <td>NaN</td>\n",
       "    </tr>\n",
       "    <tr>\n",
       "      <th>3</th>\n",
       "      <td>5f8e90320054a6c5fab1544e</td>\n",
       "      <td>hot_flashes</td>\n",
       "      <td>2020-10-20 07:00:00</td>\n",
       "      <td>[]</td>\n",
       "      <td>3.0</td>\n",
       "      <td>NaN</td>\n",
       "      <td>NaN</td>\n",
       "      <td>True</td>\n",
       "      <td>3.0</td>\n",
       "    </tr>\n",
       "    <tr>\n",
       "      <th>4</th>\n",
       "      <td>5f8e90320054a6c5fab1544e</td>\n",
       "      <td>nipple_discharge</td>\n",
       "      <td>2020-10-19 18:56:00</td>\n",
       "      <td>[{\"question\":\"Are you experiencing any of thes...</td>\n",
       "      <td>3.0</td>\n",
       "      <td>NaN</td>\n",
       "      <td>NaN</td>\n",
       "      <td>False</td>\n",
       "      <td>NaN</td>\n",
       "    </tr>\n",
       "  </tbody>\n",
       "</table>\n",
       "</div>"
      ],
      "text/plain": [
       "                        uid              name            datetime  \\\n",
       "0  5f8e90320054a6c5fab1544e   breast_swelling 2020-10-20 18:52:00   \n",
       "1  5f8e90320054a6c5fab1544e          bloating 2020-10-20 18:52:00   \n",
       "2  5f8e90320054a6c5fab1544e  nipple_discharge 2020-10-20 18:53:00   \n",
       "3  5f8e90320054a6c5fab1544e       hot_flashes 2020-10-20 07:00:00   \n",
       "4  5f8e90320054a6c5fab1544e  nipple_discharge 2020-10-19 18:56:00   \n",
       "\n",
       "                                            triggers  severity discreet  note  \\\n",
       "0                                                 []       2.0      NaN   NaN   \n",
       "1                                                 []       2.0      NaN   NaN   \n",
       "2                                                 []       2.0      NaN   NaN   \n",
       "3                                                 []       3.0      NaN   NaN   \n",
       "4  [{\"question\":\"Are you experiencing any of thes...       3.0      NaN   NaN   \n",
       "\n",
       "   allday  alldaynum  \n",
       "0   False        NaN  \n",
       "1   False        NaN  \n",
       "2   False        NaN  \n",
       "3    True        3.0  \n",
       "4   False        NaN  "
      ]
     },
     "execution_count": 7,
     "metadata": {},
     "output_type": "execute_result"
    }
   ],
   "source": [
    "data_new = fixTime(data, 'time')\n",
    "data_new.head()"
   ]
  },
  {
   "cell_type": "code",
   "execution_count": 8,
   "id": "45f0cfda",
   "metadata": {
    "collapsed": false,
    "jupyter": {
     "outputs_hidden": false
    }
   },
   "outputs": [
    {
     "name": "stdout",
     "output_type": "stream",
     "text": [
      "0 []\n",
      "1 []\n",
      "2 []\n",
      "3 []\n",
      "4 [{\"question\":\"Are you experiencing any of these common triggers?\",\"answer\":[\"Excessive breast stimulation\",\"Breast infection\"]}]\n",
      "5 [{\"question\":\"Are you experiencing any of these common triggers?\",\"answer\":[\"Am or may be pregnant\",\"Abscess\"]}]\n",
      "6 [{\"question\":\"Are you experiencing any of these common triggers?\",\"answer\":[\"Am or may be pregnant\",\"Abscess\"]}]\n",
      "7 [{\"question\":\"Are you experiencing any of these common triggers?\",\"answer\":[\"Abscess\"]}]\n",
      "8 [{\"question\":\"Did you experience any of these common triggers?\",\"answer\":[\"Asparagus\"]}]\n",
      "9 [{\"question\":\"Did you consume any of these common triggers? \",\"answer\":[\"Change in fiber intake\",\"Apples\",\"Beans\",\"Onions\",\"Lentils\",\"Rye\"]}]\n",
      "10 [{\"question\":\"Are you experiencing any of these common triggers?\",\"answer\":[\"Relationship conflict\"]}]\n"
     ]
    }
   ],
   "source": [
    "for (idx, triggers) in zip(data.index, data['triggers']):\n",
    "    if idx > 10:\n",
    "        break\n",
    "    print(idx, triggers)"
   ]
  },
  {
   "cell_type": "code",
   "execution_count": 9,
   "id": "638eaade",
   "metadata": {
    "collapsed": false,
    "jupyter": {
     "outputs_hidden": false
    }
   },
   "outputs": [
    {
     "data": {
      "text/plain": [
       "uid                  object\n",
       "name                 object\n",
       "datetime     datetime64[ns]\n",
       "triggers             object\n",
       "severity            float64\n",
       "discreet             object\n",
       "note                float64\n",
       "allday                 bool\n",
       "alldaynum           float64\n",
       "dtype: object"
      ]
     },
     "execution_count": 9,
     "metadata": {},
     "output_type": "execute_result"
    }
   ],
   "source": [
    "data_new.dtypes"
   ]
  },
  {
   "cell_type": "markdown",
   "id": "87984962",
   "metadata": {},
   "source": [
    "Need to flatten out triggers JSON into a table, so we can parse this easier.\n",
    "\n",
    "I would suggest the scehma to be -\n",
    "\n",
    "`trigger_id (primary), symptom_id (foriegn), question, answers`\n",
    "\n",
    "If a question has multiple answers (which in most situations it does), then each answer will be its own row / record."
   ]
  },
  {
   "cell_type": "code",
   "execution_count": 10,
   "id": "2dda52c0",
   "metadata": {
    "collapsed": false,
    "jupyter": {
     "outputs_hidden": false
    }
   },
   "outputs": [],
   "source": [
    "def generateUniqueId(frame : pd.DataFrame, column_name='symptom_id'):\n",
    "    \"\"\"\n",
    "    Method which generates a unique ID for each record and then creates a column\n",
    "    for the frame in which all of this will be stored.\n",
    "    \"\"\"\n",
    "    \n",
    "    time = int(datetime.now().timestamp())\n",
    "    symptom_id = np.arange(time, time+frame.shape[0])\n",
    "    \n",
    "    frame[column_name] = symptom_id\n",
    "    \n",
    "    return frame"
   ]
  },
  {
   "cell_type": "code",
   "execution_count": 11,
   "id": "2dbea244",
   "metadata": {
    "collapsed": false,
    "jupyter": {
     "outputs_hidden": false
    }
   },
   "outputs": [],
   "source": [
    "time = int(datetime.now().timestamp())\n",
    "symptom_id = np.arange(time, time+data_new.shape[0])"
   ]
  },
  {
   "cell_type": "code",
   "execution_count": 12,
   "id": "9b98c7e6",
   "metadata": {
    "collapsed": false,
    "jupyter": {
     "outputs_hidden": false
    }
   },
   "outputs": [
    {
     "data": {
      "text/plain": [
       "448772"
      ]
     },
     "execution_count": 12,
     "metadata": {},
     "output_type": "execute_result"
    }
   ],
   "source": [
    "symptom_id.size"
   ]
  },
  {
   "cell_type": "code",
   "execution_count": 13,
   "id": "cccca9eb",
   "metadata": {
    "collapsed": false,
    "jupyter": {
     "outputs_hidden": false
    }
   },
   "outputs": [],
   "source": [
    "data = generateUniqueId(data_new)"
   ]
  },
  {
   "cell_type": "code",
   "execution_count": 14,
   "id": "b076a540",
   "metadata": {
    "collapsed": false,
    "jupyter": {
     "outputs_hidden": false
    }
   },
   "outputs": [
    {
     "data": {
      "text/html": [
       "<div>\n",
       "<style scoped>\n",
       "    .dataframe tbody tr th:only-of-type {\n",
       "        vertical-align: middle;\n",
       "    }\n",
       "\n",
       "    .dataframe tbody tr th {\n",
       "        vertical-align: top;\n",
       "    }\n",
       "\n",
       "    .dataframe thead th {\n",
       "        text-align: right;\n",
       "    }\n",
       "</style>\n",
       "<table border=\"1\" class=\"dataframe\">\n",
       "  <thead>\n",
       "    <tr style=\"text-align: right;\">\n",
       "      <th></th>\n",
       "      <th>uid</th>\n",
       "      <th>name</th>\n",
       "      <th>datetime</th>\n",
       "      <th>triggers</th>\n",
       "      <th>severity</th>\n",
       "      <th>discreet</th>\n",
       "      <th>note</th>\n",
       "      <th>allday</th>\n",
       "      <th>alldaynum</th>\n",
       "      <th>symptom_id</th>\n",
       "    </tr>\n",
       "  </thead>\n",
       "  <tbody>\n",
       "    <tr>\n",
       "      <th>0</th>\n",
       "      <td>5f8e90320054a6c5fab1544e</td>\n",
       "      <td>breast_swelling</td>\n",
       "      <td>2020-10-20 18:52:00</td>\n",
       "      <td>[]</td>\n",
       "      <td>2.0</td>\n",
       "      <td>NaN</td>\n",
       "      <td>NaN</td>\n",
       "      <td>False</td>\n",
       "      <td>NaN</td>\n",
       "      <td>1686178445</td>\n",
       "    </tr>\n",
       "    <tr>\n",
       "      <th>1</th>\n",
       "      <td>5f8e90320054a6c5fab1544e</td>\n",
       "      <td>bloating</td>\n",
       "      <td>2020-10-20 18:52:00</td>\n",
       "      <td>[]</td>\n",
       "      <td>2.0</td>\n",
       "      <td>NaN</td>\n",
       "      <td>NaN</td>\n",
       "      <td>False</td>\n",
       "      <td>NaN</td>\n",
       "      <td>1686178446</td>\n",
       "    </tr>\n",
       "    <tr>\n",
       "      <th>2</th>\n",
       "      <td>5f8e90320054a6c5fab1544e</td>\n",
       "      <td>nipple_discharge</td>\n",
       "      <td>2020-10-20 18:53:00</td>\n",
       "      <td>[]</td>\n",
       "      <td>2.0</td>\n",
       "      <td>NaN</td>\n",
       "      <td>NaN</td>\n",
       "      <td>False</td>\n",
       "      <td>NaN</td>\n",
       "      <td>1686178447</td>\n",
       "    </tr>\n",
       "    <tr>\n",
       "      <th>3</th>\n",
       "      <td>5f8e90320054a6c5fab1544e</td>\n",
       "      <td>hot_flashes</td>\n",
       "      <td>2020-10-20 07:00:00</td>\n",
       "      <td>[]</td>\n",
       "      <td>3.0</td>\n",
       "      <td>NaN</td>\n",
       "      <td>NaN</td>\n",
       "      <td>True</td>\n",
       "      <td>3.0</td>\n",
       "      <td>1686178448</td>\n",
       "    </tr>\n",
       "    <tr>\n",
       "      <th>4</th>\n",
       "      <td>5f8e90320054a6c5fab1544e</td>\n",
       "      <td>nipple_discharge</td>\n",
       "      <td>2020-10-19 18:56:00</td>\n",
       "      <td>[{\"question\":\"Are you experiencing any of thes...</td>\n",
       "      <td>3.0</td>\n",
       "      <td>NaN</td>\n",
       "      <td>NaN</td>\n",
       "      <td>False</td>\n",
       "      <td>NaN</td>\n",
       "      <td>1686178449</td>\n",
       "    </tr>\n",
       "  </tbody>\n",
       "</table>\n",
       "</div>"
      ],
      "text/plain": [
       "                        uid              name            datetime  \\\n",
       "0  5f8e90320054a6c5fab1544e   breast_swelling 2020-10-20 18:52:00   \n",
       "1  5f8e90320054a6c5fab1544e          bloating 2020-10-20 18:52:00   \n",
       "2  5f8e90320054a6c5fab1544e  nipple_discharge 2020-10-20 18:53:00   \n",
       "3  5f8e90320054a6c5fab1544e       hot_flashes 2020-10-20 07:00:00   \n",
       "4  5f8e90320054a6c5fab1544e  nipple_discharge 2020-10-19 18:56:00   \n",
       "\n",
       "                                            triggers  severity discreet  note  \\\n",
       "0                                                 []       2.0      NaN   NaN   \n",
       "1                                                 []       2.0      NaN   NaN   \n",
       "2                                                 []       2.0      NaN   NaN   \n",
       "3                                                 []       3.0      NaN   NaN   \n",
       "4  [{\"question\":\"Are you experiencing any of thes...       3.0      NaN   NaN   \n",
       "\n",
       "   allday  alldaynum  symptom_id  \n",
       "0   False        NaN  1686178445  \n",
       "1   False        NaN  1686178446  \n",
       "2   False        NaN  1686178447  \n",
       "3    True        3.0  1686178448  \n",
       "4   False        NaN  1686178449  "
      ]
     },
     "execution_count": 14,
     "metadata": {},
     "output_type": "execute_result"
    }
   ],
   "source": [
    "data.head()"
   ]
  },
  {
   "cell_type": "code",
   "execution_count": 15,
   "id": "43f4ab48",
   "metadata": {
    "collapsed": false,
    "jupyter": {
     "outputs_hidden": false
    }
   },
   "outputs": [],
   "source": [
    "def createTriggersTable(dataframe : pd.DataFrame) -> pd.DataFrame:\n",
    "    \"\"\"\n",
    "    Method which flattens the JSON in triggers and creates a seperate table. \n",
    "    \"\"\"\n",
    "    \n",
    "    # Lists that will hold all the column data.\n",
    "    sid = []\n",
    "    questions = []\n",
    "    answers = []\n",
    "    \n",
    "    for (symptom_id, trigger) in zip(dataframe['symptom_id'], dataframe['triggers']):\n",
    "        trigger = json.loads(trigger)\n",
    "        if len(trigger) <= 0:\n",
    "            continue\n",
    "        \n",
    "        # For each question answer pair, we will flatten it.\n",
    "        for qa in trigger:\n",
    "            q = qa['question']\n",
    "            ans = qa['answer']\n",
    "            # Each question can have multiple answers, so we flatten this out as well,\n",
    "            # and then add this to the column lists.\n",
    "            for a in ans:\n",
    "                sid += [symptom_id]\n",
    "                questions += [q]\n",
    "                answers += [a]\n",
    "    \n",
    "    # Create a triggers dataframe with all the information.\n",
    "    frame = pd.DataFrame({\n",
    "        'symptom_id' : sid,\n",
    "        'question' : questions,\n",
    "        'answer' : answers\n",
    "    })\n",
    "    \n",
    "    # Create the index for this as well.\n",
    "    t = int(datetime.now().timestamp())\n",
    "    frame['trigger_id'] = np.arange(t, t+frame.shape[0])\n",
    "    frame.set_index('trigger_id')\n",
    "    \n",
    "    # Reset some of the type information.\n",
    "    frame['question'] = frame['question'].astype('string')\n",
    "    frame['answer'] = frame['answer'].astype('string') \n",
    "    \n",
    "    return frame"
   ]
  },
  {
   "cell_type": "code",
   "execution_count": 16,
   "id": "a0bc26ea",
   "metadata": {
    "collapsed": false,
    "jupyter": {
     "outputs_hidden": false
    }
   },
   "outputs": [],
   "source": [
    "triggers = createTriggersTable(data)"
   ]
  },
  {
   "cell_type": "code",
   "execution_count": 17,
   "id": "a193f3cc",
   "metadata": {
    "collapsed": false,
    "jupyter": {
     "outputs_hidden": false
    }
   },
   "outputs": [
    {
     "data": {
      "text/html": [
       "<div>\n",
       "<style scoped>\n",
       "    .dataframe tbody tr th:only-of-type {\n",
       "        vertical-align: middle;\n",
       "    }\n",
       "\n",
       "    .dataframe tbody tr th {\n",
       "        vertical-align: top;\n",
       "    }\n",
       "\n",
       "    .dataframe thead th {\n",
       "        text-align: right;\n",
       "    }\n",
       "</style>\n",
       "<table border=\"1\" class=\"dataframe\">\n",
       "  <thead>\n",
       "    <tr style=\"text-align: right;\">\n",
       "      <th></th>\n",
       "      <th>symptom_id</th>\n",
       "      <th>question</th>\n",
       "      <th>answer</th>\n",
       "      <th>trigger_id</th>\n",
       "    </tr>\n",
       "  </thead>\n",
       "  <tbody>\n",
       "    <tr>\n",
       "      <th>0</th>\n",
       "      <td>1686178449</td>\n",
       "      <td>Are you experiencing any of these common trigg...</td>\n",
       "      <td>Excessive breast stimulation</td>\n",
       "      <td>1686178449</td>\n",
       "    </tr>\n",
       "    <tr>\n",
       "      <th>1</th>\n",
       "      <td>1686178449</td>\n",
       "      <td>Are you experiencing any of these common trigg...</td>\n",
       "      <td>Breast infection</td>\n",
       "      <td>1686178450</td>\n",
       "    </tr>\n",
       "    <tr>\n",
       "      <th>2</th>\n",
       "      <td>1686178450</td>\n",
       "      <td>Are you experiencing any of these common trigg...</td>\n",
       "      <td>Am or may be pregnant</td>\n",
       "      <td>1686178451</td>\n",
       "    </tr>\n",
       "    <tr>\n",
       "      <th>3</th>\n",
       "      <td>1686178450</td>\n",
       "      <td>Are you experiencing any of these common trigg...</td>\n",
       "      <td>Abscess</td>\n",
       "      <td>1686178452</td>\n",
       "    </tr>\n",
       "    <tr>\n",
       "      <th>4</th>\n",
       "      <td>1686178451</td>\n",
       "      <td>Are you experiencing any of these common trigg...</td>\n",
       "      <td>Am or may be pregnant</td>\n",
       "      <td>1686178453</td>\n",
       "    </tr>\n",
       "  </tbody>\n",
       "</table>\n",
       "</div>"
      ],
      "text/plain": [
       "   symptom_id                                           question  \\\n",
       "0  1686178449  Are you experiencing any of these common trigg...   \n",
       "1  1686178449  Are you experiencing any of these common trigg...   \n",
       "2  1686178450  Are you experiencing any of these common trigg...   \n",
       "3  1686178450  Are you experiencing any of these common trigg...   \n",
       "4  1686178451  Are you experiencing any of these common trigg...   \n",
       "\n",
       "                         answer  trigger_id  \n",
       "0  Excessive breast stimulation  1686178449  \n",
       "1              Breast infection  1686178450  \n",
       "2         Am or may be pregnant  1686178451  \n",
       "3                       Abscess  1686178452  \n",
       "4         Am or may be pregnant  1686178453  "
      ]
     },
     "execution_count": 17,
     "metadata": {},
     "output_type": "execute_result"
    }
   ],
   "source": [
    "triggers.head()"
   ]
  },
  {
   "cell_type": "code",
   "execution_count": 18,
   "id": "58158e55",
   "metadata": {
    "collapsed": false,
    "jupyter": {
     "outputs_hidden": false
    }
   },
   "outputs": [
    {
     "data": {
      "text/plain": [
       "symptom_id     int64\n",
       "question      string\n",
       "answer        string\n",
       "trigger_id     int64\n",
       "dtype: object"
      ]
     },
     "execution_count": 18,
     "metadata": {},
     "output_type": "execute_result"
    }
   ],
   "source": [
    "triggers.dtypes"
   ]
  },
  {
   "cell_type": "code",
   "execution_count": 19,
   "id": "fdee69a5",
   "metadata": {
    "collapsed": false,
    "jupyter": {
     "outputs_hidden": false
    }
   },
   "outputs": [
    {
     "data": {
      "text/html": [
       "<div>\n",
       "<style scoped>\n",
       "    .dataframe tbody tr th:only-of-type {\n",
       "        vertical-align: middle;\n",
       "    }\n",
       "\n",
       "    .dataframe tbody tr th {\n",
       "        vertical-align: top;\n",
       "    }\n",
       "\n",
       "    .dataframe thead th {\n",
       "        text-align: right;\n",
       "    }\n",
       "</style>\n",
       "<table border=\"1\" class=\"dataframe\">\n",
       "  <thead>\n",
       "    <tr style=\"text-align: right;\">\n",
       "      <th></th>\n",
       "      <th>uid</th>\n",
       "      <th>name</th>\n",
       "      <th>datetime</th>\n",
       "      <th>severity</th>\n",
       "      <th>discreet</th>\n",
       "      <th>note</th>\n",
       "      <th>allday</th>\n",
       "      <th>alldaynum</th>\n",
       "      <th>symptom_id</th>\n",
       "    </tr>\n",
       "  </thead>\n",
       "  <tbody>\n",
       "    <tr>\n",
       "      <th>0</th>\n",
       "      <td>5f8e90320054a6c5fab1544e</td>\n",
       "      <td>breast_swelling</td>\n",
       "      <td>2020-10-20 18:52:00</td>\n",
       "      <td>2.0</td>\n",
       "      <td>NaN</td>\n",
       "      <td>NaN</td>\n",
       "      <td>False</td>\n",
       "      <td>NaN</td>\n",
       "      <td>1686178445</td>\n",
       "    </tr>\n",
       "    <tr>\n",
       "      <th>1</th>\n",
       "      <td>5f8e90320054a6c5fab1544e</td>\n",
       "      <td>bloating</td>\n",
       "      <td>2020-10-20 18:52:00</td>\n",
       "      <td>2.0</td>\n",
       "      <td>NaN</td>\n",
       "      <td>NaN</td>\n",
       "      <td>False</td>\n",
       "      <td>NaN</td>\n",
       "      <td>1686178446</td>\n",
       "    </tr>\n",
       "    <tr>\n",
       "      <th>2</th>\n",
       "      <td>5f8e90320054a6c5fab1544e</td>\n",
       "      <td>nipple_discharge</td>\n",
       "      <td>2020-10-20 18:53:00</td>\n",
       "      <td>2.0</td>\n",
       "      <td>NaN</td>\n",
       "      <td>NaN</td>\n",
       "      <td>False</td>\n",
       "      <td>NaN</td>\n",
       "      <td>1686178447</td>\n",
       "    </tr>\n",
       "    <tr>\n",
       "      <th>3</th>\n",
       "      <td>5f8e90320054a6c5fab1544e</td>\n",
       "      <td>hot_flashes</td>\n",
       "      <td>2020-10-20 07:00:00</td>\n",
       "      <td>3.0</td>\n",
       "      <td>NaN</td>\n",
       "      <td>NaN</td>\n",
       "      <td>True</td>\n",
       "      <td>3.0</td>\n",
       "      <td>1686178448</td>\n",
       "    </tr>\n",
       "    <tr>\n",
       "      <th>4</th>\n",
       "      <td>5f8e90320054a6c5fab1544e</td>\n",
       "      <td>nipple_discharge</td>\n",
       "      <td>2020-10-19 18:56:00</td>\n",
       "      <td>3.0</td>\n",
       "      <td>NaN</td>\n",
       "      <td>NaN</td>\n",
       "      <td>False</td>\n",
       "      <td>NaN</td>\n",
       "      <td>1686178449</td>\n",
       "    </tr>\n",
       "  </tbody>\n",
       "</table>\n",
       "</div>"
      ],
      "text/plain": [
       "                        uid              name            datetime  severity  \\\n",
       "0  5f8e90320054a6c5fab1544e   breast_swelling 2020-10-20 18:52:00       2.0   \n",
       "1  5f8e90320054a6c5fab1544e          bloating 2020-10-20 18:52:00       2.0   \n",
       "2  5f8e90320054a6c5fab1544e  nipple_discharge 2020-10-20 18:53:00       2.0   \n",
       "3  5f8e90320054a6c5fab1544e       hot_flashes 2020-10-20 07:00:00       3.0   \n",
       "4  5f8e90320054a6c5fab1544e  nipple_discharge 2020-10-19 18:56:00       3.0   \n",
       "\n",
       "  discreet  note  allday  alldaynum  symptom_id  \n",
       "0      NaN   NaN   False        NaN  1686178445  \n",
       "1      NaN   NaN   False        NaN  1686178446  \n",
       "2      NaN   NaN   False        NaN  1686178447  \n",
       "3      NaN   NaN    True        3.0  1686178448  \n",
       "4      NaN   NaN   False        NaN  1686178449  "
      ]
     },
     "execution_count": 19,
     "metadata": {},
     "output_type": "execute_result"
    }
   ],
   "source": [
    "# Drop triggers column from the main dataframe to generate the symptom specific datafame.\n",
    "symptoms = data.drop(columns=['triggers'])\n",
    "symptoms.head()"
   ]
  },
  {
   "cell_type": "code",
   "execution_count": 20,
   "id": "978ef775",
   "metadata": {
    "collapsed": false,
    "jupyter": {
     "outputs_hidden": false
    }
   },
   "outputs": [
    {
     "data": {
      "text/plain": [
       "uid                   object\n",
       "name                  object\n",
       "datetime      datetime64[ns]\n",
       "severity             float64\n",
       "discreet              object\n",
       "note                 float64\n",
       "allday                  bool\n",
       "alldaynum            float64\n",
       "symptom_id             int64\n",
       "dtype: object"
      ]
     },
     "execution_count": 20,
     "metadata": {},
     "output_type": "execute_result"
    }
   ],
   "source": [
    "symptoms.dtypes"
   ]
  },
  {
   "cell_type": "code",
   "execution_count": 21,
   "id": "2df8252f",
   "metadata": {
    "collapsed": false,
    "jupyter": {
     "outputs_hidden": false
    }
   },
   "outputs": [
    {
     "data": {
      "text/plain": [
       "array(['breast_swelling', 'bloating', 'nipple_discharge', 'hot_flashes',\n",
       "       'odor', 'anxiety', 'headaches', 'dry_skin', 'nausea',\n",
       "       'constipation', 'ovulation', 'depression', 'vomiting', 'allergies',\n",
       "       'joint_pain', 'cramps', 'fatigue', 'muscle_tension', 'breast_pain',\n",
       "       'painful_intercourse', 'heartburn', 'tingling_extremeties',\n",
       "       'yeast_infection', 'dry_eyes', 'hair_loss', 'itchy_skin',\n",
       "       'irregular_beat', 'diarrhea', 'insomnia', 'sex_drive',\n",
       "       'facial_hair', 'mood_swings', 'ringing_ears', 'brain_fog', 'uti',\n",
       "       'vaginal_dryness', 'night_sweats', 'chills', 'spotting',\n",
       "       'brittle_nails', 'ovulation_pain', 'memory_lapse', 'incontinence',\n",
       "       'dizzy', 'vertigo'], dtype=object)"
      ]
     },
     "execution_count": 21,
     "metadata": {},
     "output_type": "execute_result"
    }
   ],
   "source": [
    "symptoms['name'].unique()"
   ]
  },
  {
   "cell_type": "code",
   "execution_count": 22,
   "id": "28cb0103",
   "metadata": {
    "collapsed": false,
    "jupyter": {
     "outputs_hidden": false
    }
   },
   "outputs": [
    {
     "data": {
      "text/plain": [
       "(448772, 9)"
      ]
     },
     "execution_count": 22,
     "metadata": {},
     "output_type": "execute_result"
    }
   ],
   "source": [
    "symptoms.shape"
   ]
  },
  {
   "cell_type": "code",
   "execution_count": 23,
   "id": "050da969",
   "metadata": {
    "collapsed": false,
    "jupyter": {
     "outputs_hidden": false
    },
    "tags": []
   },
   "outputs": [
    {
     "data": {
      "text/plain": [
       "array([nan, '[\"Funky\"]', '[\"Yes\"]', '[\"Sweet\"]', '[\"Patchy, thinning\"]',\n",
       "       '[\"A lot of new hair\"]', '[\"No new facial hair growth\"]',\n",
       "       '[\"A few new hairs\"]', '[\"A little off\"]', '[\"Normal\"]',\n",
       "       '[\"Cracking, brittle\"]', '[]', '[\"No\"]', '[\"Strong, healthy\"]'],\n",
       "      dtype=object)"
      ]
     },
     "execution_count": 23,
     "metadata": {},
     "output_type": "execute_result"
    }
   ],
   "source": [
    "symptoms['discreet'].unique()"
   ]
  },
  {
   "cell_type": "code",
   "execution_count": 24,
   "id": "2a855998",
   "metadata": {
    "collapsed": false,
    "jupyter": {
     "outputs_hidden": false
    }
   },
   "outputs": [],
   "source": [
    "def fixSymptomTypes(symptoms):\n",
    "    \"\"\"\n",
    "    Method to fix the symptom types and also clean it up.\n",
    "    \"\"\"\n",
    "    \n",
    "    sym = symptoms.copy(deep=True)\n",
    "    sym['severity'] = symptoms['severity'].replace(to_replace=np.nan, value=-1)\n",
    "    sym['severity'] = sym['severity'].astype('int64')\n",
    "    sym['alldaynum'] = symptoms['alldaynum'].replace(to_replace=np.nan, value=-1)\n",
    "    sym['alldaynum'] = sym['alldaynum'].astype('int64')\n",
    "    sym['uid'] = sym['uid'].astype('string')\n",
    "    sym['name'] = sym['name'].astype('string')\n",
    "\n",
    "    sym['note'] = sym['note'].replace(to_replace=np.nan, value='')\n",
    "    sym['note'] = sym['note'].astype('string')\n",
    "    \n",
    "    # For discreet, we need to flatten it inside the column itself. \n",
    "    # Scanning the data shows that even if the values are arrays, each of them only has 1 element. \n",
    "    discreet = sym['discreet'].values\n",
    "    for (idx, d) in enumerate(discreet):\n",
    "        if d == np.nan:\n",
    "            discreet[idx] = ''\n",
    "            continue\n",
    "        try:\n",
    "            discreet[idx] = d.split('[\"')[1].split('\"]')[0]\n",
    "        except IndexError as ex:\n",
    "            #print('Exception raised when processing {d} : {ex}'.format(d=d, ex=ex))\n",
    "            discreet[idx] = ''\n",
    "        except AttributeError as ex:\n",
    "            #print('Exception raised when processing {d} : {ex}'.format(d=d, ex=ex))\n",
    "            discreet[idx] = ''\n",
    "            \n",
    "    sym['discreet'] = discreet\n",
    "    sym['discreet'] = sym['discreet'].astype('string')\n",
    "    \n",
    "    \n",
    "    return sym"
   ]
  },
  {
   "cell_type": "code",
   "execution_count": 25,
   "id": "439223e6",
   "metadata": {
    "collapsed": false,
    "jupyter": {
     "outputs_hidden": false
    }
   },
   "outputs": [],
   "source": [
    "sym = fixSymptomTypes(symptoms)"
   ]
  },
  {
   "cell_type": "code",
   "execution_count": 26,
   "id": "8df43270",
   "metadata": {
    "collapsed": false,
    "jupyter": {
     "outputs_hidden": false
    }
   },
   "outputs": [
    {
     "data": {
      "text/html": [
       "<div>\n",
       "<style scoped>\n",
       "    .dataframe tbody tr th:only-of-type {\n",
       "        vertical-align: middle;\n",
       "    }\n",
       "\n",
       "    .dataframe tbody tr th {\n",
       "        vertical-align: top;\n",
       "    }\n",
       "\n",
       "    .dataframe thead th {\n",
       "        text-align: right;\n",
       "    }\n",
       "</style>\n",
       "<table border=\"1\" class=\"dataframe\">\n",
       "  <thead>\n",
       "    <tr style=\"text-align: right;\">\n",
       "      <th></th>\n",
       "      <th>uid</th>\n",
       "      <th>name</th>\n",
       "      <th>datetime</th>\n",
       "      <th>severity</th>\n",
       "      <th>discreet</th>\n",
       "      <th>note</th>\n",
       "      <th>allday</th>\n",
       "      <th>alldaynum</th>\n",
       "      <th>symptom_id</th>\n",
       "    </tr>\n",
       "  </thead>\n",
       "  <tbody>\n",
       "    <tr>\n",
       "      <th>0</th>\n",
       "      <td>5f8e90320054a6c5fab1544e</td>\n",
       "      <td>breast_swelling</td>\n",
       "      <td>2020-10-20 18:52:00</td>\n",
       "      <td>2</td>\n",
       "      <td></td>\n",
       "      <td></td>\n",
       "      <td>False</td>\n",
       "      <td>-1</td>\n",
       "      <td>1686178445</td>\n",
       "    </tr>\n",
       "    <tr>\n",
       "      <th>1</th>\n",
       "      <td>5f8e90320054a6c5fab1544e</td>\n",
       "      <td>bloating</td>\n",
       "      <td>2020-10-20 18:52:00</td>\n",
       "      <td>2</td>\n",
       "      <td></td>\n",
       "      <td></td>\n",
       "      <td>False</td>\n",
       "      <td>-1</td>\n",
       "      <td>1686178446</td>\n",
       "    </tr>\n",
       "    <tr>\n",
       "      <th>2</th>\n",
       "      <td>5f8e90320054a6c5fab1544e</td>\n",
       "      <td>nipple_discharge</td>\n",
       "      <td>2020-10-20 18:53:00</td>\n",
       "      <td>2</td>\n",
       "      <td></td>\n",
       "      <td></td>\n",
       "      <td>False</td>\n",
       "      <td>-1</td>\n",
       "      <td>1686178447</td>\n",
       "    </tr>\n",
       "    <tr>\n",
       "      <th>3</th>\n",
       "      <td>5f8e90320054a6c5fab1544e</td>\n",
       "      <td>hot_flashes</td>\n",
       "      <td>2020-10-20 07:00:00</td>\n",
       "      <td>3</td>\n",
       "      <td></td>\n",
       "      <td></td>\n",
       "      <td>True</td>\n",
       "      <td>3</td>\n",
       "      <td>1686178448</td>\n",
       "    </tr>\n",
       "    <tr>\n",
       "      <th>4</th>\n",
       "      <td>5f8e90320054a6c5fab1544e</td>\n",
       "      <td>nipple_discharge</td>\n",
       "      <td>2020-10-19 18:56:00</td>\n",
       "      <td>3</td>\n",
       "      <td></td>\n",
       "      <td></td>\n",
       "      <td>False</td>\n",
       "      <td>-1</td>\n",
       "      <td>1686178449</td>\n",
       "    </tr>\n",
       "  </tbody>\n",
       "</table>\n",
       "</div>"
      ],
      "text/plain": [
       "                        uid              name            datetime  severity  \\\n",
       "0  5f8e90320054a6c5fab1544e   breast_swelling 2020-10-20 18:52:00         2   \n",
       "1  5f8e90320054a6c5fab1544e          bloating 2020-10-20 18:52:00         2   \n",
       "2  5f8e90320054a6c5fab1544e  nipple_discharge 2020-10-20 18:53:00         2   \n",
       "3  5f8e90320054a6c5fab1544e       hot_flashes 2020-10-20 07:00:00         3   \n",
       "4  5f8e90320054a6c5fab1544e  nipple_discharge 2020-10-19 18:56:00         3   \n",
       "\n",
       "  discreet note  allday  alldaynum  symptom_id  \n",
       "0                 False         -1  1686178445  \n",
       "1                 False         -1  1686178446  \n",
       "2                 False         -1  1686178447  \n",
       "3                  True          3  1686178448  \n",
       "4                 False         -1  1686178449  "
      ]
     },
     "execution_count": 26,
     "metadata": {},
     "output_type": "execute_result"
    }
   ],
   "source": [
    "sym.head()"
   ]
  },
  {
   "cell_type": "code",
   "execution_count": 27,
   "id": "5d2e47ff",
   "metadata": {
    "collapsed": false,
    "jupyter": {
     "outputs_hidden": false
    }
   },
   "outputs": [
    {
     "data": {
      "text/html": [
       "<div>\n",
       "<style scoped>\n",
       "    .dataframe tbody tr th:only-of-type {\n",
       "        vertical-align: middle;\n",
       "    }\n",
       "\n",
       "    .dataframe tbody tr th {\n",
       "        vertical-align: top;\n",
       "    }\n",
       "\n",
       "    .dataframe thead th {\n",
       "        text-align: right;\n",
       "    }\n",
       "</style>\n",
       "<table border=\"1\" class=\"dataframe\">\n",
       "  <thead>\n",
       "    <tr style=\"text-align: right;\">\n",
       "      <th></th>\n",
       "      <th>uid</th>\n",
       "      <th>name</th>\n",
       "      <th>datetime</th>\n",
       "      <th>severity</th>\n",
       "      <th>discreet</th>\n",
       "      <th>note</th>\n",
       "      <th>allday</th>\n",
       "      <th>alldaynum</th>\n",
       "      <th>symptom_id</th>\n",
       "    </tr>\n",
       "  </thead>\n",
       "  <tbody>\n",
       "    <tr>\n",
       "      <th>441680</th>\n",
       "      <td>640a88974c33a20028c60365</td>\n",
       "      <td>cramps</td>\n",
       "      <td>2023-03-10 18:39:53</td>\n",
       "      <td>2</td>\n",
       "      <td></td>\n",
       "      <td></td>\n",
       "      <td>True</td>\n",
       "      <td>2</td>\n",
       "      <td>1686620125</td>\n",
       "    </tr>\n",
       "    <tr>\n",
       "      <th>441681</th>\n",
       "      <td>640a88974c33a20028c60365</td>\n",
       "      <td>dry_skin</td>\n",
       "      <td>2023-03-10 18:39:56</td>\n",
       "      <td>2</td>\n",
       "      <td></td>\n",
       "      <td></td>\n",
       "      <td>False</td>\n",
       "      <td>-1</td>\n",
       "      <td>1686620126</td>\n",
       "    </tr>\n",
       "    <tr>\n",
       "      <th>441682</th>\n",
       "      <td>640a88974c33a20028c60365</td>\n",
       "      <td>itchy_skin</td>\n",
       "      <td>2023-03-10 18:39:56</td>\n",
       "      <td>2</td>\n",
       "      <td></td>\n",
       "      <td></td>\n",
       "      <td>False</td>\n",
       "      <td>-1</td>\n",
       "      <td>1686620127</td>\n",
       "    </tr>\n",
       "    <tr>\n",
       "      <th>441818</th>\n",
       "      <td>640a88974c33a20028c60365</td>\n",
       "      <td>bloating</td>\n",
       "      <td>2023-03-10 18:39:53</td>\n",
       "      <td>2</td>\n",
       "      <td></td>\n",
       "      <td></td>\n",
       "      <td>True</td>\n",
       "      <td>3</td>\n",
       "      <td>1686620263</td>\n",
       "    </tr>\n",
       "  </tbody>\n",
       "</table>\n",
       "</div>"
      ],
      "text/plain": [
       "                             uid        name            datetime  severity  \\\n",
       "441680  640a88974c33a20028c60365      cramps 2023-03-10 18:39:53         2   \n",
       "441681  640a88974c33a20028c60365    dry_skin 2023-03-10 18:39:56         2   \n",
       "441682  640a88974c33a20028c60365  itchy_skin 2023-03-10 18:39:56         2   \n",
       "441818  640a88974c33a20028c60365    bloating 2023-03-10 18:39:53         2   \n",
       "\n",
       "       discreet note  allday  alldaynum  symptom_id  \n",
       "441680                  True          2  1686620125  \n",
       "441681                 False         -1  1686620126  \n",
       "441682                 False         -1  1686620127  \n",
       "441818                  True          3  1686620263  "
      ]
     },
     "execution_count": 27,
     "metadata": {},
     "output_type": "execute_result"
    }
   ],
   "source": [
    "sym[sym['uid'] == '640a88974c33a20028c60365']"
   ]
  },
  {
   "cell_type": "code",
   "execution_count": 28,
   "id": "7c648073",
   "metadata": {
    "collapsed": false,
    "jupyter": {
     "outputs_hidden": false
    }
   },
   "outputs": [
    {
     "data": {
      "text/plain": [
       "uid                   string\n",
       "name                  string\n",
       "datetime      datetime64[ns]\n",
       "severity               int64\n",
       "discreet              string\n",
       "note                  string\n",
       "allday                  bool\n",
       "alldaynum              int64\n",
       "symptom_id             int64\n",
       "dtype: object"
      ]
     },
     "execution_count": 28,
     "metadata": {},
     "output_type": "execute_result"
    }
   ],
   "source": [
    "sym.dtypes"
   ]
  },
  {
   "cell_type": "markdown",
   "id": "59636441",
   "metadata": {},
   "source": [
    "We are now ready to upload the tables to Glue."
   ]
  },
  {
   "cell_type": "code",
   "execution_count": 29,
   "id": "31238372",
   "metadata": {
    "collapsed": false,
    "jupyter": {
     "outputs_hidden": false
    }
   },
   "outputs": [
    {
     "name": "stdout",
     "output_type": "stream",
     "text": [
      "env: AWS_PROFILE=opensci\n"
     ]
    }
   ],
   "source": [
    "%env AWS_PROFILE=opensci"
   ]
  },
  {
   "cell_type": "code",
   "execution_count": 30,
   "id": "94ba8bce",
   "metadata": {
    "collapsed": false,
    "jupyter": {
     "outputs_hidden": false
    }
   },
   "outputs": [
    {
     "data": {
      "text/plain": [
       "(448772, 9)"
      ]
     },
     "execution_count": 30,
     "metadata": {},
     "output_type": "execute_result"
    }
   ],
   "source": [
    "sym.shape"
   ]
  },
  {
   "cell_type": "code",
   "execution_count": 31,
   "id": "441d8b53",
   "metadata": {
    "collapsed": false,
    "jupyter": {
     "outputs_hidden": false
    }
   },
   "outputs": [],
   "source": [
    "import awswrangler as aw"
   ]
  },
  {
   "cell_type": "code",
   "execution_count": 36,
   "id": "ef3e0208",
   "metadata": {
    "collapsed": false,
    "jupyter": {
     "outputs_hidden": false
    }
   },
   "outputs": [
    {
     "data": {
      "text/plain": [
       "{'paths': ['s3://menolife-opensci/dataset/symptoms/cfa925e452f146658f4db4e996035333.snappy.parquet'],\n",
       " 'partitions_values': {}}"
      ]
     },
     "execution_count": 36,
     "metadata": {},
     "output_type": "execute_result"
    }
   ],
   "source": [
    "# Storing data on Data Lake\n",
    "aw.s3.to_parquet(\n",
    "    df=sym,\n",
    "    path=\"s3://menolife-opensci/dataset/symptoms/\",\n",
    "    dataset=True,\n",
    "    database=\"menolife\",\n",
    "    table=\"symptoms\",\n",
    "    index=False\n",
    ")"
   ]
  },
  {
   "cell_type": "code",
   "execution_count": 37,
   "id": "0901de11",
   "metadata": {
    "collapsed": false,
    "jupyter": {
     "outputs_hidden": false
    }
   },
   "outputs": [
    {
     "data": {
      "text/plain": [
       "{'paths': ['s3://menolife-opensci/dataset/triggers/6b7ae26ce076488190d32e81f759317b.snappy.parquet'],\n",
       " 'partitions_values': {}}"
      ]
     },
     "execution_count": 37,
     "metadata": {},
     "output_type": "execute_result"
    }
   ],
   "source": [
    "# Storing triggers data on Data Lake\n",
    "aw.s3.to_parquet(\n",
    "    df=triggers,\n",
    "    path=\"s3://menolife-opensci/dataset/triggers/\",\n",
    "    dataset=True,\n",
    "    database=\"menolife\",\n",
    "    table=\"triggers\",\n",
    "    index=False\n",
    ")"
   ]
  },
  {
   "cell_type": "markdown",
   "id": "b5b6f588",
   "metadata": {},
   "source": [
    "<hr>"
   ]
  },
  {
   "cell_type": "markdown",
   "id": "0612afa7",
   "metadata": {
    "jp-MarkdownHeadingCollapsed": true,
    "tags": []
   },
   "source": [
    "# Checkins"
   ]
  },
  {
   "cell_type": "code",
   "execution_count": 35,
   "id": "eb0a616a",
   "metadata": {
    "collapsed": false,
    "jupyter": {
     "outputs_hidden": false
    }
   },
   "outputs": [
    {
     "data": {
      "text/html": [
       "<div>\n",
       "<style scoped>\n",
       "    .dataframe tbody tr th:only-of-type {\n",
       "        vertical-align: middle;\n",
       "    }\n",
       "\n",
       "    .dataframe tbody tr th {\n",
       "        vertical-align: top;\n",
       "    }\n",
       "\n",
       "    .dataframe thead th {\n",
       "        text-align: right;\n",
       "    }\n",
       "</style>\n",
       "<table border=\"1\" class=\"dataframe\">\n",
       "  <thead>\n",
       "    <tr style=\"text-align: right;\">\n",
       "      <th></th>\n",
       "      <th>uid</th>\n",
       "      <th>timestamp</th>\n",
       "      <th>type</th>\n",
       "      <th>weight</th>\n",
       "      <th>weight_unit</th>\n",
       "      <th>mood</th>\n",
       "      <th>exercise</th>\n",
       "      <th>sleep</th>\n",
       "    </tr>\n",
       "  </thead>\n",
       "  <tbody>\n",
       "    <tr>\n",
       "      <th>0</th>\n",
       "      <td>ObjectId(6045a7bdbea29a1eb66bb4e8)</td>\n",
       "      <td>2021-03-08T04:37:03.919Z</td>\n",
       "      <td>PM</td>\n",
       "      <td>195.0</td>\n",
       "      <td>lbs</td>\n",
       "      <td>Not good, but not bad either.</td>\n",
       "      <td>No</td>\n",
       "      <td>8</td>\n",
       "    </tr>\n",
       "    <tr>\n",
       "      <th>1</th>\n",
       "      <td>ObjectId(5f8e22b60054a6c5fab15447)</td>\n",
       "      <td>2020-10-19T23:37:43.890Z</td>\n",
       "      <td>PM</td>\n",
       "      <td>NaN</td>\n",
       "      <td>NaN</td>\n",
       "      <td>Awful.</td>\n",
       "      <td>No</td>\n",
       "      <td>NaN</td>\n",
       "    </tr>\n",
       "    <tr>\n",
       "      <th>2</th>\n",
       "      <td>ObjectId(5f8e22b60054a6c5fab15447)</td>\n",
       "      <td>2020-10-19T23:39:50.201Z</td>\n",
       "      <td>PM</td>\n",
       "      <td>NaN</td>\n",
       "      <td>NaN</td>\n",
       "      <td>Awful.</td>\n",
       "      <td>No</td>\n",
       "      <td>NaN</td>\n",
       "    </tr>\n",
       "    <tr>\n",
       "      <th>3</th>\n",
       "      <td>ObjectId(5f8e22b60054a6c5fab15447)</td>\n",
       "      <td>2020-10-19T23:40:01.399Z</td>\n",
       "      <td>PM</td>\n",
       "      <td>NaN</td>\n",
       "      <td>NaN</td>\n",
       "      <td>Great!</td>\n",
       "      <td>Yes</td>\n",
       "      <td>NaN</td>\n",
       "    </tr>\n",
       "    <tr>\n",
       "      <th>4</th>\n",
       "      <td>ObjectId(5f8e89640054a6c5fab1544d)</td>\n",
       "      <td>2020-10-20T07:59:24.540Z</td>\n",
       "      <td>PM</td>\n",
       "      <td>NaN</td>\n",
       "      <td>NaN</td>\n",
       "      <td>Great!</td>\n",
       "      <td>Yes</td>\n",
       "      <td>NaN</td>\n",
       "    </tr>\n",
       "  </tbody>\n",
       "</table>\n",
       "</div>"
      ],
      "text/plain": [
       "                                  uid                 timestamp type  weight  \\\n",
       "0  ObjectId(6045a7bdbea29a1eb66bb4e8)  2021-03-08T04:37:03.919Z   PM   195.0   \n",
       "1  ObjectId(5f8e22b60054a6c5fab15447)  2020-10-19T23:37:43.890Z   PM     NaN   \n",
       "2  ObjectId(5f8e22b60054a6c5fab15447)  2020-10-19T23:39:50.201Z   PM     NaN   \n",
       "3  ObjectId(5f8e22b60054a6c5fab15447)  2020-10-19T23:40:01.399Z   PM     NaN   \n",
       "4  ObjectId(5f8e89640054a6c5fab1544d)  2020-10-20T07:59:24.540Z   PM     NaN   \n",
       "\n",
       "  weight_unit                           mood exercise sleep  \n",
       "0         lbs  Not good, but not bad either.       No     8  \n",
       "1         NaN                         Awful.       No   NaN  \n",
       "2         NaN                         Awful.       No   NaN  \n",
       "3         NaN                         Great!      Yes   NaN  \n",
       "4         NaN                         Great!      Yes   NaN  "
      ]
     },
     "execution_count": 35,
     "metadata": {},
     "output_type": "execute_result"
    }
   ],
   "source": [
    "data = pd.read_csv(open('raw_data/checkin.csv', 'r'), low_memory=False)\n",
    "data.head()"
   ]
  },
  {
   "cell_type": "code",
   "execution_count": 36,
   "id": "d0aa5e61",
   "metadata": {
    "collapsed": false,
    "jupyter": {
     "outputs_hidden": false
    }
   },
   "outputs": [
    {
     "data": {
      "text/plain": [
       "uid             object\n",
       "timestamp       object\n",
       "type            object\n",
       "weight         float64\n",
       "weight_unit     object\n",
       "mood            object\n",
       "exercise        object\n",
       "sleep           object\n",
       "dtype: object"
      ]
     },
     "execution_count": 36,
     "metadata": {},
     "output_type": "execute_result"
    }
   ],
   "source": [
    "data.dtypes"
   ]
  },
  {
   "cell_type": "code",
   "execution_count": 37,
   "id": "361b6279",
   "metadata": {
    "collapsed": false,
    "jupyter": {
     "outputs_hidden": false
    }
   },
   "outputs": [
    {
     "data": {
      "text/plain": [
       "array(['No', 'Yes', nan], dtype=object)"
      ]
     },
     "execution_count": 37,
     "metadata": {},
     "output_type": "execute_result"
    }
   ],
   "source": [
    "data['exercise'].unique()"
   ]
  },
  {
   "cell_type": "code",
   "execution_count": 38,
   "id": "4f5ca713",
   "metadata": {
    "collapsed": false,
    "jupyter": {
     "outputs_hidden": false
    }
   },
   "outputs": [
    {
     "data": {
      "text/plain": [
       "array(['PM', 'AM'], dtype=object)"
      ]
     },
     "execution_count": 38,
     "metadata": {},
     "output_type": "execute_result"
    }
   ],
   "source": [
    "data['type'].unique()"
   ]
  },
  {
   "cell_type": "code",
   "execution_count": 39,
   "id": "85122583",
   "metadata": {
    "collapsed": false,
    "jupyter": {
     "outputs_hidden": false
    }
   },
   "outputs": [],
   "source": [
    "data = fixUid(data)\n",
    "data = fixTime(data, 'timestamp')"
   ]
  },
  {
   "cell_type": "code",
   "execution_count": 40,
   "id": "97fc0d9f",
   "metadata": {
    "collapsed": false,
    "jupyter": {
     "outputs_hidden": false
    }
   },
   "outputs": [
    {
     "data": {
      "text/html": [
       "<div>\n",
       "<style scoped>\n",
       "    .dataframe tbody tr th:only-of-type {\n",
       "        vertical-align: middle;\n",
       "    }\n",
       "\n",
       "    .dataframe tbody tr th {\n",
       "        vertical-align: top;\n",
       "    }\n",
       "\n",
       "    .dataframe thead th {\n",
       "        text-align: right;\n",
       "    }\n",
       "</style>\n",
       "<table border=\"1\" class=\"dataframe\">\n",
       "  <thead>\n",
       "    <tr style=\"text-align: right;\">\n",
       "      <th></th>\n",
       "      <th>uid</th>\n",
       "      <th>datetime</th>\n",
       "      <th>type</th>\n",
       "      <th>weight</th>\n",
       "      <th>weight_unit</th>\n",
       "      <th>mood</th>\n",
       "      <th>exercise</th>\n",
       "      <th>sleep</th>\n",
       "    </tr>\n",
       "  </thead>\n",
       "  <tbody>\n",
       "    <tr>\n",
       "      <th>0</th>\n",
       "      <td>6045a7bdbea29a1eb66bb4e8</td>\n",
       "      <td>2021-03-08 04:37:03</td>\n",
       "      <td>PM</td>\n",
       "      <td>195.0</td>\n",
       "      <td>lbs</td>\n",
       "      <td>Not good, but not bad either.</td>\n",
       "      <td>No</td>\n",
       "      <td>8</td>\n",
       "    </tr>\n",
       "    <tr>\n",
       "      <th>1</th>\n",
       "      <td>5f8e22b60054a6c5fab15447</td>\n",
       "      <td>2020-10-19 23:37:43</td>\n",
       "      <td>PM</td>\n",
       "      <td>NaN</td>\n",
       "      <td>NaN</td>\n",
       "      <td>Awful.</td>\n",
       "      <td>No</td>\n",
       "      <td>NaN</td>\n",
       "    </tr>\n",
       "    <tr>\n",
       "      <th>2</th>\n",
       "      <td>5f8e22b60054a6c5fab15447</td>\n",
       "      <td>2020-10-19 23:39:50</td>\n",
       "      <td>PM</td>\n",
       "      <td>NaN</td>\n",
       "      <td>NaN</td>\n",
       "      <td>Awful.</td>\n",
       "      <td>No</td>\n",
       "      <td>NaN</td>\n",
       "    </tr>\n",
       "    <tr>\n",
       "      <th>3</th>\n",
       "      <td>5f8e22b60054a6c5fab15447</td>\n",
       "      <td>2020-10-19 23:40:01</td>\n",
       "      <td>PM</td>\n",
       "      <td>NaN</td>\n",
       "      <td>NaN</td>\n",
       "      <td>Great!</td>\n",
       "      <td>Yes</td>\n",
       "      <td>NaN</td>\n",
       "    </tr>\n",
       "    <tr>\n",
       "      <th>4</th>\n",
       "      <td>5f8e89640054a6c5fab1544d</td>\n",
       "      <td>2020-10-20 07:59:24</td>\n",
       "      <td>PM</td>\n",
       "      <td>NaN</td>\n",
       "      <td>NaN</td>\n",
       "      <td>Great!</td>\n",
       "      <td>Yes</td>\n",
       "      <td>NaN</td>\n",
       "    </tr>\n",
       "  </tbody>\n",
       "</table>\n",
       "</div>"
      ],
      "text/plain": [
       "                        uid            datetime type  weight weight_unit  \\\n",
       "0  6045a7bdbea29a1eb66bb4e8 2021-03-08 04:37:03   PM   195.0         lbs   \n",
       "1  5f8e22b60054a6c5fab15447 2020-10-19 23:37:43   PM     NaN         NaN   \n",
       "2  5f8e22b60054a6c5fab15447 2020-10-19 23:39:50   PM     NaN         NaN   \n",
       "3  5f8e22b60054a6c5fab15447 2020-10-19 23:40:01   PM     NaN         NaN   \n",
       "4  5f8e89640054a6c5fab1544d 2020-10-20 07:59:24   PM     NaN         NaN   \n",
       "\n",
       "                            mood exercise sleep  \n",
       "0  Not good, but not bad either.       No     8  \n",
       "1                         Awful.       No   NaN  \n",
       "2                         Awful.       No   NaN  \n",
       "3                         Great!      Yes   NaN  \n",
       "4                         Great!      Yes   NaN  "
      ]
     },
     "execution_count": 40,
     "metadata": {},
     "output_type": "execute_result"
    }
   ],
   "source": [
    "data.head()"
   ]
  },
  {
   "cell_type": "code",
   "execution_count": 41,
   "id": "899f58fd",
   "metadata": {
    "collapsed": false,
    "jupyter": {
     "outputs_hidden": false
    }
   },
   "outputs": [
    {
     "data": {
      "text/plain": [
       "uid                    object\n",
       "datetime       datetime64[ns]\n",
       "type                   object\n",
       "weight                float64\n",
       "weight_unit            object\n",
       "mood                   object\n",
       "exercise               object\n",
       "sleep                  object\n",
       "dtype: object"
      ]
     },
     "execution_count": 41,
     "metadata": {},
     "output_type": "execute_result"
    }
   ],
   "source": [
    "data.dtypes"
   ]
  },
  {
   "cell_type": "code",
   "execution_count": 42,
   "id": "29574b50",
   "metadata": {
    "collapsed": false,
    "jupyter": {
     "outputs_hidden": false
    }
   },
   "outputs": [
    {
     "data": {
      "text/plain": [
       "array(['8', nan, 'More than 8 hours', 'None', '6 to 8 hours',\n",
       "       '2 to 4 hours', '6', '4', '1 to 2 hours', '4 to 6 hours', '5', '7',\n",
       "       '9', '3', '10', '0', '2', '15', '11', '1', '12', '13', '14', '24',\n",
       "       '23', '18', '17', '16', '21', '22', '20', '19'], dtype=object)"
      ]
     },
     "execution_count": 42,
     "metadata": {},
     "output_type": "execute_result"
    }
   ],
   "source": [
    "data['sleep'].unique()"
   ]
  },
  {
   "cell_type": "code",
   "execution_count": 43,
   "id": "b12cef37",
   "metadata": {
    "collapsed": false,
    "jupyter": {
     "outputs_hidden": false
    }
   },
   "outputs": [],
   "source": [
    "def fixTypesCheckin(frame):\n",
    "    \"\"\"\n",
    "    Method which fixes the types for the checkin frame.\n",
    "    \"\"\"\n",
    "    \n",
    "    checkin = frame.copy(deep=True)\n",
    "    \n",
    "    checkin['uid'] = checkin['uid'].astype('string')\n",
    "    checkin['type'] = checkin['type'].astype('string')\n",
    "    \n",
    "    checkin['weight'] = checkin['weight'].replace(to_replace=np.nan, value=-1)\n",
    "    checkin['weight'] = checkin['weight'].astype('float64')\n",
    "    \n",
    "    checkin['weight_unit'] = checkin['weight_unit'].replace(to_replace=np.nan, value='')\n",
    "    checkin['weight_unit'] = checkin['weight_unit'].astype('string')\n",
    "    \n",
    "    checkin['mood'] = checkin['mood'].replace(to_replace=np.nan, value='')\n",
    "    checkin['mood'] = checkin['mood'].astype('string')\n",
    "    \n",
    "    checkin['exercise'] = checkin['exercise'].replace(to_replace=np.nan, value='')\n",
    "    checkin['exercise'] = checkin['exercise'].astype('string')\n",
    "    \n",
    "    \"\"\"\n",
    "    For sleep, we will split it into 2 separate columns. \n",
    "    (sleep, sleep_text)\n",
    "    * sleep column will have the numeric value if the users have entered that. (dtype=int)\n",
    "    * sleep_text will have the text value if the users had chosen that, or ''. (dtype=string)\n",
    "    \"\"\"\n",
    "    sleep = []\n",
    "    sleep_text = []\n",
    "    checkin['sleep'] = checkin['sleep'].replace(to_replace=np.nan, value='')\n",
    "    for s in checkin['sleep'].values:\n",
    "        try:\n",
    "            temp = int(s)\n",
    "            sleep += [s]\n",
    "            sleep_text += ['']\n",
    "        except ValueError as ex:\n",
    "            sleep += [-1]\n",
    "            sleep_text += [s]\n",
    "            \n",
    "    checkin['sleep'] = sleep\n",
    "    checkin['sleep'] = checkin['sleep'].astype('int64')\n",
    "    checkin['sleep_text'] = sleep_text\n",
    "    checkin['sleep_text'] = checkin['sleep_text'].astype('string')\n",
    "    \n",
    "    return checkin"
   ]
  },
  {
   "cell_type": "code",
   "execution_count": 44,
   "id": "0a6486bf",
   "metadata": {
    "collapsed": false,
    "jupyter": {
     "outputs_hidden": false
    }
   },
   "outputs": [],
   "source": [
    "checkin = fixTypesCheckin(data)"
   ]
  },
  {
   "cell_type": "code",
   "execution_count": 45,
   "id": "e850f8a4",
   "metadata": {
    "collapsed": false,
    "jupyter": {
     "outputs_hidden": false
    }
   },
   "outputs": [
    {
     "data": {
      "text/html": [
       "<div>\n",
       "<style scoped>\n",
       "    .dataframe tbody tr th:only-of-type {\n",
       "        vertical-align: middle;\n",
       "    }\n",
       "\n",
       "    .dataframe tbody tr th {\n",
       "        vertical-align: top;\n",
       "    }\n",
       "\n",
       "    .dataframe thead th {\n",
       "        text-align: right;\n",
       "    }\n",
       "</style>\n",
       "<table border=\"1\" class=\"dataframe\">\n",
       "  <thead>\n",
       "    <tr style=\"text-align: right;\">\n",
       "      <th></th>\n",
       "      <th>uid</th>\n",
       "      <th>datetime</th>\n",
       "      <th>type</th>\n",
       "      <th>weight</th>\n",
       "      <th>weight_unit</th>\n",
       "      <th>mood</th>\n",
       "      <th>exercise</th>\n",
       "      <th>sleep</th>\n",
       "      <th>sleep_text</th>\n",
       "    </tr>\n",
       "  </thead>\n",
       "  <tbody>\n",
       "    <tr>\n",
       "      <th>0</th>\n",
       "      <td>6045a7bdbea29a1eb66bb4e8</td>\n",
       "      <td>2021-03-08 04:37:03</td>\n",
       "      <td>PM</td>\n",
       "      <td>195.0</td>\n",
       "      <td>lbs</td>\n",
       "      <td>Not good, but not bad either.</td>\n",
       "      <td>No</td>\n",
       "      <td>8</td>\n",
       "      <td></td>\n",
       "    </tr>\n",
       "    <tr>\n",
       "      <th>1</th>\n",
       "      <td>5f8e22b60054a6c5fab15447</td>\n",
       "      <td>2020-10-19 23:37:43</td>\n",
       "      <td>PM</td>\n",
       "      <td>-1.0</td>\n",
       "      <td></td>\n",
       "      <td>Awful.</td>\n",
       "      <td>No</td>\n",
       "      <td>-1</td>\n",
       "      <td></td>\n",
       "    </tr>\n",
       "    <tr>\n",
       "      <th>2</th>\n",
       "      <td>5f8e22b60054a6c5fab15447</td>\n",
       "      <td>2020-10-19 23:39:50</td>\n",
       "      <td>PM</td>\n",
       "      <td>-1.0</td>\n",
       "      <td></td>\n",
       "      <td>Awful.</td>\n",
       "      <td>No</td>\n",
       "      <td>-1</td>\n",
       "      <td></td>\n",
       "    </tr>\n",
       "    <tr>\n",
       "      <th>3</th>\n",
       "      <td>5f8e22b60054a6c5fab15447</td>\n",
       "      <td>2020-10-19 23:40:01</td>\n",
       "      <td>PM</td>\n",
       "      <td>-1.0</td>\n",
       "      <td></td>\n",
       "      <td>Great!</td>\n",
       "      <td>Yes</td>\n",
       "      <td>-1</td>\n",
       "      <td></td>\n",
       "    </tr>\n",
       "    <tr>\n",
       "      <th>4</th>\n",
       "      <td>5f8e89640054a6c5fab1544d</td>\n",
       "      <td>2020-10-20 07:59:24</td>\n",
       "      <td>PM</td>\n",
       "      <td>-1.0</td>\n",
       "      <td></td>\n",
       "      <td>Great!</td>\n",
       "      <td>Yes</td>\n",
       "      <td>-1</td>\n",
       "      <td></td>\n",
       "    </tr>\n",
       "  </tbody>\n",
       "</table>\n",
       "</div>"
      ],
      "text/plain": [
       "                        uid            datetime type  weight weight_unit  \\\n",
       "0  6045a7bdbea29a1eb66bb4e8 2021-03-08 04:37:03   PM   195.0         lbs   \n",
       "1  5f8e22b60054a6c5fab15447 2020-10-19 23:37:43   PM    -1.0               \n",
       "2  5f8e22b60054a6c5fab15447 2020-10-19 23:39:50   PM    -1.0               \n",
       "3  5f8e22b60054a6c5fab15447 2020-10-19 23:40:01   PM    -1.0               \n",
       "4  5f8e89640054a6c5fab1544d 2020-10-20 07:59:24   PM    -1.0               \n",
       "\n",
       "                            mood exercise  sleep sleep_text  \n",
       "0  Not good, but not bad either.       No      8             \n",
       "1                         Awful.       No     -1             \n",
       "2                         Awful.       No     -1             \n",
       "3                         Great!      Yes     -1             \n",
       "4                         Great!      Yes     -1             "
      ]
     },
     "execution_count": 45,
     "metadata": {},
     "output_type": "execute_result"
    }
   ],
   "source": [
    "checkin.head()"
   ]
  },
  {
   "cell_type": "code",
   "execution_count": 46,
   "id": "cab0e6ae",
   "metadata": {
    "collapsed": false,
    "jupyter": {
     "outputs_hidden": false
    }
   },
   "outputs": [
    {
     "data": {
      "text/plain": [
       "uid                    string\n",
       "datetime       datetime64[ns]\n",
       "type                   string\n",
       "weight                float64\n",
       "weight_unit            string\n",
       "mood                   string\n",
       "exercise               string\n",
       "sleep                   int64\n",
       "sleep_text             string\n",
       "dtype: object"
      ]
     },
     "execution_count": 46,
     "metadata": {},
     "output_type": "execute_result"
    }
   ],
   "source": [
    "checkin.dtypes"
   ]
  },
  {
   "cell_type": "code",
   "execution_count": 47,
   "id": "49ab59ed",
   "metadata": {
    "collapsed": false,
    "jupyter": {
     "outputs_hidden": false
    }
   },
   "outputs": [
    {
     "data": {
      "text/plain": [
       "{'paths': ['s3://menolife-opensci/dataset/checkins/e323428158c74f289c9e662f9420c2db.snappy.parquet'],\n",
       " 'partitions_values': {}}"
      ]
     },
     "execution_count": 47,
     "metadata": {},
     "output_type": "execute_result"
    }
   ],
   "source": [
    "# Storing checki data on Data Lake\n",
    "aw.s3.to_parquet(\n",
    "    df=checkin,\n",
    "    path=\"s3://menolife-opensci/dataset/checkins/\",\n",
    "    dataset=True,\n",
    "    database=\"menolife\",\n",
    "    table=\"checkins\",\n",
    "    index=False\n",
    ")"
   ]
  },
  {
   "cell_type": "markdown",
   "id": "d51cd1b5-12bf-4ffe-88e6-3187811ed170",
   "metadata": {
    "jp-MarkdownHeadingCollapsed": true,
    "jupyter": {
     "outputs_hidden": false
    },
    "tags": []
   },
   "source": [
    "# Products data"
   ]
  },
  {
   "cell_type": "code",
   "execution_count": 48,
   "id": "1212c5bf-e00f-42be-8dba-516177ac28f1",
   "metadata": {},
   "outputs": [
    {
     "data": {
      "text/html": [
       "<div>\n",
       "<style scoped>\n",
       "    .dataframe tbody tr th:only-of-type {\n",
       "        vertical-align: middle;\n",
       "    }\n",
       "\n",
       "    .dataframe tbody tr th {\n",
       "        vertical-align: top;\n",
       "    }\n",
       "\n",
       "    .dataframe thead th {\n",
       "        text-align: right;\n",
       "    }\n",
       "</style>\n",
       "<table border=\"1\" class=\"dataframe\">\n",
       "  <thead>\n",
       "    <tr style=\"text-align: right;\">\n",
       "      <th></th>\n",
       "      <th>uid</th>\n",
       "      <th>sku</th>\n",
       "      <th>date_added</th>\n",
       "    </tr>\n",
       "  </thead>\n",
       "  <tbody>\n",
       "    <tr>\n",
       "      <th>0</th>\n",
       "      <td>ObjectId(5f07bcc8f284553b7b6a0a94)</td>\n",
       "      <td>MENOGLOW90</td>\n",
       "      <td>2021-03-23T21:40:00.000Z</td>\n",
       "    </tr>\n",
       "    <tr>\n",
       "      <th>1</th>\n",
       "      <td>ObjectId(5f07bcc8f284553b7b6a0a94)</td>\n",
       "      <td>MENOFIT90</td>\n",
       "      <td>2021-03-23T21:40:00.000Z</td>\n",
       "    </tr>\n",
       "    <tr>\n",
       "      <th>2</th>\n",
       "      <td>ObjectId(609bf58e5a14d7f274edf921)</td>\n",
       "      <td>MENOFIT</td>\n",
       "      <td>2020-07-08T18:49:28.000Z</td>\n",
       "    </tr>\n",
       "    <tr>\n",
       "      <th>3</th>\n",
       "      <td>ObjectId(609bf58e5a14d7f274edf921)</td>\n",
       "      <td>MENOFIT90</td>\n",
       "      <td>2020-07-13T19:29:36.000Z</td>\n",
       "    </tr>\n",
       "    <tr>\n",
       "      <th>4</th>\n",
       "      <td>ObjectId(609bf58e5a14d7f274edf921)</td>\n",
       "      <td>MENOGLOW90</td>\n",
       "      <td>2020-07-13T19:29:36.000Z</td>\n",
       "    </tr>\n",
       "  </tbody>\n",
       "</table>\n",
       "</div>"
      ],
      "text/plain": [
       "                                  uid         sku                date_added\n",
       "0  ObjectId(5f07bcc8f284553b7b6a0a94)  MENOGLOW90  2021-03-23T21:40:00.000Z\n",
       "1  ObjectId(5f07bcc8f284553b7b6a0a94)   MENOFIT90  2021-03-23T21:40:00.000Z\n",
       "2  ObjectId(609bf58e5a14d7f274edf921)     MENOFIT  2020-07-08T18:49:28.000Z\n",
       "3  ObjectId(609bf58e5a14d7f274edf921)   MENOFIT90  2020-07-13T19:29:36.000Z\n",
       "4  ObjectId(609bf58e5a14d7f274edf921)  MENOGLOW90  2020-07-13T19:29:36.000Z"
      ]
     },
     "execution_count": 48,
     "metadata": {},
     "output_type": "execute_result"
    }
   ],
   "source": [
    "products = pd.read_csv(open('raw_data/product.csv', 'r'))\n",
    "products.head()"
   ]
  },
  {
   "cell_type": "code",
   "execution_count": 49,
   "id": "0ae6e802-4bd0-4ce1-ac40-75af0195a406",
   "metadata": {},
   "outputs": [
    {
     "data": {
      "text/html": [
       "<div>\n",
       "<style scoped>\n",
       "    .dataframe tbody tr th:only-of-type {\n",
       "        vertical-align: middle;\n",
       "    }\n",
       "\n",
       "    .dataframe tbody tr th {\n",
       "        vertical-align: top;\n",
       "    }\n",
       "\n",
       "    .dataframe thead th {\n",
       "        text-align: right;\n",
       "    }\n",
       "</style>\n",
       "<table border=\"1\" class=\"dataframe\">\n",
       "  <thead>\n",
       "    <tr style=\"text-align: right;\">\n",
       "      <th></th>\n",
       "      <th>uid</th>\n",
       "      <th>sku</th>\n",
       "      <th>date_added</th>\n",
       "    </tr>\n",
       "  </thead>\n",
       "  <tbody>\n",
       "    <tr>\n",
       "      <th>0</th>\n",
       "      <td>5f07bcc8f284553b7b6a0a94</td>\n",
       "      <td>MENOGLOW90</td>\n",
       "      <td>2021-03-23T21:40:00.000Z</td>\n",
       "    </tr>\n",
       "    <tr>\n",
       "      <th>1</th>\n",
       "      <td>5f07bcc8f284553b7b6a0a94</td>\n",
       "      <td>MENOFIT90</td>\n",
       "      <td>2021-03-23T21:40:00.000Z</td>\n",
       "    </tr>\n",
       "    <tr>\n",
       "      <th>2</th>\n",
       "      <td>609bf58e5a14d7f274edf921</td>\n",
       "      <td>MENOFIT</td>\n",
       "      <td>2020-07-08T18:49:28.000Z</td>\n",
       "    </tr>\n",
       "    <tr>\n",
       "      <th>3</th>\n",
       "      <td>609bf58e5a14d7f274edf921</td>\n",
       "      <td>MENOFIT90</td>\n",
       "      <td>2020-07-13T19:29:36.000Z</td>\n",
       "    </tr>\n",
       "    <tr>\n",
       "      <th>4</th>\n",
       "      <td>609bf58e5a14d7f274edf921</td>\n",
       "      <td>MENOGLOW90</td>\n",
       "      <td>2020-07-13T19:29:36.000Z</td>\n",
       "    </tr>\n",
       "  </tbody>\n",
       "</table>\n",
       "</div>"
      ],
      "text/plain": [
       "                        uid         sku                date_added\n",
       "0  5f07bcc8f284553b7b6a0a94  MENOGLOW90  2021-03-23T21:40:00.000Z\n",
       "1  5f07bcc8f284553b7b6a0a94   MENOFIT90  2021-03-23T21:40:00.000Z\n",
       "2  609bf58e5a14d7f274edf921     MENOFIT  2020-07-08T18:49:28.000Z\n",
       "3  609bf58e5a14d7f274edf921   MENOFIT90  2020-07-13T19:29:36.000Z\n",
       "4  609bf58e5a14d7f274edf921  MENOGLOW90  2020-07-13T19:29:36.000Z"
      ]
     },
     "execution_count": 49,
     "metadata": {},
     "output_type": "execute_result"
    }
   ],
   "source": [
    "products = fixUid(products)\n",
    "products.head()"
   ]
  },
  {
   "cell_type": "code",
   "execution_count": 50,
   "id": "ac510b5c-f560-4a62-84af-c7d019af788a",
   "metadata": {},
   "outputs": [
    {
     "data": {
      "text/html": [
       "<div>\n",
       "<style scoped>\n",
       "    .dataframe tbody tr th:only-of-type {\n",
       "        vertical-align: middle;\n",
       "    }\n",
       "\n",
       "    .dataframe tbody tr th {\n",
       "        vertical-align: top;\n",
       "    }\n",
       "\n",
       "    .dataframe thead th {\n",
       "        text-align: right;\n",
       "    }\n",
       "</style>\n",
       "<table border=\"1\" class=\"dataframe\">\n",
       "  <thead>\n",
       "    <tr style=\"text-align: right;\">\n",
       "      <th></th>\n",
       "      <th>uid</th>\n",
       "      <th>sku</th>\n",
       "      <th>datetime</th>\n",
       "    </tr>\n",
       "  </thead>\n",
       "  <tbody>\n",
       "    <tr>\n",
       "      <th>0</th>\n",
       "      <td>5f07bcc8f284553b7b6a0a94</td>\n",
       "      <td>MENOGLOW90</td>\n",
       "      <td>2021-03-23 21:40:00</td>\n",
       "    </tr>\n",
       "    <tr>\n",
       "      <th>1</th>\n",
       "      <td>5f07bcc8f284553b7b6a0a94</td>\n",
       "      <td>MENOFIT90</td>\n",
       "      <td>2021-03-23 21:40:00</td>\n",
       "    </tr>\n",
       "    <tr>\n",
       "      <th>2</th>\n",
       "      <td>609bf58e5a14d7f274edf921</td>\n",
       "      <td>MENOFIT</td>\n",
       "      <td>2020-07-08 18:49:28</td>\n",
       "    </tr>\n",
       "    <tr>\n",
       "      <th>3</th>\n",
       "      <td>609bf58e5a14d7f274edf921</td>\n",
       "      <td>MENOFIT90</td>\n",
       "      <td>2020-07-13 19:29:36</td>\n",
       "    </tr>\n",
       "    <tr>\n",
       "      <th>4</th>\n",
       "      <td>609bf58e5a14d7f274edf921</td>\n",
       "      <td>MENOGLOW90</td>\n",
       "      <td>2020-07-13 19:29:36</td>\n",
       "    </tr>\n",
       "  </tbody>\n",
       "</table>\n",
       "</div>"
      ],
      "text/plain": [
       "                        uid         sku            datetime\n",
       "0  5f07bcc8f284553b7b6a0a94  MENOGLOW90 2021-03-23 21:40:00\n",
       "1  5f07bcc8f284553b7b6a0a94   MENOFIT90 2021-03-23 21:40:00\n",
       "2  609bf58e5a14d7f274edf921     MENOFIT 2020-07-08 18:49:28\n",
       "3  609bf58e5a14d7f274edf921   MENOFIT90 2020-07-13 19:29:36\n",
       "4  609bf58e5a14d7f274edf921  MENOGLOW90 2020-07-13 19:29:36"
      ]
     },
     "execution_count": 50,
     "metadata": {},
     "output_type": "execute_result"
    }
   ],
   "source": [
    "products = fixTime(products, 'date_added')\n",
    "products.head()"
   ]
  },
  {
   "cell_type": "code",
   "execution_count": 51,
   "id": "bba35b8f-0df9-48c5-852d-edf85ddf1ff9",
   "metadata": {},
   "outputs": [
    {
     "data": {
      "text/plain": [
       "uid                 object\n",
       "sku                 object\n",
       "datetime    datetime64[ns]\n",
       "dtype: object"
      ]
     },
     "execution_count": 51,
     "metadata": {},
     "output_type": "execute_result"
    }
   ],
   "source": [
    "products.dtypes"
   ]
  },
  {
   "cell_type": "code",
   "execution_count": 52,
   "id": "d0449a3c-97e3-4cee-a159-933987daa64a",
   "metadata": {},
   "outputs": [],
   "source": [
    "def fixTypesProducts(frame):\n",
    "    frame['uid'] = frame['uid'].astype('string')\n",
    "    frame['sku'] = frame['sku'].astype('string')\n",
    "    \n",
    "    return frame"
   ]
  },
  {
   "cell_type": "code",
   "execution_count": 53,
   "id": "cfa4eb21-6ade-46a5-8eaf-12970e1f419a",
   "metadata": {},
   "outputs": [
    {
     "data": {
      "text/plain": [
       "uid                 string\n",
       "sku                 string\n",
       "datetime    datetime64[ns]\n",
       "dtype: object"
      ]
     },
     "execution_count": 53,
     "metadata": {},
     "output_type": "execute_result"
    }
   ],
   "source": [
    "products = fixTypesProducts(products)\n",
    "products.dtypes"
   ]
  },
  {
   "cell_type": "code",
   "execution_count": 54,
   "id": "24295c3b-bab2-4275-bf86-09b8abc76f97",
   "metadata": {},
   "outputs": [
    {
     "data": {
      "text/html": [
       "<div>\n",
       "<style scoped>\n",
       "    .dataframe tbody tr th:only-of-type {\n",
       "        vertical-align: middle;\n",
       "    }\n",
       "\n",
       "    .dataframe tbody tr th {\n",
       "        vertical-align: top;\n",
       "    }\n",
       "\n",
       "    .dataframe thead th {\n",
       "        text-align: right;\n",
       "    }\n",
       "</style>\n",
       "<table border=\"1\" class=\"dataframe\">\n",
       "  <thead>\n",
       "    <tr style=\"text-align: right;\">\n",
       "      <th></th>\n",
       "      <th>uid</th>\n",
       "      <th>sku</th>\n",
       "      <th>datetime</th>\n",
       "    </tr>\n",
       "  </thead>\n",
       "  <tbody>\n",
       "    <tr>\n",
       "      <th>0</th>\n",
       "      <td>5f07bcc8f284553b7b6a0a94</td>\n",
       "      <td>MENOGLOW90</td>\n",
       "      <td>2021-03-23 21:40:00</td>\n",
       "    </tr>\n",
       "    <tr>\n",
       "      <th>1</th>\n",
       "      <td>5f07bcc8f284553b7b6a0a94</td>\n",
       "      <td>MENOFIT90</td>\n",
       "      <td>2021-03-23 21:40:00</td>\n",
       "    </tr>\n",
       "    <tr>\n",
       "      <th>2</th>\n",
       "      <td>609bf58e5a14d7f274edf921</td>\n",
       "      <td>MENOFIT</td>\n",
       "      <td>2020-07-08 18:49:28</td>\n",
       "    </tr>\n",
       "    <tr>\n",
       "      <th>3</th>\n",
       "      <td>609bf58e5a14d7f274edf921</td>\n",
       "      <td>MENOFIT90</td>\n",
       "      <td>2020-07-13 19:29:36</td>\n",
       "    </tr>\n",
       "    <tr>\n",
       "      <th>4</th>\n",
       "      <td>609bf58e5a14d7f274edf921</td>\n",
       "      <td>MENOGLOW90</td>\n",
       "      <td>2020-07-13 19:29:36</td>\n",
       "    </tr>\n",
       "  </tbody>\n",
       "</table>\n",
       "</div>"
      ],
      "text/plain": [
       "                        uid         sku            datetime\n",
       "0  5f07bcc8f284553b7b6a0a94  MENOGLOW90 2021-03-23 21:40:00\n",
       "1  5f07bcc8f284553b7b6a0a94   MENOFIT90 2021-03-23 21:40:00\n",
       "2  609bf58e5a14d7f274edf921     MENOFIT 2020-07-08 18:49:28\n",
       "3  609bf58e5a14d7f274edf921   MENOFIT90 2020-07-13 19:29:36\n",
       "4  609bf58e5a14d7f274edf921  MENOGLOW90 2020-07-13 19:29:36"
      ]
     },
     "execution_count": 54,
     "metadata": {},
     "output_type": "execute_result"
    }
   ],
   "source": [
    "products.head()"
   ]
  },
  {
   "cell_type": "code",
   "execution_count": 55,
   "id": "78f03a12-e8a6-4bbc-993d-7187094daa84",
   "metadata": {},
   "outputs": [
    {
     "data": {
      "text/plain": [
       "{'paths': ['s3://menolife-opensci/dataset/products/24a3ae50be7e415d8557041272ad9e61.snappy.parquet'],\n",
       " 'partitions_values': {}}"
      ]
     },
     "execution_count": 55,
     "metadata": {},
     "output_type": "execute_result"
    }
   ],
   "source": [
    "# Storing checki data on Data Lake\n",
    "aw.s3.to_parquet(\n",
    "    df=products,\n",
    "    path=\"s3://menolife-opensci/dataset/products/\",\n",
    "    dataset=True,\n",
    "    database=\"menolife\",\n",
    "    table=\"products\",\n",
    "    index=False\n",
    ")"
   ]
  },
  {
   "cell_type": "markdown",
   "id": "3d927371-30ca-42c8-8d9e-92e74d0abfcc",
   "metadata": {},
   "source": [
    "# Period Data"
   ]
  },
  {
   "cell_type": "code",
   "execution_count": 56,
   "id": "815c4e72-9436-4aa3-a548-ef7c8c15bc63",
   "metadata": {},
   "outputs": [
    {
     "data": {
      "text/html": [
       "<div>\n",
       "<style scoped>\n",
       "    .dataframe tbody tr th:only-of-type {\n",
       "        vertical-align: middle;\n",
       "    }\n",
       "\n",
       "    .dataframe tbody tr th {\n",
       "        vertical-align: top;\n",
       "    }\n",
       "\n",
       "    .dataframe thead th {\n",
       "        text-align: right;\n",
       "    }\n",
       "</style>\n",
       "<table border=\"1\" class=\"dataframe\">\n",
       "  <thead>\n",
       "    <tr style=\"text-align: right;\">\n",
       "      <th></th>\n",
       "      <th>uid</th>\n",
       "      <th>start_time</th>\n",
       "      <th>flow</th>\n",
       "    </tr>\n",
       "  </thead>\n",
       "  <tbody>\n",
       "    <tr>\n",
       "      <th>0</th>\n",
       "      <td>ObjectId(640a88974c33a20028c60365)</td>\n",
       "      <td>2023-03-10T05:00:00.000Z</td>\n",
       "      <td>[{\"flow_time\":{\"$date\":\"2023-03-10T05:00:00.00...</td>\n",
       "    </tr>\n",
       "    <tr>\n",
       "      <th>1</th>\n",
       "      <td>ObjectId(60fd791bbea29a1eb66d0610)</td>\n",
       "      <td>2021-10-31T04:00:00.000Z</td>\n",
       "      <td>[{\"flow_time\":{\"$date\":\"2021-10-31T04:00:00.00...</td>\n",
       "    </tr>\n",
       "    <tr>\n",
       "      <th>2</th>\n",
       "      <td>ObjectId(60d07cf4bea29a1eb66ca764)</td>\n",
       "      <td>2021-06-15T04:00:00.000Z</td>\n",
       "      <td>[{\"flow_time\":{\"$date\":\"2021-06-15T04:00:00.00...</td>\n",
       "    </tr>\n",
       "    <tr>\n",
       "      <th>3</th>\n",
       "      <td>ObjectId(5f8e89640054a6c5fab1544d)</td>\n",
       "      <td>2020-10-17T18:30:00.000Z</td>\n",
       "      <td>[{\"flow_time\":{\"$date\":\"2020-10-17T18:30:00.00...</td>\n",
       "    </tr>\n",
       "    <tr>\n",
       "      <th>4</th>\n",
       "      <td>ObjectId(60283634bea29a1eb66b7c1d)</td>\n",
       "      <td>2021-06-20T10:06:01.032Z</td>\n",
       "      <td>[{\"flow_time\":{\"$date\":\"2021-06-20T10:06:01.03...</td>\n",
       "    </tr>\n",
       "  </tbody>\n",
       "</table>\n",
       "</div>"
      ],
      "text/plain": [
       "                                  uid                start_time  \\\n",
       "0  ObjectId(640a88974c33a20028c60365)  2023-03-10T05:00:00.000Z   \n",
       "1  ObjectId(60fd791bbea29a1eb66d0610)  2021-10-31T04:00:00.000Z   \n",
       "2  ObjectId(60d07cf4bea29a1eb66ca764)  2021-06-15T04:00:00.000Z   \n",
       "3  ObjectId(5f8e89640054a6c5fab1544d)  2020-10-17T18:30:00.000Z   \n",
       "4  ObjectId(60283634bea29a1eb66b7c1d)  2021-06-20T10:06:01.032Z   \n",
       "\n",
       "                                                flow  \n",
       "0  [{\"flow_time\":{\"$date\":\"2023-03-10T05:00:00.00...  \n",
       "1  [{\"flow_time\":{\"$date\":\"2021-10-31T04:00:00.00...  \n",
       "2  [{\"flow_time\":{\"$date\":\"2021-06-15T04:00:00.00...  \n",
       "3  [{\"flow_time\":{\"$date\":\"2020-10-17T18:30:00.00...  \n",
       "4  [{\"flow_time\":{\"$date\":\"2021-06-20T10:06:01.03...  "
      ]
     },
     "execution_count": 56,
     "metadata": {},
     "output_type": "execute_result"
    }
   ],
   "source": [
    "filename = 'raw_data/periods.csv'\n",
    "periods = pd.read_csv(open(filename, 'r'))\n",
    "periods.head()"
   ]
  },
  {
   "cell_type": "code",
   "execution_count": 57,
   "id": "62e1869a-ee2c-4455-b0b6-d3b905effcff",
   "metadata": {},
   "outputs": [
    {
     "data": {
      "text/html": [
       "<div>\n",
       "<style scoped>\n",
       "    .dataframe tbody tr th:only-of-type {\n",
       "        vertical-align: middle;\n",
       "    }\n",
       "\n",
       "    .dataframe tbody tr th {\n",
       "        vertical-align: top;\n",
       "    }\n",
       "\n",
       "    .dataframe thead th {\n",
       "        text-align: right;\n",
       "    }\n",
       "</style>\n",
       "<table border=\"1\" class=\"dataframe\">\n",
       "  <thead>\n",
       "    <tr style=\"text-align: right;\">\n",
       "      <th></th>\n",
       "      <th>uid</th>\n",
       "      <th>start_time</th>\n",
       "      <th>flow</th>\n",
       "    </tr>\n",
       "  </thead>\n",
       "  <tbody>\n",
       "    <tr>\n",
       "      <th>0</th>\n",
       "      <td>640a88974c33a20028c60365</td>\n",
       "      <td>2023-03-10 05:00:00</td>\n",
       "      <td>[{\"flow_time\":{\"$date\":\"2023-03-10T05:00:00.00...</td>\n",
       "    </tr>\n",
       "    <tr>\n",
       "      <th>1</th>\n",
       "      <td>60fd791bbea29a1eb66d0610</td>\n",
       "      <td>2021-10-31 04:00:00</td>\n",
       "      <td>[{\"flow_time\":{\"$date\":\"2021-10-31T04:00:00.00...</td>\n",
       "    </tr>\n",
       "    <tr>\n",
       "      <th>2</th>\n",
       "      <td>60d07cf4bea29a1eb66ca764</td>\n",
       "      <td>2021-06-15 04:00:00</td>\n",
       "      <td>[{\"flow_time\":{\"$date\":\"2021-06-15T04:00:00.00...</td>\n",
       "    </tr>\n",
       "    <tr>\n",
       "      <th>3</th>\n",
       "      <td>5f8e89640054a6c5fab1544d</td>\n",
       "      <td>2020-10-17 18:30:00</td>\n",
       "      <td>[{\"flow_time\":{\"$date\":\"2020-10-17T18:30:00.00...</td>\n",
       "    </tr>\n",
       "    <tr>\n",
       "      <th>4</th>\n",
       "      <td>60283634bea29a1eb66b7c1d</td>\n",
       "      <td>2021-06-20 10:06:01</td>\n",
       "      <td>[{\"flow_time\":{\"$date\":\"2021-06-20T10:06:01.03...</td>\n",
       "    </tr>\n",
       "  </tbody>\n",
       "</table>\n",
       "</div>"
      ],
      "text/plain": [
       "                        uid          start_time  \\\n",
       "0  640a88974c33a20028c60365 2023-03-10 05:00:00   \n",
       "1  60fd791bbea29a1eb66d0610 2021-10-31 04:00:00   \n",
       "2  60d07cf4bea29a1eb66ca764 2021-06-15 04:00:00   \n",
       "3  5f8e89640054a6c5fab1544d 2020-10-17 18:30:00   \n",
       "4  60283634bea29a1eb66b7c1d 2021-06-20 10:06:01   \n",
       "\n",
       "                                                flow  \n",
       "0  [{\"flow_time\":{\"$date\":\"2023-03-10T05:00:00.00...  \n",
       "1  [{\"flow_time\":{\"$date\":\"2021-10-31T04:00:00.00...  \n",
       "2  [{\"flow_time\":{\"$date\":\"2021-06-15T04:00:00.00...  \n",
       "3  [{\"flow_time\":{\"$date\":\"2020-10-17T18:30:00.00...  \n",
       "4  [{\"flow_time\":{\"$date\":\"2021-06-20T10:06:01.03...  "
      ]
     },
     "execution_count": 57,
     "metadata": {},
     "output_type": "execute_result"
    }
   ],
   "source": [
    "periods = fixUid(periods)\n",
    "periods = fixTime(periods, 'start_time', 'start_time')\n",
    "periods.head()"
   ]
  },
  {
   "cell_type": "code",
   "execution_count": 58,
   "id": "9b22512f-f10d-4c3e-920e-86fb6077f06e",
   "metadata": {},
   "outputs": [],
   "source": [
    "flows = periods['flow'].values\n",
    "counter = {}"
   ]
  },
  {
   "cell_type": "code",
   "execution_count": 59,
   "id": "a335c0d5-cfe1-4f73-b9d5-dd0d097800ba",
   "metadata": {},
   "outputs": [
    {
     "data": {
      "text/plain": [
       "'[{\"flow_time\":{\"$date\":\"2020-10-24T01:38:38.287Z\"},\"value\":2},{\"flow_time\":{\"$date\":\"2020-10-24T01:39:05.837Z\"},\"value\":2},{\"flow_time\":{\"$date\":\"2020-10-24T01:39:15.010Z\"},\"value\":2},{\"flow_time\":{\"$date\":\"2020-10-24T01:39:44.017Z\"},\"value\":2},{\"flow_time\":{\"$date\":\"2020-10-24T01:39:57.008Z\"},\"value\":2},{\"flow_time\":{\"$date\":\"2020-10-24T01:44:31.387Z\"},\"value\":2},{\"flow_time\":{\"$date\":\"2020-10-24T01:44:45.357Z\"},\"value\":3},{\"flow_time\":{\"$date\":\"2020-10-24T01:47:03.488Z\"},\"value\":2},{\"flow_time\":{\"$date\":\"2020-10-24T01:51:52.509Z\"},\"value\":2},{\"flow_time\":{\"$date\":\"2020-10-25T14:54:38.776Z\"},\"value\":1},{\"flow_time\":{\"$date\":\"2020-10-25T18:44:14.661Z\"},\"value\":0}]'"
      ]
     },
     "execution_count": 59,
     "metadata": {},
     "output_type": "execute_result"
    }
   ],
   "source": [
    "periods.iloc[11]['flow']"
   ]
  },
  {
   "cell_type": "markdown",
   "id": "bee6b085-aa98-43ec-a63b-fa688d10c930",
   "metadata": {},
   "source": [
    "Looks like each period entry indicates when a period started for a user. The flow array indicates a flow recording for the user and when they added it. \n",
    "\n",
    "TODO: We need to check with the app logic what value=0, value=1, etc. means. We had things like spotting, heavy flow, etc."
   ]
  },
  {
   "cell_type": "code",
   "execution_count": 60,
   "id": "69055269-cb8e-48e5-a20f-ef8d0ea44312",
   "metadata": {},
   "outputs": [],
   "source": [
    "periods = generateUniqueId(periods, 'period_id')"
   ]
  },
  {
   "cell_type": "code",
   "execution_count": 61,
   "id": "6f2d1179-aa62-4ef6-aaa6-1fe9f18b3958",
   "metadata": {},
   "outputs": [],
   "source": [
    "def createFlowTable(dataframe : pd.DataFrame) -> pd.DataFrame:\n",
    "    \"\"\"\n",
    "    Method which flattens the json and creates a flow table from the period data. \n",
    "    \"\"\"\n",
    "    \n",
    "    # Lists that will hold all the column data.\n",
    "    periodid = []\n",
    "    flow_time = []\n",
    "    flow_value = []\n",
    "    \n",
    "    for (period_id, flows) in zip(dataframe['period_id'], dataframe['flow']):\n",
    "        flows = json.loads(flows)\n",
    "        if len(flows) <= 0:\n",
    "            continue\n",
    "        \n",
    "        # For each flow entry we will flatten it.\n",
    "        for flow in flows:\n",
    "            ft = flow['flow_time']  # This in itself is a json that needs to be parsed.\n",
    "            ft = ft['$date']\n",
    "            # Convert from mongodb timestamp \n",
    "            d = datetime.strptime(ft, '%Y-%m-%dT%H:%M:%S.%fZ')\n",
    "            ft = d.strftime('%Y-%m-%d %H:%M:%S')\n",
    "            \n",
    "            fv = flow['value']\n",
    "            \n",
    "            # Add everything to the column arrays.\n",
    "            periodid += [period_id]\n",
    "            flow_time += [ft]\n",
    "            flow_value += [fv]\n",
    "            \n",
    "    \n",
    "    # Create a flows dataframe with all the information.\n",
    "    frame = pd.DataFrame({\n",
    "        'period_id' : periodid,\n",
    "        'datetime' : flow_time,\n",
    "        'value' : flow_value\n",
    "    })\n",
    "    \n",
    "    # Create the index for this as well.\n",
    "    t = int(datetime.now().timestamp())\n",
    "    frame['flow_id'] = np.arange(t, t+frame.shape[0])\n",
    "    frame.set_index('flow_id')\n",
    "    \n",
    "    # Reset some of the type information.\n",
    "    frame['datetime'] = frame['datetime'].astype('datetime64')\n",
    "    frame['value'] = frame['value'].astype('int64') \n",
    "    \n",
    "    return frame"
   ]
  },
  {
   "cell_type": "code",
   "execution_count": 62,
   "id": "5e57fe7d-4bb1-4051-b9f3-3dfa486d683e",
   "metadata": {},
   "outputs": [],
   "source": [
    "flows = createFlowTable(periods)"
   ]
  },
  {
   "cell_type": "code",
   "execution_count": 63,
   "id": "f49d1e03-dc2f-4636-9c27-15ab40436db3",
   "metadata": {},
   "outputs": [
    {
     "data": {
      "text/html": [
       "<div>\n",
       "<style scoped>\n",
       "    .dataframe tbody tr th:only-of-type {\n",
       "        vertical-align: middle;\n",
       "    }\n",
       "\n",
       "    .dataframe tbody tr th {\n",
       "        vertical-align: top;\n",
       "    }\n",
       "\n",
       "    .dataframe thead th {\n",
       "        text-align: right;\n",
       "    }\n",
       "</style>\n",
       "<table border=\"1\" class=\"dataframe\">\n",
       "  <thead>\n",
       "    <tr style=\"text-align: right;\">\n",
       "      <th></th>\n",
       "      <th>period_id</th>\n",
       "      <th>datetime</th>\n",
       "      <th>value</th>\n",
       "      <th>flow_id</th>\n",
       "    </tr>\n",
       "  </thead>\n",
       "  <tbody>\n",
       "    <tr>\n",
       "      <th>0</th>\n",
       "      <td>1681881458</td>\n",
       "      <td>2023-03-10 05:00:00</td>\n",
       "      <td>2</td>\n",
       "      <td>1681881459</td>\n",
       "    </tr>\n",
       "    <tr>\n",
       "      <th>1</th>\n",
       "      <td>1681881459</td>\n",
       "      <td>2021-10-31 04:00:00</td>\n",
       "      <td>1</td>\n",
       "      <td>1681881460</td>\n",
       "    </tr>\n",
       "    <tr>\n",
       "      <th>2</th>\n",
       "      <td>1681881460</td>\n",
       "      <td>2021-06-15 04:00:00</td>\n",
       "      <td>2</td>\n",
       "      <td>1681881461</td>\n",
       "    </tr>\n",
       "    <tr>\n",
       "      <th>3</th>\n",
       "      <td>1681881460</td>\n",
       "      <td>2021-06-19 04:00:00</td>\n",
       "      <td>0</td>\n",
       "      <td>1681881462</td>\n",
       "    </tr>\n",
       "    <tr>\n",
       "      <th>4</th>\n",
       "      <td>1681881461</td>\n",
       "      <td>2020-10-17 18:30:00</td>\n",
       "      <td>3</td>\n",
       "      <td>1681881463</td>\n",
       "    </tr>\n",
       "  </tbody>\n",
       "</table>\n",
       "</div>"
      ],
      "text/plain": [
       "    period_id            datetime  value     flow_id\n",
       "0  1681881458 2023-03-10 05:00:00      2  1681881459\n",
       "1  1681881459 2021-10-31 04:00:00      1  1681881460\n",
       "2  1681881460 2021-06-15 04:00:00      2  1681881461\n",
       "3  1681881460 2021-06-19 04:00:00      0  1681881462\n",
       "4  1681881461 2020-10-17 18:30:00      3  1681881463"
      ]
     },
     "execution_count": 63,
     "metadata": {},
     "output_type": "execute_result"
    }
   ],
   "source": [
    "flows.head()"
   ]
  },
  {
   "cell_type": "code",
   "execution_count": 64,
   "id": "527ea98c-e752-4d06-ad55-c2fc5c80a920",
   "metadata": {},
   "outputs": [
    {
     "data": {
      "text/plain": [
       "{'paths': ['s3://menolife-opensci/dataset/periods/c42b499801a84522bf1efd81c0e5bb2f.snappy.parquet'],\n",
       " 'partitions_values': {}}"
      ]
     },
     "execution_count": 64,
     "metadata": {},
     "output_type": "execute_result"
    }
   ],
   "source": [
    "# Storing  data on Data Lake\n",
    "aw.s3.to_parquet(\n",
    "    df=periods,\n",
    "    path=\"s3://menolife-opensci/dataset/periods/\",\n",
    "    dataset=True,\n",
    "    database=\"menolife\",\n",
    "    table=\"periods\",\n",
    "    index=False\n",
    ")"
   ]
  },
  {
   "cell_type": "code",
   "execution_count": 65,
   "id": "990932f3-89e6-4189-b882-fe01b96ccbd7",
   "metadata": {},
   "outputs": [
    {
     "data": {
      "text/plain": [
       "{'paths': ['s3://menolife-opensci/dataset/flows/af8746ee07be4729a5a715307e711aa9.snappy.parquet'],\n",
       " 'partitions_values': {}}"
      ]
     },
     "execution_count": 65,
     "metadata": {},
     "output_type": "execute_result"
    }
   ],
   "source": [
    "# Storing checki data on Data Lake\n",
    "aw.s3.to_parquet(\n",
    "    df=flows,\n",
    "    path=\"s3://menolife-opensci/dataset/flows/\",\n",
    "    dataset=True,\n",
    "    database=\"menolife\",\n",
    "    table=\"flows\",\n",
    "    index=False\n",
    ")"
   ]
  },
  {
   "cell_type": "markdown",
   "id": "be8f0cac-2b5f-4667-8ad2-8f8b0d707a08",
   "metadata": {
    "jp-MarkdownHeadingCollapsed": true,
    "tags": []
   },
   "source": [
    "# Menopause State"
   ]
  },
  {
   "cell_type": "code",
   "execution_count": 106,
   "id": "d8be8ac5-7447-41b6-9333-771a67404a28",
   "metadata": {},
   "outputs": [
    {
     "name": "stdout",
     "output_type": "stream",
     "text": [
      "(58926, 2)\n",
      "Index(['uid', 'menopause'], dtype='object')\n",
      "                                  uid menopause\n",
      "0  ObjectId(61d8615fbea29a1eb66f7bc4)      True\n",
      "1  ObjectId(62e5342ce46e8f00284ad6f3)     False\n",
      "2  ObjectId(5f93d4c3a42cd9d7053ec24a)     False\n",
      "3  ObjectId(5f8e89640054a6c5fab1544d)     False\n",
      "4  ObjectId(5f8f1b7566dae0d0328adb78)     False\n"
     ]
    }
   ],
   "source": [
    "menopause = pd.read_csv(open('raw_data/menopause.csv', 'r'))\n",
    "print(menopause.shape)\n",
    "print(menopause.columns)\n",
    "print(menopause.head())"
   ]
  },
  {
   "cell_type": "code",
   "execution_count": 109,
   "id": "ea4bfbea-7dff-4aaf-8890-4bb7e92d752f",
   "metadata": {},
   "outputs": [],
   "source": [
    "menopause = fixUid(menopause)"
   ]
  },
  {
   "cell_type": "code",
   "execution_count": 110,
   "id": "6de30258-2bb9-43d3-bae6-3059a69d43e6",
   "metadata": {},
   "outputs": [
    {
     "data": {
      "text/plain": [
       "uid          object\n",
       "menopause    object\n",
       "dtype: object"
      ]
     },
     "execution_count": 110,
     "metadata": {},
     "output_type": "execute_result"
    }
   ],
   "source": [
    "menopause['menopause'].astype = 'boolean'\n",
    "menopause.dtypes"
   ]
  },
  {
   "cell_type": "code",
   "execution_count": 114,
   "id": "b9b6f385-1dd9-4899-af01-57b31a538466",
   "metadata": {},
   "outputs": [],
   "source": [
    "cols = menopause.columns.values"
   ]
  },
  {
   "cell_type": "code",
   "execution_count": 115,
   "id": "f8c1cc03-8695-4753-941a-0d46c4e067e7",
   "metadata": {},
   "outputs": [],
   "source": [
    "cols[1] = 'state'\n",
    "menopause.columns = cols"
   ]
  },
  {
   "cell_type": "code",
   "execution_count": 116,
   "id": "4af37ecb-9c9b-4292-9893-571aa5a0a2a4",
   "metadata": {},
   "outputs": [
    {
     "data": {
      "text/html": [
       "<div>\n",
       "<style scoped>\n",
       "    .dataframe tbody tr th:only-of-type {\n",
       "        vertical-align: middle;\n",
       "    }\n",
       "\n",
       "    .dataframe tbody tr th {\n",
       "        vertical-align: top;\n",
       "    }\n",
       "\n",
       "    .dataframe thead th {\n",
       "        text-align: right;\n",
       "    }\n",
       "</style>\n",
       "<table border=\"1\" class=\"dataframe\">\n",
       "  <thead>\n",
       "    <tr style=\"text-align: right;\">\n",
       "      <th></th>\n",
       "      <th>uid</th>\n",
       "      <th>state</th>\n",
       "    </tr>\n",
       "  </thead>\n",
       "  <tbody>\n",
       "    <tr>\n",
       "      <th>0</th>\n",
       "      <td>61d8615fbea29a1eb66f7bc4</td>\n",
       "      <td>True</td>\n",
       "    </tr>\n",
       "    <tr>\n",
       "      <th>1</th>\n",
       "      <td>62e5342ce46e8f00284ad6f3</td>\n",
       "      <td>False</td>\n",
       "    </tr>\n",
       "    <tr>\n",
       "      <th>2</th>\n",
       "      <td>5f93d4c3a42cd9d7053ec24a</td>\n",
       "      <td>False</td>\n",
       "    </tr>\n",
       "    <tr>\n",
       "      <th>3</th>\n",
       "      <td>5f8e89640054a6c5fab1544d</td>\n",
       "      <td>False</td>\n",
       "    </tr>\n",
       "    <tr>\n",
       "      <th>4</th>\n",
       "      <td>5f8f1b7566dae0d0328adb78</td>\n",
       "      <td>False</td>\n",
       "    </tr>\n",
       "  </tbody>\n",
       "</table>\n",
       "</div>"
      ],
      "text/plain": [
       "                        uid  state\n",
       "0  61d8615fbea29a1eb66f7bc4   True\n",
       "1  62e5342ce46e8f00284ad6f3  False\n",
       "2  5f93d4c3a42cd9d7053ec24a  False\n",
       "3  5f8e89640054a6c5fab1544d  False\n",
       "4  5f8f1b7566dae0d0328adb78  False"
      ]
     },
     "execution_count": 116,
     "metadata": {},
     "output_type": "execute_result"
    }
   ],
   "source": [
    "menopause.head()"
   ]
  },
  {
   "cell_type": "code",
   "execution_count": 117,
   "id": "31b13edb-1f03-4673-8f7b-fb68f5c7b840",
   "metadata": {},
   "outputs": [
    {
     "data": {
      "text/plain": [
       "{'paths': ['s3://menolife-opensci/dataset/menopause/18a6e20e38e64f4bac768e8968f08f72.snappy.parquet'],\n",
       " 'partitions_values': {}}"
      ]
     },
     "execution_count": 117,
     "metadata": {},
     "output_type": "execute_result"
    }
   ],
   "source": [
    "import awswrangler as aw\n",
    "\n",
    "# Storing menopause data on Data Lake\n",
    "aw.s3.to_parquet(\n",
    "    df=menopause,\n",
    "    path=\"s3://menolife-opensci/dataset/menopause/\",\n",
    "    dataset=True,\n",
    "    database=\"menolife\",\n",
    "    table=\"menopause\",\n",
    "    index=False\n",
    ")"
   ]
  },
  {
   "cell_type": "markdown",
   "id": "ed3e59a7-2e07-494f-b520-d1ca5a063bcc",
   "metadata": {
    "tags": []
   },
   "source": [
    "# Birthdays"
   ]
  },
  {
   "cell_type": "code",
   "execution_count": 28,
   "id": "32252f25-96f0-4229-8cc2-5c7751551704",
   "metadata": {},
   "outputs": [
    {
     "name": "stdout",
     "output_type": "stream",
     "text": [
      "Index(['uid', 'birthday'], dtype='object')\n"
     ]
    }
   ],
   "source": [
    "birthdays = pd.read_csv(open('raw_data/birthday.csv', 'r'))\n",
    "print(birthdays.columns)"
   ]
  },
  {
   "cell_type": "code",
   "execution_count": 29,
   "id": "3dc8c06c-247b-4e58-934b-1e006cc38e77",
   "metadata": {},
   "outputs": [],
   "source": [
    "birthdays = fixUid(birthdays)"
   ]
  },
  {
   "cell_type": "code",
   "execution_count": 32,
   "id": "dfbec489-a2b9-482a-8514-b72fb88da1f2",
   "metadata": {},
   "outputs": [],
   "source": [
    "birthdays = fixTime(birthdays, 'birthday')"
   ]
  },
  {
   "cell_type": "code",
   "execution_count": 35,
   "id": "97ea9119-d6e9-4726-abc8-9dd338177ad7",
   "metadata": {},
   "outputs": [
    {
     "data": {
      "text/plain": [
       "{'paths': ['s3://menolife-opensci/dataset/menopause/b48ac34d4f7e4587a26d4ea9d4682953.snappy.parquet'],\n",
       " 'partitions_values': {}}"
      ]
     },
     "execution_count": 35,
     "metadata": {},
     "output_type": "execute_result"
    }
   ],
   "source": [
    "# Storing birthday data on Data Lake\n",
    "aw.s3.to_parquet(\n",
    "    df=birthdays,\n",
    "    path=\"s3://menolife-opensci/dataset/menopause/\",\n",
    "    dataset=True,\n",
    "    database=\"menolife\",\n",
    "    table=\"birthdays\",\n",
    "    index=False\n",
    ")"
   ]
  },
  {
   "cell_type": "markdown",
   "id": "c8f0bcec-5361-4fb3-acac-759d060d2a2e",
   "metadata": {
    "tags": []
   },
   "source": [
    "# User on-boarding"
   ]
  },
  {
   "cell_type": "markdown",
   "id": "7aeca07e-b47f-472c-97f2-7f76338c9403",
   "metadata": {},
   "source": [
    "The original csv file had to be modified to change the `,` delimiter to `&` because the file contains a large number of json values also with `,`.\n",
    "\n",
    "The vim commands used to carry out these substitutions were\n",
    "* `%s/],202/]\\&202/g`\n",
    "* `%s/Z,false`\n",
    "* `%s/Z,true/Z\\&true/g`"
   ]
  },
  {
   "cell_type": "code",
   "execution_count": 129,
   "id": "8f5ea0ea-d5fb-4eef-884f-86f6df1aa516",
   "metadata": {},
   "outputs": [
    {
     "name": "stdout",
     "output_type": "stream",
     "text": [
      "(56647, 6)\n"
     ]
    }
   ],
   "source": [
    "onboarding = pd.read_csv(open('raw_data/user_on_boarding 1.csv', 'r'), delimiter='&')\n",
    "print(onboarding.shape)"
   ]
  },
  {
   "cell_type": "code",
   "execution_count": 130,
   "id": "db969d93-9c54-4a25-809e-e726b2837d9a",
   "metadata": {},
   "outputs": [
    {
     "data": {
      "text/html": [
       "<div>\n",
       "<style scoped>\n",
       "    .dataframe tbody tr th:only-of-type {\n",
       "        vertical-align: middle;\n",
       "    }\n",
       "\n",
       "    .dataframe tbody tr th {\n",
       "        vertical-align: top;\n",
       "    }\n",
       "\n",
       "    .dataframe thead th {\n",
       "        text-align: right;\n",
       "    }\n",
       "</style>\n",
       "<table border=\"1\" class=\"dataframe\">\n",
       "  <thead>\n",
       "    <tr style=\"text-align: right;\">\n",
       "      <th></th>\n",
       "      <th>_id</th>\n",
       "      <th>uid</th>\n",
       "      <th>on_board_time</th>\n",
       "      <th>on_board_dirty</th>\n",
       "      <th>no_of_time_survey_taken</th>\n",
       "      <th>questions</th>\n",
       "    </tr>\n",
       "  </thead>\n",
       "  <tbody>\n",
       "    <tr>\n",
       "      <th>0</th>\n",
       "      <td>ObjectId(64942c7373e2d10028c61f31)</td>\n",
       "      <td>ObjectId(64942c7273e2d10028c61f2b)</td>\n",
       "      <td>2023-06-22T11:11:47.225Z</td>\n",
       "      <td>true</td>\n",
       "      <td>1</td>\n",
       "      <td>[{\"answer\":[\"Anxiety\",\"Bloating\",\"Fatigue\",\"In...</td>\n",
       "    </tr>\n",
       "    <tr>\n",
       "      <th>1</th>\n",
       "      <td>ObjectId(6494357173e2d10028c62150)</td>\n",
       "      <td>ObjectId(6494356f73e2d10028c6214a)</td>\n",
       "      <td>2023-06-22T11:50:09.283Z</td>\n",
       "      <td>true</td>\n",
       "      <td>1</td>\n",
       "      <td>[{\"answer\":[\"Anxiety\",\"Bloating\",\"Difficulty C...</td>\n",
       "    </tr>\n",
       "    <tr>\n",
       "      <th>2</th>\n",
       "      <td>ObjectId(6495a79c73e2d10028c6bdd8)</td>\n",
       "      <td>ObjectId(6495a79773e2d10028c6bdd2)</td>\n",
       "      <td>2023-06-23T14:09:31.980Z</td>\n",
       "      <td>true</td>\n",
       "      <td>1</td>\n",
       "      <td>[{\"answer\":[\"Anxiety\",\"Bloating\",\"Difficulty C...</td>\n",
       "    </tr>\n",
       "    <tr>\n",
       "      <th>3</th>\n",
       "      <td>ObjectId(6495d7c173e2d10028c6cd19)</td>\n",
       "      <td>ObjectId(6495d7c173e2d10028c6cd13)</td>\n",
       "      <td>2023-06-23T17:34:57.596Z</td>\n",
       "      <td>true</td>\n",
       "      <td>1</td>\n",
       "      <td>[{\"answer\":[\"Fatigue\",\"Hot Flashes/Night Sweat...</td>\n",
       "    </tr>\n",
       "    <tr>\n",
       "      <th>4</th>\n",
       "      <td>ObjectId(6497a95373e2d10028c73233)</td>\n",
       "      <td>ObjectId(6497a94f73e2d10028c7322d)</td>\n",
       "      <td>2023-06-25T02:41:22.902Z</td>\n",
       "      <td>true</td>\n",
       "      <td>1</td>\n",
       "      <td>[{\"answer\":[\"Difficulty Concentrating\",\"Brittl...</td>\n",
       "    </tr>\n",
       "    <tr>\n",
       "      <th>...</th>\n",
       "      <td>...</td>\n",
       "      <td>...</td>\n",
       "      <td>...</td>\n",
       "      <td>...</td>\n",
       "      <td>...</td>\n",
       "      <td>...</td>\n",
       "    </tr>\n",
       "    <tr>\n",
       "      <th>56642</th>\n",
       "      <td>ObjectId(6493a06673e2d10028c60a0a)</td>\n",
       "      <td>ObjectId(6493a06473e2d10028c60a04)</td>\n",
       "      <td>2023-06-22T01:14:14.027Z</td>\n",
       "      <td>true</td>\n",
       "      <td>1</td>\n",
       "      <td>[{\"answer\":[\"Low Sex Drive\",\"Irregular Periods...</td>\n",
       "    </tr>\n",
       "    <tr>\n",
       "      <th>56643</th>\n",
       "      <td>ObjectId(6493ae5173e2d10028c60d9b)</td>\n",
       "      <td>ObjectId(6493ae4f73e2d10028c60d95)</td>\n",
       "      <td>2023-06-22T02:13:36.884Z</td>\n",
       "      <td>true</td>\n",
       "      <td>1</td>\n",
       "      <td>[{\"answer\":[\"Anxiety\",\"Brittle Hair/Nails\",\"Di...</td>\n",
       "    </tr>\n",
       "    <tr>\n",
       "      <th>56644</th>\n",
       "      <td>ObjectId(6493538a73e2d10028c5eea9)</td>\n",
       "      <td>ObjectId(6493538973e2d10028c5eea3)</td>\n",
       "      <td>2023-06-21T19:46:18.149Z</td>\n",
       "      <td>true</td>\n",
       "      <td>1</td>\n",
       "      <td>[{\"answer\":[\"Anxiety\",\"Bloating\",\"Difficulty C...</td>\n",
       "    </tr>\n",
       "    <tr>\n",
       "      <th>56645</th>\n",
       "      <td>ObjectId(64939ca973e2d10028c60892)</td>\n",
       "      <td>ObjectId(64939ca773e2d10028c6088c)</td>\n",
       "      <td>2023-06-22T00:58:16.947Z</td>\n",
       "      <td>true</td>\n",
       "      <td>1</td>\n",
       "      <td>[{\"answer\":[\"Anxiety\",\"Bloating\",\"Difficulty C...</td>\n",
       "    </tr>\n",
       "    <tr>\n",
       "      <th>56646</th>\n",
       "      <td>ObjectId(623f0931b67903e071d12d41)</td>\n",
       "      <td>ObjectId(623f092fb67903e071d12d40)</td>\n",
       "      <td>2023-06-22T02:55:30.996Z</td>\n",
       "      <td>true</td>\n",
       "      <td>2</td>\n",
       "      <td>[{\"answer\":[\"Fatigue\",\"Irregular Periods\",\"Wei...</td>\n",
       "    </tr>\n",
       "  </tbody>\n",
       "</table>\n",
       "<p>56647 rows × 6 columns</p>\n",
       "</div>"
      ],
      "text/plain": [
       "                                      _id                                 uid  \\\n",
       "0      ObjectId(64942c7373e2d10028c61f31)  ObjectId(64942c7273e2d10028c61f2b)   \n",
       "1      ObjectId(6494357173e2d10028c62150)  ObjectId(6494356f73e2d10028c6214a)   \n",
       "2      ObjectId(6495a79c73e2d10028c6bdd8)  ObjectId(6495a79773e2d10028c6bdd2)   \n",
       "3      ObjectId(6495d7c173e2d10028c6cd19)  ObjectId(6495d7c173e2d10028c6cd13)   \n",
       "4      ObjectId(6497a95373e2d10028c73233)  ObjectId(6497a94f73e2d10028c7322d)   \n",
       "...                                   ...                                 ...   \n",
       "56642  ObjectId(6493a06673e2d10028c60a0a)  ObjectId(6493a06473e2d10028c60a04)   \n",
       "56643  ObjectId(6493ae5173e2d10028c60d9b)  ObjectId(6493ae4f73e2d10028c60d95)   \n",
       "56644  ObjectId(6493538a73e2d10028c5eea9)  ObjectId(6493538973e2d10028c5eea3)   \n",
       "56645  ObjectId(64939ca973e2d10028c60892)  ObjectId(64939ca773e2d10028c6088c)   \n",
       "56646  ObjectId(623f0931b67903e071d12d41)  ObjectId(623f092fb67903e071d12d40)   \n",
       "\n",
       "                  on_board_time on_board_dirty no_of_time_survey_taken  \\\n",
       "0      2023-06-22T11:11:47.225Z           true                       1   \n",
       "1      2023-06-22T11:50:09.283Z           true                       1   \n",
       "2      2023-06-23T14:09:31.980Z           true                       1   \n",
       "3      2023-06-23T17:34:57.596Z           true                       1   \n",
       "4      2023-06-25T02:41:22.902Z           true                       1   \n",
       "...                         ...            ...                     ...   \n",
       "56642  2023-06-22T01:14:14.027Z           true                       1   \n",
       "56643  2023-06-22T02:13:36.884Z           true                       1   \n",
       "56644  2023-06-21T19:46:18.149Z           true                       1   \n",
       "56645  2023-06-22T00:58:16.947Z           true                       1   \n",
       "56646  2023-06-22T02:55:30.996Z           true                       2   \n",
       "\n",
       "                                               questions  \n",
       "0      [{\"answer\":[\"Anxiety\",\"Bloating\",\"Fatigue\",\"In...  \n",
       "1      [{\"answer\":[\"Anxiety\",\"Bloating\",\"Difficulty C...  \n",
       "2      [{\"answer\":[\"Anxiety\",\"Bloating\",\"Difficulty C...  \n",
       "3      [{\"answer\":[\"Fatigue\",\"Hot Flashes/Night Sweat...  \n",
       "4      [{\"answer\":[\"Difficulty Concentrating\",\"Brittl...  \n",
       "...                                                  ...  \n",
       "56642  [{\"answer\":[\"Low Sex Drive\",\"Irregular Periods...  \n",
       "56643  [{\"answer\":[\"Anxiety\",\"Brittle Hair/Nails\",\"Di...  \n",
       "56644  [{\"answer\":[\"Anxiety\",\"Bloating\",\"Difficulty C...  \n",
       "56645  [{\"answer\":[\"Anxiety\",\"Bloating\",\"Difficulty C...  \n",
       "56646  [{\"answer\":[\"Fatigue\",\"Irregular Periods\",\"Wei...  \n",
       "\n",
       "[56647 rows x 6 columns]"
      ]
     },
     "execution_count": 130,
     "metadata": {},
     "output_type": "execute_result"
    }
   ],
   "source": [
    "onboarding"
   ]
  },
  {
   "cell_type": "code",
   "execution_count": 131,
   "id": "9ae6e2cb-d505-4d94-a916-871f7556f201",
   "metadata": {},
   "outputs": [],
   "source": [
    "def createQaTable(frame : pd.DataFrame):\n",
    "    questions = []\n",
    "    answers = []\n",
    "    community_id = []\n",
    "    \n",
    "    for (uid, question) in zip(frame['uid'].values, frame['questions'].values):\n",
    "        # Parse the json array.\n",
    "        try:\n",
    "            jdata = json.loads(question)\n",
    "        except:\n",
    "            # If we are unable to decode the json, just skip over it.\n",
    "            continue\n",
    "        # For privacy reasons we will not ingest any identifiable information into our data.\n",
    "        # This includes, names, emails, phone numbers.\n",
    "        not_include = ['Name', 'Email', 'PhoneNumber']\n",
    "        \n",
    "        for qa in jdata:\n",
    "            q = qa['question']\n",
    "            a = qa['answer']\n",
    "            if not q in not_include:\n",
    "                # Flatten everything into comma seperated strings, if they are arrays.\n",
    "                # AWSWrangler library is not able to ingest it otherwise.\n",
    "                str = ''\n",
    "                for item in a:\n",
    "                    if len(str) <= 0:\n",
    "                        str += item\n",
    "                    else:\n",
    "                        str += ','+item\n",
    "                \n",
    "                a = str\n",
    "                # Convert dob into correct date format.\n",
    "                # This is sad, but over the evolution of the app we have had many  \n",
    "                dateformats = ['%m/%d/%Y', '%Y-%m-%dT%H:%M:%S.%fZ', '%d-%m-%Y', '%Y-%m-%dT%H:%M:%S.%fZ']\n",
    "                if q == 'DateOfBirth' and (not a == ''):\n",
    "                    for df in dateformats:\n",
    "                        try:\n",
    "                            d = datetime.strptime(a, df)\n",
    "                            a = d.strftime('%Y-%m-%d %H:%M:%S')\n",
    "                            break\n",
    "                        except ValueError:\n",
    "                           # Not this format we move on to the next.\n",
    "                            pass\n",
    "\n",
    "                # Add this to our tables.\n",
    "                community_id += [uid.split('(')[1].split(')')[0]]\n",
    "                questions += [q]\n",
    "                answers += [a]\n",
    "\n",
    "    return pd.DataFrame({'community_id':community_id, 'questions':questions, 'answers':answers})"
   ]
  },
  {
   "cell_type": "code",
   "execution_count": 132,
   "id": "577d8739-197b-4246-898d-9ff2a5ff8c59",
   "metadata": {},
   "outputs": [],
   "source": [
    "qframe = createQaTable(onboarding)"
   ]
  },
  {
   "cell_type": "code",
   "execution_count": 133,
   "id": "a28db470-8497-4242-a770-4cee6362d579",
   "metadata": {},
   "outputs": [
    {
     "data": {
      "text/html": [
       "<div>\n",
       "<style scoped>\n",
       "    .dataframe tbody tr th:only-of-type {\n",
       "        vertical-align: middle;\n",
       "    }\n",
       "\n",
       "    .dataframe tbody tr th {\n",
       "        vertical-align: top;\n",
       "    }\n",
       "\n",
       "    .dataframe thead th {\n",
       "        text-align: right;\n",
       "    }\n",
       "</style>\n",
       "<table border=\"1\" class=\"dataframe\">\n",
       "  <thead>\n",
       "    <tr style=\"text-align: right;\">\n",
       "      <th></th>\n",
       "      <th>community_id</th>\n",
       "      <th>questions</th>\n",
       "      <th>answers</th>\n",
       "    </tr>\n",
       "  </thead>\n",
       "  <tbody>\n",
       "    <tr>\n",
       "      <th>0</th>\n",
       "      <td>64942c7273e2d10028c61f2b</td>\n",
       "      <td>Choose the symptoms you deal with the most.</td>\n",
       "      <td>Anxiety,Bloating,Fatigue,Insomnia,Mood Swings/...</td>\n",
       "    </tr>\n",
       "    <tr>\n",
       "      <th>1</th>\n",
       "      <td>64942c7273e2d10028c61f2b</td>\n",
       "      <td>What topics are you most interested in?</td>\n",
       "      <td>Education,Sleep &amp; Wellness,Lifestyle,Health &amp; ...</td>\n",
       "    </tr>\n",
       "    <tr>\n",
       "      <th>2</th>\n",
       "      <td>64942c7273e2d10028c61f2b</td>\n",
       "      <td>How would you describe your periods?</td>\n",
       "      <td>Regular cycle</td>\n",
       "    </tr>\n",
       "    <tr>\n",
       "      <th>3</th>\n",
       "      <td>64942c7273e2d10028c61f2b</td>\n",
       "      <td></td>\n",
       "      <td></td>\n",
       "    </tr>\n",
       "    <tr>\n",
       "      <th>4</th>\n",
       "      <td>64942c7273e2d10028c61f2b</td>\n",
       "      <td></td>\n",
       "      <td></td>\n",
       "    </tr>\n",
       "    <tr>\n",
       "      <th>...</th>\n",
       "      <td>...</td>\n",
       "      <td>...</td>\n",
       "      <td>...</td>\n",
       "    </tr>\n",
       "    <tr>\n",
       "      <th>253572</th>\n",
       "      <td>64939ca773e2d10028c6088c</td>\n",
       "      <td>How did you enter menopause?</td>\n",
       "      <td>Naturally</td>\n",
       "    </tr>\n",
       "    <tr>\n",
       "      <th>253573</th>\n",
       "      <td>64939ca773e2d10028c6088c</td>\n",
       "      <td></td>\n",
       "      <td></td>\n",
       "    </tr>\n",
       "    <tr>\n",
       "      <th>253574</th>\n",
       "      <td>623f092fb67903e071d12d40</td>\n",
       "      <td>Choose the symptoms you deal with the most.</td>\n",
       "      <td>Fatigue,Irregular Periods,Weight Gain</td>\n",
       "    </tr>\n",
       "    <tr>\n",
       "      <th>253575</th>\n",
       "      <td>623f092fb67903e071d12d40</td>\n",
       "      <td>What topics are you most interested in?</td>\n",
       "      <td>Hot Flashes &amp;\\nSymptoms</td>\n",
       "    </tr>\n",
       "    <tr>\n",
       "      <th>253576</th>\n",
       "      <td>623f092fb67903e071d12d40</td>\n",
       "      <td>How would you describe your periods?</td>\n",
       "      <td>Unpredictable</td>\n",
       "    </tr>\n",
       "  </tbody>\n",
       "</table>\n",
       "<p>253577 rows × 3 columns</p>\n",
       "</div>"
      ],
      "text/plain": [
       "                    community_id                                    questions  \\\n",
       "0       64942c7273e2d10028c61f2b  Choose the symptoms you deal with the most.   \n",
       "1       64942c7273e2d10028c61f2b      What topics are you most interested in?   \n",
       "2       64942c7273e2d10028c61f2b         How would you describe your periods?   \n",
       "3       64942c7273e2d10028c61f2b                                                \n",
       "4       64942c7273e2d10028c61f2b                                                \n",
       "...                          ...                                          ...   \n",
       "253572  64939ca773e2d10028c6088c                 How did you enter menopause?   \n",
       "253573  64939ca773e2d10028c6088c                                                \n",
       "253574  623f092fb67903e071d12d40  Choose the symptoms you deal with the most.   \n",
       "253575  623f092fb67903e071d12d40      What topics are you most interested in?   \n",
       "253576  623f092fb67903e071d12d40         How would you describe your periods?   \n",
       "\n",
       "                                                  answers  \n",
       "0       Anxiety,Bloating,Fatigue,Insomnia,Mood Swings/...  \n",
       "1       Education,Sleep & Wellness,Lifestyle,Health & ...  \n",
       "2                                           Regular cycle  \n",
       "3                                                          \n",
       "4                                                          \n",
       "...                                                   ...  \n",
       "253572                                          Naturally  \n",
       "253573                                                     \n",
       "253574              Fatigue,Irregular Periods,Weight Gain  \n",
       "253575                            Hot Flashes &\\nSymptoms  \n",
       "253576                                      Unpredictable  \n",
       "\n",
       "[253577 rows x 3 columns]"
      ]
     },
     "execution_count": 133,
     "metadata": {},
     "output_type": "execute_result"
    }
   ],
   "source": [
    "qframe"
   ]
  },
  {
   "cell_type": "code",
   "execution_count": 134,
   "id": "77d0789a-f510-413c-8af0-ec84e59fff2f",
   "metadata": {},
   "outputs": [
    {
     "name": "stdout",
     "output_type": "stream",
     "text": [
      "env: AWS_PROFILE=opensci\n"
     ]
    },
    {
     "data": {
      "text/plain": [
       "{'paths': ['s3://menolife-opensci/dataset/onboarding/9160c8de8450428d92cd0618f507b887.snappy.parquet'],\n",
       " 'partitions_values': {}}"
      ]
     },
     "execution_count": 134,
     "metadata": {},
     "output_type": "execute_result"
    }
   ],
   "source": [
    "%set_env AWS_PROFILE=opensci\n",
    "import awswrangler as wr\n",
    "# Store this into our database.\n",
    "wr.s3.to_parquet(\n",
    "    df=qframe,\n",
    "    path=\"s3://menolife-opensci/dataset/onboarding/\",\n",
    "    dataset=True,\n",
    "    database=\"menolife\",\n",
    "    table=\"onboarding\",\n",
    "    index=False\n",
    ")"
   ]
  },
  {
   "cell_type": "markdown",
   "id": "fed85e0a-dd36-40ac-b56c-97bc86bfba8c",
   "metadata": {
    "jp-MarkdownHeadingCollapsed": true,
    "tags": []
   },
   "source": [
    "# Upload test users dataset. "
   ]
  },
  {
   "cell_type": "markdown",
   "id": "9e8f3e96-a0e3-4642-a775-0506f099cd4c",
   "metadata": {},
   "source": [
    "These are users who were internal to the testing procedure, and hence their uids should be removed from the customer data."
   ]
  },
  {
   "cell_type": "code",
   "execution_count": 125,
   "id": "632e74c1-2e3b-4546-813f-59f995e964aa",
   "metadata": {},
   "outputs": [
    {
     "data": {
      "text/html": [
       "<div>\n",
       "<style scoped>\n",
       "    .dataframe tbody tr th:only-of-type {\n",
       "        vertical-align: middle;\n",
       "    }\n",
       "\n",
       "    .dataframe tbody tr th {\n",
       "        vertical-align: top;\n",
       "    }\n",
       "\n",
       "    .dataframe thead th {\n",
       "        text-align: right;\n",
       "    }\n",
       "</style>\n",
       "<table border=\"1\" class=\"dataframe\">\n",
       "  <thead>\n",
       "    <tr style=\"text-align: right;\">\n",
       "      <th></th>\n",
       "      <th>uid</th>\n",
       "      <th>email</th>\n",
       "    </tr>\n",
       "  </thead>\n",
       "  <tbody>\n",
       "    <tr>\n",
       "      <th>0</th>\n",
       "      <td>5ed7ceb017a07779525e3bb6</td>\n",
       "      <td>carmela.c@menolabs.com</td>\n",
       "    </tr>\n",
       "    <tr>\n",
       "      <th>1</th>\n",
       "      <td>5ed9637917a07779525e3c55</td>\n",
       "      <td>supportninja@menolabs.com</td>\n",
       "    </tr>\n",
       "    <tr>\n",
       "      <th>2</th>\n",
       "      <td>5ed7cda40aa5594e18fc1c8f</td>\n",
       "      <td>irene.p@menolabs.com</td>\n",
       "    </tr>\n",
       "    <tr>\n",
       "      <th>3</th>\n",
       "      <td>5e4c6dc64d8bcf4e32f7ec5c</td>\n",
       "      <td>vanessa@menolabs.com</td>\n",
       "    </tr>\n",
       "    <tr>\n",
       "      <th>4</th>\n",
       "      <td>5ed7ce4b17a07779525e3bb4</td>\n",
       "      <td>rio.s@menolabs.com</td>\n",
       "    </tr>\n",
       "  </tbody>\n",
       "</table>\n",
       "</div>"
      ],
      "text/plain": [
       "                        uid                      email\n",
       "0  5ed7ceb017a07779525e3bb6     carmela.c@menolabs.com\n",
       "1  5ed9637917a07779525e3c55  supportninja@menolabs.com\n",
       "2  5ed7cda40aa5594e18fc1c8f       irene.p@menolabs.com\n",
       "3  5e4c6dc64d8bcf4e32f7ec5c       vanessa@menolabs.com\n",
       "4  5ed7ce4b17a07779525e3bb4         rio.s@menolabs.com"
      ]
     },
     "execution_count": 125,
     "metadata": {},
     "output_type": "execute_result"
    }
   ],
   "source": [
    "testusers = pd.read_csv(open('raw_data/test_users.csv', 'r'))\n",
    "testusers.head()"
   ]
  },
  {
   "cell_type": "code",
   "execution_count": 127,
   "id": "4467e511-c44b-4d09-8f54-138345fbcf83",
   "metadata": {},
   "outputs": [
    {
     "name": "stdout",
     "output_type": "stream",
     "text": [
      "env: AWS_PROFILE=opensci\n"
     ]
    },
    {
     "data": {
      "text/plain": [
       "{'paths': ['s3://menolife-opensci/dataset/testusers/35baeb9c76a94b17bd3c90a5edc90c7c.snappy.parquet'],\n",
       " 'partitions_values': {}}"
      ]
     },
     "execution_count": 127,
     "metadata": {},
     "output_type": "execute_result"
    }
   ],
   "source": [
    "%set_env AWS_PROFILE=opensci\n",
    "import awswrangler as wr\n",
    "# Store this into our database.\n",
    "wr.s3.to_parquet(\n",
    "    df=testusers,\n",
    "    path=\"s3://menolife-opensci/dataset/testusers/\",\n",
    "    dataset=True,\n",
    "    database=\"menolife\",\n",
    "    table=\"testusers\",\n",
    "    index=False\n",
    ")"
   ]
  },
  {
   "cell_type": "markdown",
   "id": "f738a188-b68d-49d5-8aae-b6ea517eed40",
   "metadata": {},
   "source": [
    "# Period start and end times"
   ]
  },
  {
   "cell_type": "markdown",
   "id": "ed3a84fb-e2dd-4f82-a452-35e5fe6ae793",
   "metadata": {},
   "source": [
    "The original period data dump we got did not have the end date for the periods. Hence we extract just the start and end dates for the period from the new data dump. "
   ]
  },
  {
   "cell_type": "code",
   "execution_count": 19,
   "id": "d75efd51-6c2f-4ec4-bb1b-f46a83880bfc",
   "metadata": {},
   "outputs": [
    {
     "data": {
      "text/html": [
       "<div>\n",
       "<style scoped>\n",
       "    .dataframe tbody tr th:only-of-type {\n",
       "        vertical-align: middle;\n",
       "    }\n",
       "\n",
       "    .dataframe tbody tr th {\n",
       "        vertical-align: top;\n",
       "    }\n",
       "\n",
       "    .dataframe thead th {\n",
       "        text-align: right;\n",
       "    }\n",
       "</style>\n",
       "<table border=\"1\" class=\"dataframe\">\n",
       "  <thead>\n",
       "    <tr style=\"text-align: right;\">\n",
       "      <th></th>\n",
       "      <th>_id</th>\n",
       "      <th>community_id</th>\n",
       "      <th>end_time</th>\n",
       "      <th>start_time</th>\n",
       "      <th>uid</th>\n",
       "    </tr>\n",
       "  </thead>\n",
       "  <tbody>\n",
       "    <tr>\n",
       "      <th>0</th>\n",
       "      <td>6463472bfed62d3e645e05cf</td>\n",
       "      <td>5e4a9bb73c52676149bb86f2</td>\n",
       "      <td>2020-10-20 19:44:12</td>\n",
       "      <td>2020-10-17 18:30:00</td>\n",
       "      <td>5f8e89640054a6c5fab1544d</td>\n",
       "    </tr>\n",
       "    <tr>\n",
       "      <th>1</th>\n",
       "      <td>6463472bfed62d3e645e05d0</td>\n",
       "      <td>5efb7a38be8ac404c2a8f8e9</td>\n",
       "      <td>2020-10-21 18:30:00</td>\n",
       "      <td>2020-10-14 18:30:00</td>\n",
       "      <td>5f8f274466dae0d0328adb80</td>\n",
       "    </tr>\n",
       "    <tr>\n",
       "      <th>2</th>\n",
       "      <td>6463472bfed62d3e645e05d1</td>\n",
       "      <td>5e81f0663e55077bcf96dfc1</td>\n",
       "      <td>NaN</td>\n",
       "      <td>2020-09-22 18:30:00</td>\n",
       "      <td>5f8f260566dae0d0328adb7e</td>\n",
       "    </tr>\n",
       "    <tr>\n",
       "      <th>3</th>\n",
       "      <td>6463472bfed62d3e645e05d2</td>\n",
       "      <td>5f924ecb148e7ccea682ae43</td>\n",
       "      <td>2020-10-28 13:57:29</td>\n",
       "      <td>2020-10-23 03:32:53</td>\n",
       "      <td>5f924ee1a42cd9d7053ec1f2</td>\n",
       "    </tr>\n",
       "    <tr>\n",
       "      <th>4</th>\n",
       "      <td>6463472bfed62d3e645e05d3</td>\n",
       "      <td>5f935270d02b92cbe65cce83</td>\n",
       "      <td>NaN</td>\n",
       "      <td>2020-10-23 22:01:39</td>\n",
       "      <td>5f935278a42cd9d7053ec212</td>\n",
       "    </tr>\n",
       "  </tbody>\n",
       "</table>\n",
       "</div>"
      ],
      "text/plain": [
       "                        _id              community_id             end_time  \\\n",
       "0  6463472bfed62d3e645e05cf  5e4a9bb73c52676149bb86f2  2020-10-20 19:44:12   \n",
       "1  6463472bfed62d3e645e05d0  5efb7a38be8ac404c2a8f8e9  2020-10-21 18:30:00   \n",
       "2  6463472bfed62d3e645e05d1  5e81f0663e55077bcf96dfc1                  NaN   \n",
       "3  6463472bfed62d3e645e05d2  5f924ecb148e7ccea682ae43  2020-10-28 13:57:29   \n",
       "4  6463472bfed62d3e645e05d3  5f935270d02b92cbe65cce83                  NaN   \n",
       "\n",
       "            start_time                       uid  \n",
       "0  2020-10-17 18:30:00  5f8e89640054a6c5fab1544d  \n",
       "1  2020-10-14 18:30:00  5f8f274466dae0d0328adb80  \n",
       "2  2020-09-22 18:30:00  5f8f260566dae0d0328adb7e  \n",
       "3  2020-10-23 03:32:53  5f924ee1a42cd9d7053ec1f2  \n",
       "4  2020-10-23 22:01:39  5f935278a42cd9d7053ec212  "
      ]
     },
     "execution_count": 19,
     "metadata": {},
     "output_type": "execute_result"
    }
   ],
   "source": [
    "filename = 'raw_data/periods_start_end.csv'\n",
    "periods = pd.read_csv(open(filename, 'r'))\n",
    "periods.head()"
   ]
  },
  {
   "cell_type": "code",
   "execution_count": 20,
   "id": "049a1272-3440-4378-bb7f-7ad0ccb83f0f",
   "metadata": {},
   "outputs": [
    {
     "data": {
      "text/plain": [
       "_id             object\n",
       "community_id    object\n",
       "end_time        object\n",
       "start_time      object\n",
       "uid             object\n",
       "dtype: object"
      ]
     },
     "execution_count": 20,
     "metadata": {},
     "output_type": "execute_result"
    }
   ],
   "source": [
    "periods.dtypes"
   ]
  },
  {
   "cell_type": "code",
   "execution_count": 21,
   "id": "22b02e1c-2c98-46b0-b0a7-ab1369875306",
   "metadata": {},
   "outputs": [],
   "source": [
    "periods['start_time'] = periods['start_time'].astype('datetime64')\n",
    "periods['end_time'] = periods['end_time'].astype('datetime64')"
   ]
  },
  {
   "cell_type": "code",
   "execution_count": 22,
   "id": "7c6645ee-638d-438c-bffb-a34f4802bf92",
   "metadata": {},
   "outputs": [
    {
     "data": {
      "text/plain": [
       "_id                     object\n",
       "community_id            object\n",
       "end_time        datetime64[ns]\n",
       "start_time      datetime64[ns]\n",
       "uid                     object\n",
       "dtype: object"
      ]
     },
     "execution_count": 22,
     "metadata": {},
     "output_type": "execute_result"
    }
   ],
   "source": [
    "periods.dtypes"
   ]
  },
  {
   "cell_type": "code",
   "execution_count": 23,
   "id": "331b48c0-750e-4a18-816a-d49553044024",
   "metadata": {},
   "outputs": [
    {
     "name": "stdout",
     "output_type": "stream",
     "text": [
      "env: AWS_PROFILE=opensci\n"
     ]
    },
    {
     "data": {
      "text/plain": [
       "{'paths': ['s3://menolife-opensci/dataset/periodsstartend/119760049e9b42c68444f2945e0623e8.snappy.parquet'],\n",
       " 'partitions_values': {}}"
      ]
     },
     "execution_count": 23,
     "metadata": {},
     "output_type": "execute_result"
    }
   ],
   "source": [
    "%set_env AWS_PROFILE=opensci\n",
    "import awswrangler as wr\n",
    "# Store this into our database.\n",
    "wr.s3.to_parquet(\n",
    "    df=periods,\n",
    "    path=\"s3://menolife-opensci/dataset/periodsstartend/\",\n",
    "    dataset=True,\n",
    "    database=\"menolife\",\n",
    "    table=\"periods_start_end\",\n",
    "    index=False\n",
    ")"
   ]
  },
  {
   "cell_type": "code",
   "execution_count": null,
   "id": "0cd14620-1251-4e5b-b493-9e41de6008ac",
   "metadata": {},
   "outputs": [],
   "source": []
  }
 ],
 "metadata": {
  "kernelspec": {
   "display_name": "Python 3 (ipykernel)",
   "language": "python",
   "name": "python3"
  },
  "language_info": {
   "codemirror_mode": {
    "name": "ipython",
    "version": 3
   },
   "file_extension": ".py",
   "mimetype": "text/x-python",
   "name": "python",
   "nbconvert_exporter": "python",
   "pygments_lexer": "ipython3",
   "version": "3.11.3"
  }
 },
 "nbformat": 4,
 "nbformat_minor": 5
}
