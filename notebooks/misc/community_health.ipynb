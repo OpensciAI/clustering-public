{
 "cells": [
  {
   "cell_type": "markdown",
   "id": "dda57b41-0c93-4bf3-bbcc-273523e03aa1",
   "metadata": {},
   "source": [
    "# Community Health Mapping"
   ]
  },
  {
   "cell_type": "code",
   "execution_count": 1,
   "id": "75bde900-49d1-4673-bbb9-0f40891f7f14",
   "metadata": {},
   "outputs": [],
   "source": [
    "import pandas as pd\n",
    "import numpy as np\n",
    "import re\n",
    "import awswrangler as wr"
   ]
  },
  {
   "cell_type": "code",
   "execution_count": 65,
   "id": "02ded09f-4e2f-410f-afdb-96521dbcb24c",
   "metadata": {},
   "outputs": [],
   "source": [
    "def extractKeys(filename : str, mapping : dict):\n",
    "    \"\"\"\n",
    "    Extract the keys from checkin and pid files using a regular expression.\n",
    "    \"\"\"\n",
    "    # Using regular expression to extract anything that looks like a key from the file.\n",
    "    # Mongo keys are 24 characters long and alpha numeric.\n",
    "    p = re.compile('[0-9a-z]{24}')\n",
    "    \n",
    "    # Parse through the checkin file first.\n",
    "    with open(filename, 'r') as f:\n",
    "        for line in f:\n",
    "            # Will get a list of all the matches.\n",
    "            keys = p.findall(line)  # [recordid, communityid, healthid]\n",
    "            if len(keys) < 3:\n",
    "                print('Failed for - {}'.format(line))\n",
    "                continue\n",
    "            mapping[keys[1]] = keys[2]  # Community id -> health id\n",
    "    \n",
    "    return mapping"
   ]
  },
  {
   "cell_type": "code",
   "execution_count": 69,
   "id": "35b6540c-aab2-4dfa-be78-ebb34156fd21",
   "metadata": {},
   "outputs": [
    {
     "name": "stdout",
     "output_type": "stream",
     "text": [
      "Failed for - ﻿\"/_id/$oid,/community_id/$oid,\"\"/exercise\"\",\"\"/mood\"\",\"\"/products/0\"\",\"\"/products/1\"\",\"\"/products/2\"\",\"\"/products/3\"\",\"\"/products/4\"\",\"\"/products/5\"\",\"\"/products/6\"\",\"\"/products/7\"\",\"\"/sleep\"\",\"\"/timestamp/$date\"\",\"\"/uid/$oid\"\",\"\"/water\"\",\"\"/weight\"\",\"\"/weight_unit\"\"\",,,,,\n",
      "\n",
      "Failed for - ﻿\"/_id/$oid,\"\"/community_id/$oid\"\",\"\"/end_time/$date\"\",\"\"/flow/0/flow_time/$date\"\",\"\"/flow/0/value\"\",\"\"/flow/1/flow_time/$date\"\",\"\"/flow/1/value\"\",\"\"/flow/10/flow_time/$date\"\",\"\"/flow/10/value\"\",\"\"/flow/11/flow_time/$date\"\",\"\"/flow/11/value\"\",\"\"/flow/12/flow_time/$date\"\",\"\"/flow/12/value\"\",\"\"/flow/13/flow_time/$date\"\",\"\"/flow/13/value\"\",\"\"/flow/14/flow_time/$date\"\",\"\"/flow/14/value\"\",\"\"/flow/15/flow_time/$date\"\",\"\"/flow/15/value\"\",\"\"/flow/16/flow_time/$date\"\",\"\"/flow/16/value\"\",\"\"/flow/17/flow_time/$date\"\",\"\"/flow/17/value\"\",\"\"/flow/18/flow_time/$date\"\",\"\"/flow/18/value\"\",\"\"/flow/19/flow_time/$date\"\",\"\"/flow/19/value\"\",\"\"/flow/2/flow_time/$date\"\",\"\"/flow/2/value\"\",\"\"/flow/20/flow_time/$date\"\",\"\"/flow/20/value\"\",\"\"/flow/21/flow_time/$date\"\",\"\"/flow/21/value\"\",\"\"/flow/22/flow_time/$date\"\",\"\"/flow/22/value\"\",\"\"/flow/23/flow_time/$date\"\",\"\"/flow/23/value\"\",\"\"/flow/24/flow_time/$date\"\",\"\"/flow/24/value\"\",\"\"/flow/25/flow_time/$date\"\",\"\"/flow/25/value\"\",\"\"/flow/26/flow_time/$date\"\",\"\"/flow/26/value\"\",\"\"/flow/27/flow_time/$date\"\",\"\"/flow/27/value\"\",\"\"/flow/28/flow_time/$date\"\",\"\"/flow/28/value\"\",\"\"/flow/29/flow_time/$date\"\",\"\"/flow/29/value\"\",\"\"/flow/3/flow_time/$date\"\",\"\"/flow/3/value\"\",\"\"/flow/30/flow_time/$date\"\",\"\"/flow/30/value\"\",\"\"/flow/31/flow_time/$date\"\",\"\"/flow/31/value\"\",\"\"/flow/32/flow_time/$date\"\",\"\"/flow/32/value\"\",\"\"/flow/33/flow_time/$date\"\",\"\"/flow/33/value\"\",\"\"/flow/34/flow_time/$date\"\",\"\"/flow/34/value\"\",\"\"/flow/35/flow_time/$date\"\",\"\"/flow/35/value\"\",\"\"/flow/36/flow_time/$date\"\",\"\"/flow/36/value\"\",\"\"/flow/37/flow_time/$date\"\",\"\"/flow/37/value\"\",\"\"/flow/38/flow_time/$date\"\",\"\"/flow/38/value\"\",\"\"/flow/39/flow_time/$date\"\",\"\"/flow/39/value\"\",\"\"/flow/4/flow_time/$date\"\",\"\"/flow/4/value\"\",\"\"/flow/40/flow_time/$date\"\",\"\"/flow/40/value\"\",\"\"/flow/41/flow_time/$date\"\",\"\"/flow/41/value\"\",\"\"/flow/42/flow_time/$date\"\",\"\"/flow/42/value\"\",\"\"/flow/43/flow_time/$date\"\",\"\"/flow/43/value\"\",\"\"/flow/44/flow_time/$date\"\",\"\"/flow/44/value\"\",\"\"/flow/45/flow_time/$date\"\",\"\"/flow/45/value\"\",\"\"/flow/46/flow_time/$date\"\",\"\"/flow/46/value\"\",\"\"/flow/47/flow_time/$date\"\",\"\"/flow/47/value\"\",\"\"/flow/48/flow_time/$date\"\",\"\"/flow/48/value\"\",\"\"/flow/49/flow_time/$date\"\",\"\"/flow/49/value\"\",\"\"/flow/5/flow_time/$date\"\",\"\"/flow/5/value\"\",\"\"/flow/50/flow_time/$date\"\",\"\"/flow/50/value\"\",\"\"/flow/51/flow_time/$date\"\",\"\"/flow/51/value\"\",\"\"/flow/52/flow_time/$date\"\",\"\"/flow/52/value\"\",\"\"/flow/53/flow_time/$date\"\",\"\"/flow/53/value\"\",\"\"/flow/54/flow_time/$date\"\",\"\"/flow/54/value\"\",\"\"/flow/55/flow_time/$date\"\",\"\"/flow/55/value\"\",\"\"/flow/56/flow_time/$date\"\",\"\"/flow/56/value\"\",\"\"/flow/57/flow_time/$date\"\",\"\"/flow/57/value\"\",\"\"/flow/58/flow_time/$date\"\",\"\"/flow/58/value\"\",\"\"/flow/59/flow_time/$date\"\",\"\"/flow/59/value\"\",\"\"/flow/6/flow_time/$date\"\",\"\"/flow/6/value\"\",\"\"/flow/60/flow_time/$date\"\",\"\"/flow/60/value\"\",\"\"/flow/61/flow_time/$date\"\",\"\"/flow/61/value\"\",\"\"/flow/62/flow_time/$date\"\",\"\"/flow/62/value\"\",\"\"/flow/63/flow_time/$date\"\",\"\"/flow/63/value\"\",\"\"/flow/64/flow_time/$date\"\",\"\"/flow/64/value\"\",\"\"/flow/65/flow_time/$date\"\",\"\"/flow/65/value\"\",\"\"/flow/66/flow_time/$date\"\",\"\"/flow/66/value\"\",\"\"/flow/67/flow_time/$date\"\",\"\"/flow/67/value\"\",\"\"/flow/68/flow_time/$date\"\",\"\"/flow/68/value\"\",\"\"/flow/69/flow_time/$date\"\",\"\"/flow/69/value\"\",\"\"/flow/7/flow_time/$date\"\",\"\"/flow/7/value\"\",\"\"/flow/70/flow_time/$date\"\",\"\"/flow/70/value\"\",\"\"/flow/71/flow_time/$date\"\",\"\"/flow/71/value\"\",\"\"/flow/72/flow_time/$date\"\",\"\"/flow/72/value\"\",\"\"/flow/73/flow_time/$date\"\",\"\"/flow/73/value\"\",\"\"/flow/74/flow_time/$date\"\",\"\"/flow/74/value\"\",\"\"/flow/75/flow_time/$date\"\",\"\"/flow/75/value\"\",\"\"/flow/76/flow_time/$date\"\",\"\"/flow/76/value\"\",\"\"/flow/77/flow_time/$date\"\",\"\"/flow/77/value\"\",\"\"/flow/78/flow_time/$date\"\",\"\"/flow/78/value\"\",\"\"/flow/79/flow_time/$date\"\",\"\"/flow/79/value\"\",\"\"/flow/8/flow_time/$date\"\",\"\"/flow/8/value\"\",\"\"/flow/80/flow_time/$date\"\",\"\"/flow/80/value\"\",\"\"/flow/81/flow_time/$date\"\",\"\"/flow/81/value\"\",\"\"/flow/82/flow_time/$date\"\",\"\"/flow/82/value\"\",\"\"/flow/83/flow_time/$date\"\",\"\"/flow/83/value\"\",\"\"/flow/84/flow_time/$date\"\",\"\"/flow/84/value\"\",\"\"/flow/85/flow_time/$date\"\",\"\"/flow/85/value\"\",\"\"/flow/86/flow_time/$date\"\",\"\"/flow/86/value\"\",\"\"/flow/87/flow_time/$date\"\",\"\"/flow/87/value\"\",\"\"/flow/88/flow_time/$date\"\",\"\"/flow/88/value\"\",\"\"/flow/89/flow_time/$date\"\",\"\"/flow/89/value\"\",\"\"/flow/9/flow_time/$date\"\",\"\"/flow/9/value\"\",\"\"/flow/90/flow_time/$date\"\",\"\"/flow/90/value\"\",\"\"/flow/91/flow_time/$date\"\",\"\"/flow/91/value\"\",\"\"/flow/92/flow_time/$date\"\",\"\"/flow/92/value\"\",\"\"/flow/93/flow_time/$date\"\",\"\"/flow/93/value\"\",\"\"/flow/94/flow_time/$date\"\",\"\"/flow/94/value\"\",\"\"/flow/95/flow_time/$date\"\",\"\"/flow/95/value\"\",\"\"/flow/96/flow_time/$date\"\",\"\"/flow/96/value\"\",\"\"/flow/97/flow_time/$date\"\",\"\"/flow/97/value\"\",\"\"/flow/98/flow_time/$date\"\",\"\"/flow/98/value\"\",\"\"/start_time/$date\"\",\"\"/uid/$oid\"\"\"\n",
      "\n"
     ]
    }
   ],
   "source": [
    "mapping = {}\n",
    "mapping = extractKeys('raw_data/checkin_uid_mapped.csv', mapping=mapping)\n",
    "mapping = extractKeys('raw_data/periods_uid_mapped.csv', mapping=mapping)"
   ]
  },
  {
   "cell_type": "code",
   "execution_count": 70,
   "id": "72836d25-c818-4dfd-a2d9-9bf45c528583",
   "metadata": {},
   "outputs": [
    {
     "data": {
      "text/plain": [
       "(42619, 1)"
      ]
     },
     "execution_count": 70,
     "metadata": {},
     "output_type": "execute_result"
    }
   ],
   "source": [
    "frame = pd.DataFrame.from_dict(mapping, orient='index', columns=['healthid'])\n",
    "frame.shape"
   ]
  },
  {
   "cell_type": "code",
   "execution_count": 71,
   "id": "51712274-0c47-4215-b0f4-b3ff37d322d2",
   "metadata": {},
   "outputs": [],
   "source": [
    "frame['communityid'] = frame.index.values"
   ]
  },
  {
   "cell_type": "code",
   "execution_count": 72,
   "id": "24eb892d-448b-453b-9ecd-15820ede1dbe",
   "metadata": {},
   "outputs": [
    {
     "data": {
      "text/html": [
       "<div>\n",
       "<style scoped>\n",
       "    .dataframe tbody tr th:only-of-type {\n",
       "        vertical-align: middle;\n",
       "    }\n",
       "\n",
       "    .dataframe tbody tr th {\n",
       "        vertical-align: top;\n",
       "    }\n",
       "\n",
       "    .dataframe thead th {\n",
       "        text-align: right;\n",
       "    }\n",
       "</style>\n",
       "<table border=\"1\" class=\"dataframe\">\n",
       "  <thead>\n",
       "    <tr style=\"text-align: right;\">\n",
       "      <th></th>\n",
       "      <th>healthid</th>\n",
       "      <th>communityid</th>\n",
       "    </tr>\n",
       "  </thead>\n",
       "  <tbody>\n",
       "    <tr>\n",
       "      <th>5e4a9bb73c52676149bb86f2</th>\n",
       "      <td>5f8e89640054a6c5fab1544d</td>\n",
       "      <td>5e4a9bb73c52676149bb86f2</td>\n",
       "    </tr>\n",
       "    <tr>\n",
       "      <th>5efa276ea61e8a770265691e</th>\n",
       "      <td>5f8e90320054a6c5fab1544e</td>\n",
       "      <td>5efa276ea61e8a770265691e</td>\n",
       "    </tr>\n",
       "    <tr>\n",
       "      <th>5efb7a38be8ac404c2a8f8e9</th>\n",
       "      <td>5f8f274466dae0d0328adb80</td>\n",
       "      <td>5efb7a38be8ac404c2a8f8e9</td>\n",
       "    </tr>\n",
       "    <tr>\n",
       "      <th>5edfc5e819e422142035b922</th>\n",
       "      <td>5f8f175466dae0d0328adb76</td>\n",
       "      <td>5edfc5e819e422142035b922</td>\n",
       "    </tr>\n",
       "    <tr>\n",
       "      <th>5e81f0663e55077bcf96dfc1</th>\n",
       "      <td>5f8f260566dae0d0328adb7e</td>\n",
       "      <td>5e81f0663e55077bcf96dfc1</td>\n",
       "    </tr>\n",
       "  </tbody>\n",
       "</table>\n",
       "</div>"
      ],
      "text/plain": [
       "                                          healthid               communityid\n",
       "5e4a9bb73c52676149bb86f2  5f8e89640054a6c5fab1544d  5e4a9bb73c52676149bb86f2\n",
       "5efa276ea61e8a770265691e  5f8e90320054a6c5fab1544e  5efa276ea61e8a770265691e\n",
       "5efb7a38be8ac404c2a8f8e9  5f8f274466dae0d0328adb80  5efb7a38be8ac404c2a8f8e9\n",
       "5edfc5e819e422142035b922  5f8f175466dae0d0328adb76  5edfc5e819e422142035b922\n",
       "5e81f0663e55077bcf96dfc1  5f8f260566dae0d0328adb7e  5e81f0663e55077bcf96dfc1"
      ]
     },
     "execution_count": 72,
     "metadata": {},
     "output_type": "execute_result"
    }
   ],
   "source": [
    "frame.head()"
   ]
  },
  {
   "cell_type": "code",
   "execution_count": 57,
   "id": "76c19e26-8b24-4be6-88a2-b574c4baa2b8",
   "metadata": {},
   "outputs": [
    {
     "name": "stdout",
     "output_type": "stream",
     "text": [
      "env: AWS_PROFILE=opensci\n"
     ]
    }
   ],
   "source": [
    "%set_env AWS_PROFILE=opensci"
   ]
  },
  {
   "cell_type": "code",
   "execution_count": 74,
   "id": "930c306c-6ca9-4b96-940f-18257e6f4803",
   "metadata": {},
   "outputs": [
    {
     "data": {
      "text/plain": [
       "{'paths': ['s3://menolife-opensci/dataset/mapping/7d81ce2707e647a2be5c6076bf2188bc.snappy.parquet'],\n",
       " 'partitions_values': {}}"
      ]
     },
     "execution_count": 74,
     "metadata": {},
     "output_type": "execute_result"
    }
   ],
   "source": [
    "# Storing the mapping data on Data Lake\n",
    "wr.s3.to_parquet(\n",
    "    df=frame,\n",
    "    path=\"s3://menolife-opensci/dataset/mapping/\",\n",
    "    dataset=True,\n",
    "    database=\"menolife\",\n",
    "    table=\"uid_mapping\",\n",
    "    index=True\n",
    ")"
   ]
  },
  {
   "cell_type": "code",
   "execution_count": null,
   "id": "9674ac60-71ef-4893-970d-d6853df4f4a0",
   "metadata": {},
   "outputs": [],
   "source": []
  }
 ],
 "metadata": {
  "kernelspec": {
   "display_name": "Python 3 (ipykernel)",
   "language": "python",
   "name": "python3"
  },
  "language_info": {
   "codemirror_mode": {
    "name": "ipython",
    "version": 3
   },
   "file_extension": ".py",
   "mimetype": "text/x-python",
   "name": "python",
   "nbconvert_exporter": "python",
   "pygments_lexer": "ipython3",
   "version": "3.11.3"
  }
 },
 "nbformat": 4,
 "nbformat_minor": 5
}
